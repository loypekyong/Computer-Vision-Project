{
 "cells": [
  {
   "cell_type": "code",
   "execution_count": 1,
   "id": "10176370",
   "metadata": {
    "_cell_guid": "b1076dfc-b9ad-4769-8c92-a6c4dae69d19",
    "_uuid": "8f2839f25d086af736a60e9eeb907d3b93b6e0e5",
    "execution": {
     "iopub.execute_input": "2024-12-12T04:40:08.671618Z",
     "iopub.status.busy": "2024-12-12T04:40:08.670842Z",
     "iopub.status.idle": "2024-12-12T04:40:09.507028Z",
     "shell.execute_reply": "2024-12-12T04:40:09.506127Z"
    },
    "papermill": {
     "duration": 0.847072,
     "end_time": "2024-12-12T04:40:09.509152",
     "exception": false,
     "start_time": "2024-12-12T04:40:08.662080",
     "status": "completed"
    },
    "tags": []
   },
   "outputs": [],
   "source": [
    "# This Python 3 environment comes with many helpful analytics libraries installed\n",
    "# It is defined by the kaggle/python Docker image: https://github.com/kaggle/docker-python\n",
    "# For example, here's several helpful packages to load\n",
    "\n",
    "import numpy as np # linear algebra\n",
    "import pandas as pd # data processing, CSV file I/O (e.g. pd.read_csv)\n",
    "\n",
    "# Input data files are available in the read-only \"../input/\" directory\n",
    "# For example, running this (by clicking run or pressing Shift+Enter) will list all files under the input directory\n",
    "\n",
    "# import os\n",
    "# for dirname, _, filenames in os.walk('/kaggle/input'):\n",
    "#     for filename in filenames:\n",
    "#         print(os.path.join(dirname, filename))\n",
    "\n",
    "# You can write up to 20GB to the current directory (/kaggle/working/) that gets preserved as output when you create a version using \"Save & Run All\" \n",
    "# You can also write temporary files to /kaggle/temp/, but they won't be saved outside of the current session"
   ]
  },
  {
   "cell_type": "markdown",
   "id": "1f7eed17",
   "metadata": {
    "papermill": {
     "duration": 0.007572,
     "end_time": "2024-12-12T04:40:09.524931",
     "exception": false,
     "start_time": "2024-12-12T04:40:09.517359",
     "status": "completed"
    },
    "tags": []
   },
   "source": [
    "## Import libraries"
   ]
  },
  {
   "cell_type": "code",
   "execution_count": 2,
   "id": "3ab252c6",
   "metadata": {
    "execution": {
     "iopub.execute_input": "2024-12-12T04:40:09.539520Z",
     "iopub.status.busy": "2024-12-12T04:40:09.539176Z",
     "iopub.status.idle": "2024-12-12T04:40:10.001887Z",
     "shell.execute_reply": "2024-12-12T04:40:10.000945Z"
    },
    "papermill": {
     "duration": 0.472443,
     "end_time": "2024-12-12T04:40:10.004141",
     "exception": false,
     "start_time": "2024-12-12T04:40:09.531698",
     "status": "completed"
    },
    "tags": []
   },
   "outputs": [],
   "source": [
    "import pandas as pd\n",
    "import cv2\n",
    "import numpy as np\n",
    "import os\n",
    "import glob\n",
    "import pydicom"
   ]
  },
  {
   "cell_type": "code",
   "execution_count": 3,
   "id": "e4b9dd49",
   "metadata": {
    "execution": {
     "iopub.execute_input": "2024-12-12T04:40:10.019098Z",
     "iopub.status.busy": "2024-12-12T04:40:10.018808Z",
     "iopub.status.idle": "2024-12-12T04:40:11.036891Z",
     "shell.execute_reply": "2024-12-12T04:40:11.036065Z"
    },
    "papermill": {
     "duration": 1.027721,
     "end_time": "2024-12-12T04:40:11.038963",
     "exception": false,
     "start_time": "2024-12-12T04:40:10.011242",
     "status": "completed"
    },
    "tags": []
   },
   "outputs": [
    {
     "name": "stdout",
     "output_type": "stream",
     "text": [
      "/kaggle/working\r\n"
     ]
    }
   ],
   "source": [
    "!pwd"
   ]
  },
  {
   "cell_type": "markdown",
   "id": "d1a06cec",
   "metadata": {
    "papermill": {
     "duration": 0.006632,
     "end_time": "2024-12-12T04:40:11.052734",
     "exception": false,
     "start_time": "2024-12-12T04:40:11.046102",
     "status": "completed"
    },
    "tags": []
   },
   "source": [
    "## Combine the 3 files first"
   ]
  },
  {
   "cell_type": "code",
   "execution_count": 4,
   "id": "c0e3da40",
   "metadata": {
    "execution": {
     "iopub.execute_input": "2024-12-12T04:40:11.067347Z",
     "iopub.status.busy": "2024-12-12T04:40:11.067063Z",
     "iopub.status.idle": "2024-12-12T04:40:12.060455Z",
     "shell.execute_reply": "2024-12-12T04:40:12.059451Z"
    },
    "papermill": {
     "duration": 1.003385,
     "end_time": "2024-12-12T04:40:12.062609",
     "exception": false,
     "start_time": "2024-12-12T04:40:11.059224",
     "status": "completed"
    },
    "tags": []
   },
   "outputs": [],
   "source": [
    "csv_files = [\n",
    "    '/kaggle/input/lsdc-csv-files/output_ss.csv',\n",
    "    '/kaggle/input/lsdc-csv-files/output_scs.csv',\n",
    "    '/kaggle/input/lsdc-csv-files/output_nfn.csv'\n",
    "]\n",
    "\n",
    "dataframes = []\n",
    "\n",
    "for file in csv_files:\n",
    "    df = pd.read_csv(file)\n",
    "    dataframes.append(df)\n",
    "\n",
    "combined_df = pd.concat(dataframes, ignore_index=True)\n",
    "\n",
    "output_csv_file = '/kaggle/working/combined_output.csv'\n",
    "combined_df.to_csv(output_csv_file, index=False)"
   ]
  },
  {
   "cell_type": "markdown",
   "id": "b7a9058c",
   "metadata": {
    "papermill": {
     "duration": 0.006503,
     "end_time": "2024-12-12T04:40:12.076115",
     "exception": false,
     "start_time": "2024-12-12T04:40:12.069612",
     "status": "completed"
    },
    "tags": []
   },
   "source": [
    "## Extract images from zip and crop"
   ]
  },
  {
   "cell_type": "code",
   "execution_count": 5,
   "id": "bfc79378",
   "metadata": {
    "execution": {
     "iopub.execute_input": "2024-12-12T04:40:12.090690Z",
     "iopub.status.busy": "2024-12-12T04:40:12.090443Z",
     "iopub.status.idle": "2024-12-12T04:40:12.094045Z",
     "shell.execute_reply": "2024-12-12T04:40:12.093300Z"
    },
    "papermill": {
     "duration": 0.012887,
     "end_time": "2024-12-12T04:40:12.095744",
     "exception": false,
     "start_time": "2024-12-12T04:40:12.082857",
     "status": "completed"
    },
    "tags": []
   },
   "outputs": [],
   "source": [
    "# zip_file_path = '/kaggle/input/lsdc-get-all-images/images.zip'\n",
    "# extract_dir = '/kaggle/working/images'\n",
    "\n",
    "# # Create a directory to extract the images\n",
    "# os.makedirs(extract_dir, exist_ok=True)\n",
    "\n",
    "# # Unzip the file\n",
    "# with zipfile.ZipFile(zip_file_path, 'r') as zip_ref:\n",
    "#     zip_ref.extractall(extract_dir)\n",
    "\n"
   ]
  },
  {
   "cell_type": "code",
   "execution_count": 6,
   "id": "4bffd1c9",
   "metadata": {
    "execution": {
     "iopub.execute_input": "2024-12-12T04:40:12.110162Z",
     "iopub.status.busy": "2024-12-12T04:40:12.109910Z",
     "iopub.status.idle": "2024-12-12T04:40:12.113413Z",
     "shell.execute_reply": "2024-12-12T04:40:12.112784Z"
    },
    "papermill": {
     "duration": 0.0123,
     "end_time": "2024-12-12T04:40:12.114870",
     "exception": false,
     "start_time": "2024-12-12T04:40:12.102570",
     "status": "completed"
    },
    "tags": []
   },
   "outputs": [],
   "source": [
    "# !rm -rf /kaggle/working/cropped_images"
   ]
  },
  {
   "cell_type": "markdown",
   "id": "83a913ab",
   "metadata": {
    "papermill": {
     "duration": 0.006285,
     "end_time": "2024-12-12T04:40:12.127825",
     "exception": false,
     "start_time": "2024-12-12T04:40:12.121540",
     "status": "completed"
    },
    "tags": []
   },
   "source": [
    "### Download zip file from Kaggle"
   ]
  },
  {
   "cell_type": "code",
   "execution_count": 7,
   "id": "78993919",
   "metadata": {
    "execution": {
     "iopub.execute_input": "2024-12-12T04:40:12.141725Z",
     "iopub.status.busy": "2024-12-12T04:40:12.141515Z",
     "iopub.status.idle": "2024-12-12T04:40:12.146224Z",
     "shell.execute_reply": "2024-12-12T04:40:12.145527Z"
    },
    "papermill": {
     "duration": 0.013376,
     "end_time": "2024-12-12T04:40:12.147630",
     "exception": false,
     "start_time": "2024-12-12T04:40:12.134254",
     "status": "completed"
    },
    "tags": []
   },
   "outputs": [],
   "source": [
    "import os\n",
    "import subprocess\n",
    "from IPython.display import FileLink, display\n",
    "\n",
    "def download_file(path, download_file_name):\n",
    "    os.chdir('/kaggle/working/')\n",
    "    zip_name = f\"/kaggle/working/{download_file_name}.zip\"\n",
    "    command = f\"zip {zip_name} {path} -r\"\n",
    "    result = subprocess.run(command, shell=True, capture_output=True, text=True)\n",
    "    if result.returncode != 0:\n",
    "        print(\"Unable to run zip command!\")\n",
    "        print(result.stderr)\n",
    "        return\n",
    "    display(FileLink(f'{download_file_name}.zip'))"
   ]
  },
  {
   "cell_type": "code",
   "execution_count": 8,
   "id": "ee1902d2",
   "metadata": {
    "execution": {
     "iopub.execute_input": "2024-12-12T04:40:12.161560Z",
     "iopub.status.busy": "2024-12-12T04:40:12.161344Z",
     "iopub.status.idle": "2024-12-12T04:40:12.164586Z",
     "shell.execute_reply": "2024-12-12T04:40:12.163942Z"
    },
    "papermill": {
     "duration": 0.011899,
     "end_time": "2024-12-12T04:40:12.166116",
     "exception": false,
     "start_time": "2024-12-12T04:40:12.154217",
     "status": "completed"
    },
    "tags": []
   },
   "outputs": [],
   "source": [
    "# download_file('/kaggle/input/lsdc-get-all-images/images.zip', 'out')"
   ]
  },
  {
   "cell_type": "code",
   "execution_count": 9,
   "id": "f736f063",
   "metadata": {
    "execution": {
     "iopub.execute_input": "2024-12-12T04:40:12.180242Z",
     "iopub.status.busy": "2024-12-12T04:40:12.179953Z",
     "iopub.status.idle": "2024-12-12T04:40:12.183264Z",
     "shell.execute_reply": "2024-12-12T04:40:12.182616Z"
    },
    "papermill": {
     "duration": 0.011843,
     "end_time": "2024-12-12T04:40:12.184679",
     "exception": false,
     "start_time": "2024-12-12T04:40:12.172836",
     "status": "completed"
    },
    "tags": []
   },
   "outputs": [],
   "source": [
    "# import shutil\n",
    "\n",
    "# # Create a new ZIP file to download\n",
    "# shutil.make_archive('/kaggle/working/downloaded_images', 'zip', extract_dir)"
   ]
  },
  {
   "cell_type": "markdown",
   "id": "90a25f26",
   "metadata": {
    "papermill": {
     "duration": 0.006205,
     "end_time": "2024-12-12T04:40:12.197224",
     "exception": false,
     "start_time": "2024-12-12T04:40:12.191019",
     "status": "completed"
    },
    "tags": []
   },
   "source": [
    "# Create cropped_images"
   ]
  },
  {
   "cell_type": "markdown",
   "id": "fef2c278",
   "metadata": {
    "papermill": {
     "duration": 0.006275,
     "end_time": "2024-12-12T04:40:12.211417",
     "exception": false,
     "start_time": "2024-12-12T04:40:12.205142",
     "status": "completed"
    },
    "tags": []
   },
   "source": [
    "### Note: Process currently cannot be done in kaggle due to frequent crashing, do in local or elsewhere"
   ]
  },
  {
   "cell_type": "code",
   "execution_count": 10,
   "id": "94d65316",
   "metadata": {
    "execution": {
     "iopub.execute_input": "2024-12-12T04:40:12.225404Z",
     "iopub.status.busy": "2024-12-12T04:40:12.225158Z",
     "iopub.status.idle": "2024-12-12T04:40:12.229604Z",
     "shell.execute_reply": "2024-12-12T04:40:12.228879Z"
    },
    "papermill": {
     "duration": 0.013368,
     "end_time": "2024-12-12T04:40:12.231258",
     "exception": false,
     "start_time": "2024-12-12T04:40:12.217890",
     "status": "completed"
    },
    "tags": []
   },
   "outputs": [],
   "source": [
    "# import cv2\n",
    "# import zipfile\n",
    "# from PIL import Image\n",
    "# import io\n",
    "\n",
    "# # Path to the zip file\n",
    "# zip_file_path = '/kaggle/input/lsdc-get-all-images/images.zip'\n",
    "\n",
    "# # Load the CSV file\n",
    "# df = pd.read_csv('/kaggle/working/combined_output.csv')\n",
    "\n",
    "# required_columns = ['image_name', 'x1', 'x2', 'y1', 'y2']\n",
    "# if not all(column in df.columns for column in required_columns):\n",
    "#     raise ValueError(\"The CSV file is missing required columns.\")\n",
    "\n",
    "# cropped_dir = '/kaggle/working/cropped_images'\n",
    "# if not os.path.exists(cropped_dir):\n",
    "#     os.makedirs(cropped_dir)\n",
    "\n",
    "# invalid_shape_count = 0\n",
    "# cropped_size_0 = 0\n",
    "# key_error_indices = []\n",
    "\n",
    "# with zipfile.ZipFile(zip_file_path, 'r') as zip_ref:\n",
    "#     for index, row in df.iterrows():\n",
    "#         img_name = \"images/\" + row['image_name'].replace('_', '/')\n",
    "#         cropped_filename = os.path.join(cropped_dir, os.path.basename(img_name))\n",
    "#         re_img_name = row['image_name'].replace('_', '\\\\')\n",
    "#         path_name = os.path.join(cropped_dir, str(row['image_name'].replace(\".jpg\", \"\"))+\"@\"+str(row[\"_cls\"]).rsplit(\"_\", 1)[0]+\".jpg\")\n",
    "#         # print(cropped_filename, path_name)\n",
    "#         # break\n",
    "        \n",
    "#         if os.path.exists(cropped_filename):\n",
    "#             continue \n",
    "\n",
    "#         try:\n",
    "#             with zip_ref.open(img_name) as img_file:\n",
    "#                 img = Image.open(img_file)\n",
    "#                 img = cv2.cvtColor(np.array(img), cv2.COLOR_RGB2BGR)\n",
    "\n",
    "#             x1, x2, y1, y2 = row['x1'], row['x2'], row['y1'], row['y2']\n",
    "\n",
    "#             # Check cropping coordinates\n",
    "#             if x1 < 0 or x2 > img.shape[1] or y1 < 0 or y2 > img.shape[0]:\n",
    "#                 # print(f\"Invalid cropping coordinates for {img_name}: x1={x1}, x2={x2}, y1={y1}, y2={y2}\")\n",
    "#                 invalid_shape_count += 1\n",
    "#                 continue\n",
    "\n",
    "#             cropped_img = img[y1:y2, x1:x2]\n",
    "\n",
    "#             if cropped_img.size == 0:\n",
    "#                 # print(f\"Error: Cropped image is empty for {img_name}.\")\n",
    "#                 cropped_size_0 += 1\n",
    "#                 continue\n",
    "#             cv2.imwrite(cropped_filename, cropped_img)  # Save the cropped image using \n",
    "#             os.rename(cropped_filename, path_name)\n",
    "#             # print(f\"Saved cropped image: {cropped_filename}\")\n",
    "\n",
    "#         except Exception as e:\n",
    "#             # print(f\"Error processing {img_name}: {str(e)}\")\n",
    "#             key_error_indices.append(index)\n",
    "\n",
    "# if key_error_indices:\n",
    "#     df_cleaned = df.drop(index=key_error_indices)\n",
    "#     new_csv_path = '/kaggle/working/cleaned_combined_output.csv'\n",
    "#     df_cleaned.to_csv(new_csv_path, index=False)\n",
    "#     print(f\"New CSV file saved without KeyErrors: {new_csv_path}\")"
   ]
  },
  {
   "cell_type": "markdown",
   "id": "31ec4357",
   "metadata": {
    "papermill": {
     "duration": 0.006513,
     "end_time": "2024-12-12T04:40:12.244354",
     "exception": false,
     "start_time": "2024-12-12T04:40:12.237841",
     "status": "completed"
    },
    "tags": []
   },
   "source": [
    "### Check for bounding boxes that are invalid"
   ]
  },
  {
   "cell_type": "code",
   "execution_count": 11,
   "id": "d8cd799f",
   "metadata": {
    "execution": {
     "iopub.execute_input": "2024-12-12T04:40:12.258032Z",
     "iopub.status.busy": "2024-12-12T04:40:12.257773Z",
     "iopub.status.idle": "2024-12-12T04:40:12.260960Z",
     "shell.execute_reply": "2024-12-12T04:40:12.260190Z"
    },
    "papermill": {
     "duration": 0.011767,
     "end_time": "2024-12-12T04:40:12.262521",
     "exception": false,
     "start_time": "2024-12-12T04:40:12.250754",
     "status": "completed"
    },
    "tags": []
   },
   "outputs": [],
   "source": [
    "# print(len(key_error_indices))\n",
    "# print(Invalid_shape_count)\n",
    "# print(cropped_size_0)"
   ]
  },
  {
   "cell_type": "markdown",
   "id": "921be228",
   "metadata": {
    "papermill": {
     "duration": 0.006465,
     "end_time": "2024-12-12T04:40:12.275921",
     "exception": false,
     "start_time": "2024-12-12T04:40:12.269456",
     "status": "completed"
    },
    "tags": []
   },
   "source": [
    "### Check naming scheme in notebook"
   ]
  },
  {
   "cell_type": "code",
   "execution_count": 12,
   "id": "f5a4c375",
   "metadata": {
    "execution": {
     "iopub.execute_input": "2024-12-12T04:40:12.290072Z",
     "iopub.status.busy": "2024-12-12T04:40:12.289799Z",
     "iopub.status.idle": "2024-12-12T04:40:12.293145Z",
     "shell.execute_reply": "2024-12-12T04:40:12.292467Z"
    },
    "papermill": {
     "duration": 0.012161,
     "end_time": "2024-12-12T04:40:12.294762",
     "exception": false,
     "start_time": "2024-12-12T04:40:12.282601",
     "status": "completed"
    },
    "tags": []
   },
   "outputs": [],
   "source": [
    "# zip_file_path = '/kaggle/input/lsdc-get-all-images/images.zip'\n",
    "\n",
    "# # Open the zip file\n",
    "# with zipfile.ZipFile(zip_file_path, 'r') as zip_ref:\n",
    "#     # Get the list of all file names in the zip\n",
    "#     image_names = zip_ref.namelist()\n",
    "\n",
    "# # Print the names of the images\n",
    "# print(len(image_names))\n",
    "# print(image_names[0:10])"
   ]
  },
  {
   "cell_type": "code",
   "execution_count": 13,
   "id": "abbaa21e",
   "metadata": {
    "execution": {
     "iopub.execute_input": "2024-12-12T04:40:12.308713Z",
     "iopub.status.busy": "2024-12-12T04:40:12.308467Z",
     "iopub.status.idle": "2024-12-12T04:40:12.311693Z",
     "shell.execute_reply": "2024-12-12T04:40:12.310907Z"
    },
    "papermill": {
     "duration": 0.012147,
     "end_time": "2024-12-12T04:40:12.313406",
     "exception": false,
     "start_time": "2024-12-12T04:40:12.301259",
     "status": "completed"
    },
    "tags": []
   },
   "outputs": [],
   "source": [
    "# Load the CSV file\n",
    "# df = pd.read_csv('/kaggle/working/cleaned_combined_output.csv')\n",
    "# print(len(df))"
   ]
  },
  {
   "cell_type": "code",
   "execution_count": null,
   "id": "c974b46f",
   "metadata": {
    "papermill": {
     "duration": 0.006406,
     "end_time": "2024-12-12T04:40:12.326237",
     "exception": false,
     "start_time": "2024-12-12T04:40:12.319831",
     "status": "completed"
    },
    "tags": []
   },
   "outputs": [],
   "source": []
  },
  {
   "cell_type": "code",
   "execution_count": 14,
   "id": "a61e847b",
   "metadata": {
    "execution": {
     "iopub.execute_input": "2024-12-12T04:40:12.340047Z",
     "iopub.status.busy": "2024-12-12T04:40:12.339733Z",
     "iopub.status.idle": "2024-12-12T04:40:12.343133Z",
     "shell.execute_reply": "2024-12-12T04:40:12.342361Z"
    },
    "papermill": {
     "duration": 0.011972,
     "end_time": "2024-12-12T04:40:12.344647",
     "exception": false,
     "start_time": "2024-12-12T04:40:12.332675",
     "status": "completed"
    },
    "tags": []
   },
   "outputs": [],
   "source": [
    "# !rm -rf /kaggle/working/*"
   ]
  },
  {
   "cell_type": "code",
   "execution_count": 15,
   "id": "27de1f79",
   "metadata": {
    "execution": {
     "iopub.execute_input": "2024-12-12T04:40:12.358367Z",
     "iopub.status.busy": "2024-12-12T04:40:12.358134Z",
     "iopub.status.idle": "2024-12-12T04:40:12.364485Z",
     "shell.execute_reply": "2024-12-12T04:40:12.363561Z"
    },
    "papermill": {
     "duration": 0.014933,
     "end_time": "2024-12-12T04:40:12.366086",
     "exception": false,
     "start_time": "2024-12-12T04:40:12.351153",
     "status": "completed"
    },
    "tags": []
   },
   "outputs": [
    {
     "name": "stdout",
     "output_type": "stream",
     "text": [
      "/kaggle/input/lsdc-csv-files\n",
      "/kaggle/input/ldsc-metadata\n",
      "/kaggle/input/lsdc-fold-split\n",
      "/kaggle/input/rsna-2024-lumbar-spine-degenerative-classification\n",
      "/kaggle/input/lsdc-get-all-images\n",
      "/kaggle/input/lsdc-imag-2\n"
     ]
    }
   ],
   "source": [
    "# for dirname, _, filenames in os.walk('/kaggle/input'):\n",
    "#     if not \"/kaggle/input/rsna-2024-lumbar-spine-degenerative-classification\" in dirname:\n",
    "#         print(dirname)\n",
    "\n",
    "for dirname in os.listdir('/kaggle/input'):\n",
    "    full_path = os.path.join('/kaggle/input', dirname)\n",
    "    if os.path.isdir(full_path):  # Check if it's a directory\n",
    "        print(full_path)"
   ]
  },
  {
   "cell_type": "markdown",
   "id": "7c7c1b52",
   "metadata": {
    "papermill": {
     "duration": 0.006558,
     "end_time": "2024-12-12T04:40:12.379405",
     "exception": false,
     "start_time": "2024-12-12T04:40:12.372847",
     "status": "completed"
    },
    "tags": []
   },
   "source": [
    "### Check sample of cropped images"
   ]
  },
  {
   "cell_type": "code",
   "execution_count": 16,
   "id": "0d73cdd6",
   "metadata": {
    "execution": {
     "iopub.execute_input": "2024-12-12T04:40:12.393775Z",
     "iopub.status.busy": "2024-12-12T04:40:12.393531Z",
     "iopub.status.idle": "2024-12-12T04:41:09.155917Z",
     "shell.execute_reply": "2024-12-12T04:41:09.155111Z"
    },
    "papermill": {
     "duration": 56.777998,
     "end_time": "2024-12-12T04:41:09.164493",
     "exception": false,
     "start_time": "2024-12-12T04:40:12.386495",
     "status": "completed"
    },
    "tags": []
   },
   "outputs": [
    {
     "name": "stdout",
     "output_type": "stream",
     "text": [
      "15490\n"
     ]
    }
   ],
   "source": [
    "from IPython.display import display\n",
    "from PIL import Image\n",
    "# Directory containing cropped images\n",
    "cropped_dir = '/kaggle/input/lsdc-imag-2/cropped_images_2'\n",
    "i = 0\n",
    "\n",
    "\n",
    "# Iterate through the cropped images\n",
    "for filename in os.listdir(cropped_dir):\n",
    "    if filename.endswith('.jpg') or filename.endswith('.png'):  # Adjust based on your image format\n",
    "        # Load the image\n",
    "        img_path = os.path.join(cropped_dir, filename)\n",
    "        img = Image.open(img_path)\n",
    "        \n",
    "        # Display the image\n",
    "        # display(img)\n",
    "        # print(img_path)\n",
    "        i += 1\n",
    "print(i)"
   ]
  },
  {
   "cell_type": "code",
   "execution_count": 17,
   "id": "accb7e05",
   "metadata": {
    "execution": {
     "iopub.execute_input": "2024-12-12T04:41:09.179342Z",
     "iopub.status.busy": "2024-12-12T04:41:09.179087Z",
     "iopub.status.idle": "2024-12-12T04:41:09.202867Z",
     "shell.execute_reply": "2024-12-12T04:41:09.201981Z"
    },
    "papermill": {
     "duration": 0.033184,
     "end_time": "2024-12-12T04:41:09.204481",
     "exception": false,
     "start_time": "2024-12-12T04:41:09.171297",
     "status": "completed"
    },
    "tags": []
   },
   "outputs": [
    {
     "name": "stdout",
     "output_type": "stream",
     "text": [
      "/kaggle/input/lsdc-imag-2/cropped_images_2/1979480595_192414264_29@left_subarticular_stenosis_l2_l3.jpg\n"
     ]
    }
   ],
   "source": [
    "print([os.path.join(cropped_dir, filename) for filename in os.listdir(cropped_dir)][3])"
   ]
  },
  {
   "cell_type": "code",
   "execution_count": 18,
   "id": "888cf799",
   "metadata": {
    "execution": {
     "iopub.execute_input": "2024-12-12T04:41:09.218853Z",
     "iopub.status.busy": "2024-12-12T04:41:09.218444Z",
     "iopub.status.idle": "2024-12-12T04:41:09.222362Z",
     "shell.execute_reply": "2024-12-12T04:41:09.221567Z"
    },
    "papermill": {
     "duration": 0.012837,
     "end_time": "2024-12-12T04:41:09.223924",
     "exception": false,
     "start_time": "2024-12-12T04:41:09.211087",
     "status": "completed"
    },
    "tags": []
   },
   "outputs": [
    {
     "name": "stdout",
     "output_type": "stream",
     "text": [
      "/kaggle/input/lsdc-imag-2/cropped_images_2\n"
     ]
    }
   ],
   "source": [
    "print(cropped_dir)"
   ]
  },
  {
   "cell_type": "markdown",
   "id": "26d54f77",
   "metadata": {
    "papermill": {
     "duration": 0.006559,
     "end_time": "2024-12-12T04:41:09.237081",
     "exception": false,
     "start_time": "2024-12-12T04:41:09.230522",
     "status": "completed"
    },
    "tags": []
   },
   "source": [
    "### Clean the csv file of invalid samples"
   ]
  },
  {
   "cell_type": "code",
   "execution_count": 19,
   "id": "a3e68583",
   "metadata": {
    "execution": {
     "iopub.execute_input": "2024-12-12T04:41:09.251966Z",
     "iopub.status.busy": "2024-12-12T04:41:09.251732Z",
     "iopub.status.idle": "2024-12-12T04:41:10.243921Z",
     "shell.execute_reply": "2024-12-12T04:41:10.243161Z"
    },
    "papermill": {
     "duration": 1.001407,
     "end_time": "2024-12-12T04:41:10.245792",
     "exception": false,
     "start_time": "2024-12-12T04:41:09.244385",
     "status": "completed"
    },
    "tags": []
   },
   "outputs": [
    {
     "name": "stdout",
     "output_type": "stream",
     "text": [
      "15490\n",
      "166255118_1665536927_21@left_subarticular_stenosis_l5_s1.jpg\n",
      "True\n"
     ]
    }
   ],
   "source": [
    "# Step 1: Load the CSV file\n",
    "df = pd.read_csv('/kaggle/working/combined_output.csv')\n",
    "\n",
    "# Step 2: List the images in the folder\n",
    "images_folder = '/kaggle/input/lsdc-imag-2/cropped_images_2/'\n",
    "image_files = os.listdir(images_folder)\n",
    "\n",
    "# Step 3: Create a set of valid image filenames\n",
    "# The valid format is: \"image_name@_cls.jpg\"\n",
    "valid_images = image_files\n",
    "print(len(valid_images))\n",
    "print(valid_images[0])\n",
    "\n",
    "df['cls_first_part'] = df['_cls'].str.rsplit(\"_\", n=1, expand=True)[0]\n",
    "\n",
    "# Step 4: Generate the combined image name for each row in the DataFrame\n",
    "df['combined_name'] = df['image_name'].str.replace('.jpg', '') + '@' + df[\"cls_first_part\"] + \".jpg\"\n",
    "\n",
    "# Step 5: Filter the DataFrame\n",
    "cleaned_df = df[df['combined_name'].isin(valid_images)]\n",
    "print(df[\"combined_name\"][0] in valid_images)\n",
    "\n",
    "# Step 6: Save the cleaned DataFrame\n",
    "cleaned_df.to_csv('/kaggle/working/cleaned_output.csv', index=False)"
   ]
  },
  {
   "cell_type": "markdown",
   "id": "562759e4",
   "metadata": {
    "papermill": {
     "duration": 0.006644,
     "end_time": "2024-12-12T04:41:10.260218",
     "exception": false,
     "start_time": "2024-12-12T04:41:10.253574",
     "status": "completed"
    },
    "tags": []
   },
   "source": [
    "### Check if no. rows of csv is equal to no. of cropped images"
   ]
  },
  {
   "cell_type": "code",
   "execution_count": 20,
   "id": "3854f431",
   "metadata": {
    "execution": {
     "iopub.execute_input": "2024-12-12T04:41:10.275178Z",
     "iopub.status.busy": "2024-12-12T04:41:10.274738Z",
     "iopub.status.idle": "2024-12-12T04:41:10.440950Z",
     "shell.execute_reply": "2024-12-12T04:41:10.440136Z"
    },
    "papermill": {
     "duration": 0.175528,
     "end_time": "2024-12-12T04:41:10.442787",
     "exception": false,
     "start_time": "2024-12-12T04:41:10.267259",
     "status": "completed"
    },
    "tags": []
   },
   "outputs": [
    {
     "name": "stdout",
     "output_type": "stream",
     "text": [
      "61556\n"
     ]
    },
    {
     "data": {
      "text/html": [
       "<div>\n",
       "<style scoped>\n",
       "    .dataframe tbody tr th:only-of-type {\n",
       "        vertical-align: middle;\n",
       "    }\n",
       "\n",
       "    .dataframe tbody tr th {\n",
       "        vertical-align: top;\n",
       "    }\n",
       "\n",
       "    .dataframe thead th {\n",
       "        text-align: right;\n",
       "    }\n",
       "</style>\n",
       "<table border=\"1\" class=\"dataframe\">\n",
       "  <thead>\n",
       "    <tr style=\"text-align: right;\">\n",
       "      <th></th>\n",
       "      <th>image_name</th>\n",
       "      <th>_cls</th>\n",
       "      <th>x1</th>\n",
       "      <th>x2</th>\n",
       "      <th>y1</th>\n",
       "      <th>y2</th>\n",
       "    </tr>\n",
       "  </thead>\n",
       "  <tbody>\n",
       "    <tr>\n",
       "      <th>0</th>\n",
       "      <td>4066376844_3875494334_25.jpg</td>\n",
       "      <td>right_subarticular_stenosis_l3_l4_normal/mild</td>\n",
       "      <td>125</td>\n",
       "      <td>141</td>\n",
       "      <td>160</td>\n",
       "      <td>176</td>\n",
       "    </tr>\n",
       "    <tr>\n",
       "      <th>1</th>\n",
       "      <td>765167979_2861241187_35.jpg</td>\n",
       "      <td>right_subarticular_stenosis_l1_l2_normal/mild</td>\n",
       "      <td>128</td>\n",
       "      <td>145</td>\n",
       "      <td>172</td>\n",
       "      <td>188</td>\n",
       "    </tr>\n",
       "    <tr>\n",
       "      <th>2</th>\n",
       "      <td>3573227658_2098136142_23.jpg</td>\n",
       "      <td>left_subarticular_stenosis_l1_l2_normal/mild</td>\n",
       "      <td>159</td>\n",
       "      <td>176</td>\n",
       "      <td>166</td>\n",
       "      <td>182</td>\n",
       "    </tr>\n",
       "    <tr>\n",
       "      <th>3</th>\n",
       "      <td>3489581041_3858435110_14.jpg</td>\n",
       "      <td>left_subarticular_stenosis_l3_l4_normal/mild</td>\n",
       "      <td>165</td>\n",
       "      <td>181</td>\n",
       "      <td>139</td>\n",
       "      <td>155</td>\n",
       "    </tr>\n",
       "    <tr>\n",
       "      <th>4</th>\n",
       "      <td>945809437_2773767514_27.jpg</td>\n",
       "      <td>left_subarticular_stenosis_l3_l4_severe</td>\n",
       "      <td>163</td>\n",
       "      <td>179</td>\n",
       "      <td>156</td>\n",
       "      <td>173</td>\n",
       "    </tr>\n",
       "    <tr>\n",
       "      <th>5</th>\n",
       "      <td>945809437_2773767514_27.jpg</td>\n",
       "      <td>right_subarticular_stenosis_l3_l4_severe</td>\n",
       "      <td>138</td>\n",
       "      <td>155</td>\n",
       "      <td>157</td>\n",
       "      <td>173</td>\n",
       "    </tr>\n",
       "    <tr>\n",
       "      <th>6</th>\n",
       "      <td>1013589491_598943280_33.jpg</td>\n",
       "      <td>left_subarticular_stenosis_l1_l2_normal/mild</td>\n",
       "      <td>162</td>\n",
       "      <td>179</td>\n",
       "      <td>152</td>\n",
       "      <td>168</td>\n",
       "    </tr>\n",
       "    <tr>\n",
       "      <th>7</th>\n",
       "      <td>1013589491_598943280_33.jpg</td>\n",
       "      <td>right_subarticular_stenosis_l1_l2_normal/mild</td>\n",
       "      <td>129</td>\n",
       "      <td>146</td>\n",
       "      <td>154</td>\n",
       "      <td>171</td>\n",
       "    </tr>\n",
       "    <tr>\n",
       "      <th>8</th>\n",
       "      <td>3859825215_2637575069_21.jpg</td>\n",
       "      <td>left_subarticular_stenosis_l1_l2_normal/mild</td>\n",
       "      <td>170</td>\n",
       "      <td>187</td>\n",
       "      <td>171</td>\n",
       "      <td>188</td>\n",
       "    </tr>\n",
       "    <tr>\n",
       "      <th>9</th>\n",
       "      <td>3859825215_2637575069_21.jpg</td>\n",
       "      <td>right_subarticular_stenosis_l1_l2_normal/mild</td>\n",
       "      <td>133</td>\n",
       "      <td>150</td>\n",
       "      <td>172</td>\n",
       "      <td>189</td>\n",
       "    </tr>\n",
       "    <tr>\n",
       "      <th>10</th>\n",
       "      <td>1883368654_2445432492_23.jpg</td>\n",
       "      <td>left_subarticular_stenosis_l5_s1_normal/mild</td>\n",
       "      <td>171</td>\n",
       "      <td>188</td>\n",
       "      <td>154</td>\n",
       "      <td>171</td>\n",
       "    </tr>\n",
       "    <tr>\n",
       "      <th>11</th>\n",
       "      <td>1883368654_2445432492_23.jpg</td>\n",
       "      <td>right_subarticular_stenosis_l5_s1_normal/mild</td>\n",
       "      <td>142</td>\n",
       "      <td>159</td>\n",
       "      <td>152</td>\n",
       "      <td>169</td>\n",
       "    </tr>\n",
       "    <tr>\n",
       "      <th>12</th>\n",
       "      <td>309197706_3283461974_19.jpg</td>\n",
       "      <td>left_subarticular_stenosis_l2_l3_normal/mild</td>\n",
       "      <td>167</td>\n",
       "      <td>183</td>\n",
       "      <td>155</td>\n",
       "      <td>172</td>\n",
       "    </tr>\n",
       "    <tr>\n",
       "      <th>13</th>\n",
       "      <td>3884015124_1519537115_30.jpg</td>\n",
       "      <td>left_subarticular_stenosis_l3_l4_normal/mild</td>\n",
       "      <td>174</td>\n",
       "      <td>191</td>\n",
       "      <td>184</td>\n",
       "      <td>201</td>\n",
       "    </tr>\n",
       "    <tr>\n",
       "      <th>14</th>\n",
       "      <td>3884015124_1519537115_30.jpg</td>\n",
       "      <td>right_subarticular_stenosis_l3_l4_moderate</td>\n",
       "      <td>149</td>\n",
       "      <td>166</td>\n",
       "      <td>184</td>\n",
       "      <td>200</td>\n",
       "    </tr>\n",
       "    <tr>\n",
       "      <th>15</th>\n",
       "      <td>1820866003_3689221841_16.jpg</td>\n",
       "      <td>left_subarticular_stenosis_l4_l5_normal/mild</td>\n",
       "      <td>153</td>\n",
       "      <td>170</td>\n",
       "      <td>157</td>\n",
       "      <td>174</td>\n",
       "    </tr>\n",
       "    <tr>\n",
       "      <th>16</th>\n",
       "      <td>634296400_1925738666_13.jpg</td>\n",
       "      <td>left_subarticular_stenosis_l1_l2_normal/mild</td>\n",
       "      <td>171</td>\n",
       "      <td>188</td>\n",
       "      <td>165</td>\n",
       "      <td>182</td>\n",
       "    </tr>\n",
       "    <tr>\n",
       "      <th>17</th>\n",
       "      <td>634296400_1925738666_13.jpg</td>\n",
       "      <td>right_subarticular_stenosis_l1_l2_normal/mild</td>\n",
       "      <td>135</td>\n",
       "      <td>152</td>\n",
       "      <td>167</td>\n",
       "      <td>184</td>\n",
       "    </tr>\n",
       "    <tr>\n",
       "      <th>18</th>\n",
       "      <td>107935613_729255173_3.jpg</td>\n",
       "      <td>right_subarticular_stenosis_l1_l2_normal/mild</td>\n",
       "      <td>137</td>\n",
       "      <td>153</td>\n",
       "      <td>162</td>\n",
       "      <td>178</td>\n",
       "    </tr>\n",
       "    <tr>\n",
       "      <th>19</th>\n",
       "      <td>2026891078_2972032581_41.jpg</td>\n",
       "      <td>left_subarticular_stenosis_l4_l5_severe</td>\n",
       "      <td>176</td>\n",
       "      <td>193</td>\n",
       "      <td>131</td>\n",
       "      <td>147</td>\n",
       "    </tr>\n",
       "  </tbody>\n",
       "</table>\n",
       "</div>"
      ],
      "text/plain": [
       "                      image_name  \\\n",
       "0   4066376844_3875494334_25.jpg   \n",
       "1    765167979_2861241187_35.jpg   \n",
       "2   3573227658_2098136142_23.jpg   \n",
       "3   3489581041_3858435110_14.jpg   \n",
       "4    945809437_2773767514_27.jpg   \n",
       "5    945809437_2773767514_27.jpg   \n",
       "6    1013589491_598943280_33.jpg   \n",
       "7    1013589491_598943280_33.jpg   \n",
       "8   3859825215_2637575069_21.jpg   \n",
       "9   3859825215_2637575069_21.jpg   \n",
       "10  1883368654_2445432492_23.jpg   \n",
       "11  1883368654_2445432492_23.jpg   \n",
       "12   309197706_3283461974_19.jpg   \n",
       "13  3884015124_1519537115_30.jpg   \n",
       "14  3884015124_1519537115_30.jpg   \n",
       "15  1820866003_3689221841_16.jpg   \n",
       "16   634296400_1925738666_13.jpg   \n",
       "17   634296400_1925738666_13.jpg   \n",
       "18     107935613_729255173_3.jpg   \n",
       "19  2026891078_2972032581_41.jpg   \n",
       "\n",
       "                                             _cls   x1   x2   y1   y2  \n",
       "0   right_subarticular_stenosis_l3_l4_normal/mild  125  141  160  176  \n",
       "1   right_subarticular_stenosis_l1_l2_normal/mild  128  145  172  188  \n",
       "2    left_subarticular_stenosis_l1_l2_normal/mild  159  176  166  182  \n",
       "3    left_subarticular_stenosis_l3_l4_normal/mild  165  181  139  155  \n",
       "4         left_subarticular_stenosis_l3_l4_severe  163  179  156  173  \n",
       "5        right_subarticular_stenosis_l3_l4_severe  138  155  157  173  \n",
       "6    left_subarticular_stenosis_l1_l2_normal/mild  162  179  152  168  \n",
       "7   right_subarticular_stenosis_l1_l2_normal/mild  129  146  154  171  \n",
       "8    left_subarticular_stenosis_l1_l2_normal/mild  170  187  171  188  \n",
       "9   right_subarticular_stenosis_l1_l2_normal/mild  133  150  172  189  \n",
       "10   left_subarticular_stenosis_l5_s1_normal/mild  171  188  154  171  \n",
       "11  right_subarticular_stenosis_l5_s1_normal/mild  142  159  152  169  \n",
       "12   left_subarticular_stenosis_l2_l3_normal/mild  167  183  155  172  \n",
       "13   left_subarticular_stenosis_l3_l4_normal/mild  174  191  184  201  \n",
       "14     right_subarticular_stenosis_l3_l4_moderate  149  166  184  200  \n",
       "15   left_subarticular_stenosis_l4_l5_normal/mild  153  170  157  174  \n",
       "16   left_subarticular_stenosis_l1_l2_normal/mild  171  188  165  182  \n",
       "17  right_subarticular_stenosis_l1_l2_normal/mild  135  152  167  184  \n",
       "18  right_subarticular_stenosis_l1_l2_normal/mild  137  153  162  178  \n",
       "19        left_subarticular_stenosis_l4_l5_severe  176  193  131  147  "
      ]
     },
     "metadata": {},
     "output_type": "display_data"
    }
   ],
   "source": [
    "cleaned_df = pd.read_csv('/kaggle/working/cleaned_output.csv')\n",
    "cleaned_df.drop(columns=['combined_name', 'cls_first_part'], inplace=True)\n",
    "print(len(cleaned_df))\n",
    "display(cleaned_df.head(20))"
   ]
  },
  {
   "cell_type": "markdown",
   "id": "03033ca7",
   "metadata": {
    "papermill": {
     "duration": 0.007018,
     "end_time": "2024-12-12T04:41:10.457950",
     "exception": false,
     "start_time": "2024-12-12T04:41:10.450932",
     "status": "completed"
    },
    "tags": []
   },
   "source": [
    "### Check differences"
   ]
  },
  {
   "cell_type": "code",
   "execution_count": 21,
   "id": "fa3f99dc",
   "metadata": {
    "execution": {
     "iopub.execute_input": "2024-12-12T04:41:10.473124Z",
     "iopub.status.busy": "2024-12-12T04:41:10.472845Z",
     "iopub.status.idle": "2024-12-12T04:41:11.420254Z",
     "shell.execute_reply": "2024-12-12T04:41:11.419368Z"
    },
    "papermill": {
     "duration": 0.957359,
     "end_time": "2024-12-12T04:41:11.422387",
     "exception": false,
     "start_time": "2024-12-12T04:41:10.465028",
     "status": "completed"
    },
    "tags": []
   },
   "outputs": [
    {
     "name": "stdout",
     "output_type": "stream",
     "text": [
      "Rows in original that are not in cleaned:\n",
      "                          image_name  \\\n",
      "61508    716992646_2371811489_19.jpg   \n",
      "61569    314041963_3384935415_13.jpg   \n",
      "61570    314041963_3384935415_13.jpg   \n",
      "61575   2758707424_1024283654_23.jpg   \n",
      "61676    108348787_4180184128_14.jpg   \n",
      "...                              ...   \n",
      "379283   808539750_3152296769_12.jpg   \n",
      "379284   808539750_3152296769_12.jpg   \n",
      "379285   808539750_3152296769_12.jpg   \n",
      "379286   808539750_3152296769_12.jpg   \n",
      "379287   808539750_3152296769_12.jpg   \n",
      "\n",
      "                                                     _cls   x1   x2   y1   y2  \\\n",
      "61508        left_subarticular_stenosis_l3_l4_normal/mild  171  188  165  182   \n",
      "61569        left_subarticular_stenosis_l2_l3_normal/mild  166  183  199  215   \n",
      "61570       right_subarticular_stenosis_l2_l3_normal/mild  138  155  195  212   \n",
      "61575        left_subarticular_stenosis_l1_l2_normal/mild  158  175  173  190   \n",
      "61676           left_subarticular_stenosis_l5_s1_moderate  165  182  157  174   \n",
      "...                                                   ...  ...  ...  ...  ...   \n",
      "379283  left_neural_foraminal_narrowing_l1_l2_normal/mild  359  386  136  163   \n",
      "379284  left_neural_foraminal_narrowing_l2_l3_normal/mild  340  367  199  225   \n",
      "379285  left_neural_foraminal_narrowing_l3_l4_normal/mild  322  349  256  283   \n",
      "379286  left_neural_foraminal_narrowing_l4_l5_normal/mild  307  334  311  337   \n",
      "379287       left_neural_foraminal_narrowing_l5_s1_severe  296  323  362  388   \n",
      "\n",
      "       cls_first_part combined_name     _merge  \n",
      "61508             NaN           NaN  left_only  \n",
      "61569             NaN           NaN  left_only  \n",
      "61570             NaN           NaN  left_only  \n",
      "61575             NaN           NaN  left_only  \n",
      "61676             NaN           NaN  left_only  \n",
      "...               ...           ...        ...  \n",
      "379283            NaN           NaN  left_only  \n",
      "379284            NaN           NaN  left_only  \n",
      "379285            NaN           NaN  left_only  \n",
      "379286            NaN           NaN  left_only  \n",
      "379287            NaN           NaN  left_only  \n",
      "\n",
      "[133064 rows x 9 columns]\n"
     ]
    }
   ],
   "source": [
    "# Step 1: Load both CSV files into DataFrames\n",
    "original_df = pd.read_csv('/kaggle/working/combined_output.csv')\n",
    "cleaned_df = pd.read_csv('/kaggle/working/cleaned_output.csv')\n",
    "\n",
    "# Step 2: Identify rows that are in the original but not in the cleaned DataFrame\n",
    "# You can use the merge function for this purpose\n",
    "diff_original = original_df.merge(cleaned_df, on=list(original_df.columns), how='left', indicator=True)\n",
    "diff_rows = diff_original[diff_original['_merge'] == 'left_only']\n",
    "\n",
    "# Step 3: Display the differences\n",
    "print(\"Rows in original that are not in cleaned:\")\n",
    "print(diff_rows)\n",
    "\n",
    "# Optional: Save the differences to a CSV file\n",
    "diff_rows.to_csv('/kaggle/working/differences_output.csv', index=False)"
   ]
  },
  {
   "cell_type": "code",
   "execution_count": 22,
   "id": "0852a27d",
   "metadata": {
    "execution": {
     "iopub.execute_input": "2024-12-12T04:41:11.439163Z",
     "iopub.status.busy": "2024-12-12T04:41:11.438865Z",
     "iopub.status.idle": "2024-12-12T04:41:11.613802Z",
     "shell.execute_reply": "2024-12-12T04:41:11.612920Z"
    },
    "papermill": {
     "duration": 0.185132,
     "end_time": "2024-12-12T04:41:11.615589",
     "exception": false,
     "start_time": "2024-12-12T04:41:11.430457",
     "status": "completed"
    },
    "tags": []
   },
   "outputs": [
    {
     "data": {
      "text/html": [
       "<div>\n",
       "<style scoped>\n",
       "    .dataframe tbody tr th:only-of-type {\n",
       "        vertical-align: middle;\n",
       "    }\n",
       "\n",
       "    .dataframe tbody tr th {\n",
       "        vertical-align: top;\n",
       "    }\n",
       "\n",
       "    .dataframe thead th {\n",
       "        text-align: right;\n",
       "    }\n",
       "</style>\n",
       "<table border=\"1\" class=\"dataframe\">\n",
       "  <thead>\n",
       "    <tr style=\"text-align: right;\">\n",
       "      <th></th>\n",
       "      <th>image_name</th>\n",
       "      <th>_cls</th>\n",
       "      <th>x1</th>\n",
       "      <th>x2</th>\n",
       "      <th>y1</th>\n",
       "      <th>y2</th>\n",
       "      <th>cls_first_part</th>\n",
       "      <th>combined_name</th>\n",
       "      <th>_merge</th>\n",
       "    </tr>\n",
       "  </thead>\n",
       "  <tbody>\n",
       "    <tr>\n",
       "      <th>0</th>\n",
       "      <td>716992646_2371811489_19.jpg</td>\n",
       "      <td>left_subarticular_stenosis_l3_l4_normal/mild</td>\n",
       "      <td>171</td>\n",
       "      <td>188</td>\n",
       "      <td>165</td>\n",
       "      <td>182</td>\n",
       "      <td>NaN</td>\n",
       "      <td>NaN</td>\n",
       "      <td>left_only</td>\n",
       "    </tr>\n",
       "    <tr>\n",
       "      <th>1</th>\n",
       "      <td>314041963_3384935415_13.jpg</td>\n",
       "      <td>left_subarticular_stenosis_l2_l3_normal/mild</td>\n",
       "      <td>166</td>\n",
       "      <td>183</td>\n",
       "      <td>199</td>\n",
       "      <td>215</td>\n",
       "      <td>NaN</td>\n",
       "      <td>NaN</td>\n",
       "      <td>left_only</td>\n",
       "    </tr>\n",
       "    <tr>\n",
       "      <th>2</th>\n",
       "      <td>314041963_3384935415_13.jpg</td>\n",
       "      <td>right_subarticular_stenosis_l2_l3_normal/mild</td>\n",
       "      <td>138</td>\n",
       "      <td>155</td>\n",
       "      <td>195</td>\n",
       "      <td>212</td>\n",
       "      <td>NaN</td>\n",
       "      <td>NaN</td>\n",
       "      <td>left_only</td>\n",
       "    </tr>\n",
       "    <tr>\n",
       "      <th>3</th>\n",
       "      <td>2758707424_1024283654_23.jpg</td>\n",
       "      <td>left_subarticular_stenosis_l1_l2_normal/mild</td>\n",
       "      <td>158</td>\n",
       "      <td>175</td>\n",
       "      <td>173</td>\n",
       "      <td>190</td>\n",
       "      <td>NaN</td>\n",
       "      <td>NaN</td>\n",
       "      <td>left_only</td>\n",
       "    </tr>\n",
       "    <tr>\n",
       "      <th>4</th>\n",
       "      <td>108348787_4180184128_14.jpg</td>\n",
       "      <td>left_subarticular_stenosis_l5_s1_moderate</td>\n",
       "      <td>165</td>\n",
       "      <td>182</td>\n",
       "      <td>157</td>\n",
       "      <td>174</td>\n",
       "      <td>NaN</td>\n",
       "      <td>NaN</td>\n",
       "      <td>left_only</td>\n",
       "    </tr>\n",
       "    <tr>\n",
       "      <th>...</th>\n",
       "      <td>...</td>\n",
       "      <td>...</td>\n",
       "      <td>...</td>\n",
       "      <td>...</td>\n",
       "      <td>...</td>\n",
       "      <td>...</td>\n",
       "      <td>...</td>\n",
       "      <td>...</td>\n",
       "      <td>...</td>\n",
       "    </tr>\n",
       "    <tr>\n",
       "      <th>133059</th>\n",
       "      <td>808539750_3152296769_12.jpg</td>\n",
       "      <td>left_neural_foraminal_narrowing_l1_l2_normal/mild</td>\n",
       "      <td>359</td>\n",
       "      <td>386</td>\n",
       "      <td>136</td>\n",
       "      <td>163</td>\n",
       "      <td>NaN</td>\n",
       "      <td>NaN</td>\n",
       "      <td>left_only</td>\n",
       "    </tr>\n",
       "    <tr>\n",
       "      <th>133060</th>\n",
       "      <td>808539750_3152296769_12.jpg</td>\n",
       "      <td>left_neural_foraminal_narrowing_l2_l3_normal/mild</td>\n",
       "      <td>340</td>\n",
       "      <td>367</td>\n",
       "      <td>199</td>\n",
       "      <td>225</td>\n",
       "      <td>NaN</td>\n",
       "      <td>NaN</td>\n",
       "      <td>left_only</td>\n",
       "    </tr>\n",
       "    <tr>\n",
       "      <th>133061</th>\n",
       "      <td>808539750_3152296769_12.jpg</td>\n",
       "      <td>left_neural_foraminal_narrowing_l3_l4_normal/mild</td>\n",
       "      <td>322</td>\n",
       "      <td>349</td>\n",
       "      <td>256</td>\n",
       "      <td>283</td>\n",
       "      <td>NaN</td>\n",
       "      <td>NaN</td>\n",
       "      <td>left_only</td>\n",
       "    </tr>\n",
       "    <tr>\n",
       "      <th>133062</th>\n",
       "      <td>808539750_3152296769_12.jpg</td>\n",
       "      <td>left_neural_foraminal_narrowing_l4_l5_normal/mild</td>\n",
       "      <td>307</td>\n",
       "      <td>334</td>\n",
       "      <td>311</td>\n",
       "      <td>337</td>\n",
       "      <td>NaN</td>\n",
       "      <td>NaN</td>\n",
       "      <td>left_only</td>\n",
       "    </tr>\n",
       "    <tr>\n",
       "      <th>133063</th>\n",
       "      <td>808539750_3152296769_12.jpg</td>\n",
       "      <td>left_neural_foraminal_narrowing_l5_s1_severe</td>\n",
       "      <td>296</td>\n",
       "      <td>323</td>\n",
       "      <td>362</td>\n",
       "      <td>388</td>\n",
       "      <td>NaN</td>\n",
       "      <td>NaN</td>\n",
       "      <td>left_only</td>\n",
       "    </tr>\n",
       "  </tbody>\n",
       "</table>\n",
       "<p>133064 rows × 9 columns</p>\n",
       "</div>"
      ],
      "text/plain": [
       "                          image_name  \\\n",
       "0        716992646_2371811489_19.jpg   \n",
       "1        314041963_3384935415_13.jpg   \n",
       "2        314041963_3384935415_13.jpg   \n",
       "3       2758707424_1024283654_23.jpg   \n",
       "4        108348787_4180184128_14.jpg   \n",
       "...                              ...   \n",
       "133059   808539750_3152296769_12.jpg   \n",
       "133060   808539750_3152296769_12.jpg   \n",
       "133061   808539750_3152296769_12.jpg   \n",
       "133062   808539750_3152296769_12.jpg   \n",
       "133063   808539750_3152296769_12.jpg   \n",
       "\n",
       "                                                     _cls   x1   x2   y1   y2  \\\n",
       "0            left_subarticular_stenosis_l3_l4_normal/mild  171  188  165  182   \n",
       "1            left_subarticular_stenosis_l2_l3_normal/mild  166  183  199  215   \n",
       "2           right_subarticular_stenosis_l2_l3_normal/mild  138  155  195  212   \n",
       "3            left_subarticular_stenosis_l1_l2_normal/mild  158  175  173  190   \n",
       "4               left_subarticular_stenosis_l5_s1_moderate  165  182  157  174   \n",
       "...                                                   ...  ...  ...  ...  ...   \n",
       "133059  left_neural_foraminal_narrowing_l1_l2_normal/mild  359  386  136  163   \n",
       "133060  left_neural_foraminal_narrowing_l2_l3_normal/mild  340  367  199  225   \n",
       "133061  left_neural_foraminal_narrowing_l3_l4_normal/mild  322  349  256  283   \n",
       "133062  left_neural_foraminal_narrowing_l4_l5_normal/mild  307  334  311  337   \n",
       "133063       left_neural_foraminal_narrowing_l5_s1_severe  296  323  362  388   \n",
       "\n",
       "        cls_first_part  combined_name     _merge  \n",
       "0                  NaN            NaN  left_only  \n",
       "1                  NaN            NaN  left_only  \n",
       "2                  NaN            NaN  left_only  \n",
       "3                  NaN            NaN  left_only  \n",
       "4                  NaN            NaN  left_only  \n",
       "...                ...            ...        ...  \n",
       "133059             NaN            NaN  left_only  \n",
       "133060             NaN            NaN  left_only  \n",
       "133061             NaN            NaN  left_only  \n",
       "133062             NaN            NaN  left_only  \n",
       "133063             NaN            NaN  left_only  \n",
       "\n",
       "[133064 rows x 9 columns]"
      ]
     },
     "metadata": {},
     "output_type": "display_data"
    }
   ],
   "source": [
    "difference_df = pd.read_csv(\"/kaggle/working/differences_output.csv\")\n",
    "display(difference_df)"
   ]
  },
  {
   "cell_type": "code",
   "execution_count": 23,
   "id": "b45aab5a",
   "metadata": {
    "execution": {
     "iopub.execute_input": "2024-12-12T04:41:11.631937Z",
     "iopub.status.busy": "2024-12-12T04:41:11.631678Z",
     "iopub.status.idle": "2024-12-12T04:41:11.635837Z",
     "shell.execute_reply": "2024-12-12T04:41:11.635023Z"
    },
    "papermill": {
     "duration": 0.013966,
     "end_time": "2024-12-12T04:41:11.637396",
     "exception": false,
     "start_time": "2024-12-12T04:41:11.623430",
     "status": "completed"
    },
    "tags": []
   },
   "outputs": [
    {
     "name": "stdout",
     "output_type": "stream",
     "text": [
      "15490\n",
      "61556\n"
     ]
    }
   ],
   "source": [
    "print(i)\n",
    "print(len(cleaned_df))"
   ]
  },
  {
   "cell_type": "code",
   "execution_count": 24,
   "id": "54965178",
   "metadata": {
    "execution": {
     "iopub.execute_input": "2024-12-12T04:41:11.653486Z",
     "iopub.status.busy": "2024-12-12T04:41:11.653241Z",
     "iopub.status.idle": "2024-12-12T04:41:12.212541Z",
     "shell.execute_reply": "2024-12-12T04:41:12.211881Z"
    },
    "papermill": {
     "duration": 0.569615,
     "end_time": "2024-12-12T04:41:12.214638",
     "exception": false,
     "start_time": "2024-12-12T04:41:11.645023",
     "status": "completed"
    },
    "tags": []
   },
   "outputs": [
    {
     "data": {
      "text/html": [
       "<div>\n",
       "<style scoped>\n",
       "    .dataframe tbody tr th:only-of-type {\n",
       "        vertical-align: middle;\n",
       "    }\n",
       "\n",
       "    .dataframe tbody tr th {\n",
       "        vertical-align: top;\n",
       "    }\n",
       "\n",
       "    .dataframe thead th {\n",
       "        text-align: right;\n",
       "    }\n",
       "</style>\n",
       "<table border=\"1\" class=\"dataframe\">\n",
       "  <thead>\n",
       "    <tr style=\"text-align: right;\">\n",
       "      <th></th>\n",
       "      <th>image_name</th>\n",
       "      <th>_cls</th>\n",
       "      <th>x1</th>\n",
       "      <th>x2</th>\n",
       "      <th>y1</th>\n",
       "      <th>y2</th>\n",
       "      <th>cls_first_part</th>\n",
       "      <th>combined_name</th>\n",
       "      <th>target</th>\n",
       "    </tr>\n",
       "  </thead>\n",
       "  <tbody>\n",
       "    <tr>\n",
       "      <th>0</th>\n",
       "      <td>4066376844_3875494334_25.jpg</td>\n",
       "      <td>right_subarticular_stenosis_l3_l4</td>\n",
       "      <td>125</td>\n",
       "      <td>141</td>\n",
       "      <td>160</td>\n",
       "      <td>176</td>\n",
       "      <td>right_subarticular_stenosis_l3_l4</td>\n",
       "      <td>4066376844_3875494334_25@right_subarticular_st...</td>\n",
       "      <td>normal/mild</td>\n",
       "    </tr>\n",
       "    <tr>\n",
       "      <th>1</th>\n",
       "      <td>765167979_2861241187_35.jpg</td>\n",
       "      <td>right_subarticular_stenosis_l1_l2</td>\n",
       "      <td>128</td>\n",
       "      <td>145</td>\n",
       "      <td>172</td>\n",
       "      <td>188</td>\n",
       "      <td>right_subarticular_stenosis_l1_l2</td>\n",
       "      <td>765167979_2861241187_35@right_subarticular_ste...</td>\n",
       "      <td>normal/mild</td>\n",
       "    </tr>\n",
       "    <tr>\n",
       "      <th>2</th>\n",
       "      <td>3573227658_2098136142_23.jpg</td>\n",
       "      <td>left_subarticular_stenosis_l1_l2</td>\n",
       "      <td>159</td>\n",
       "      <td>176</td>\n",
       "      <td>166</td>\n",
       "      <td>182</td>\n",
       "      <td>left_subarticular_stenosis_l1_l2</td>\n",
       "      <td>3573227658_2098136142_23@left_subarticular_ste...</td>\n",
       "      <td>normal/mild</td>\n",
       "    </tr>\n",
       "    <tr>\n",
       "      <th>3</th>\n",
       "      <td>3489581041_3858435110_14.jpg</td>\n",
       "      <td>left_subarticular_stenosis_l3_l4</td>\n",
       "      <td>165</td>\n",
       "      <td>181</td>\n",
       "      <td>139</td>\n",
       "      <td>155</td>\n",
       "      <td>left_subarticular_stenosis_l3_l4</td>\n",
       "      <td>3489581041_3858435110_14@left_subarticular_ste...</td>\n",
       "      <td>normal/mild</td>\n",
       "    </tr>\n",
       "    <tr>\n",
       "      <th>4</th>\n",
       "      <td>945809437_2773767514_27.jpg</td>\n",
       "      <td>left_subarticular_stenosis_l3_l4</td>\n",
       "      <td>163</td>\n",
       "      <td>179</td>\n",
       "      <td>156</td>\n",
       "      <td>173</td>\n",
       "      <td>left_subarticular_stenosis_l3_l4</td>\n",
       "      <td>945809437_2773767514_27@left_subarticular_sten...</td>\n",
       "      <td>severe</td>\n",
       "    </tr>\n",
       "  </tbody>\n",
       "</table>\n",
       "</div>"
      ],
      "text/plain": [
       "                     image_name                               _cls   x1   x2  \\\n",
       "0  4066376844_3875494334_25.jpg  right_subarticular_stenosis_l3_l4  125  141   \n",
       "1   765167979_2861241187_35.jpg  right_subarticular_stenosis_l1_l2  128  145   \n",
       "2  3573227658_2098136142_23.jpg   left_subarticular_stenosis_l1_l2  159  176   \n",
       "3  3489581041_3858435110_14.jpg   left_subarticular_stenosis_l3_l4  165  181   \n",
       "4   945809437_2773767514_27.jpg   left_subarticular_stenosis_l3_l4  163  179   \n",
       "\n",
       "    y1   y2                     cls_first_part  \\\n",
       "0  160  176  right_subarticular_stenosis_l3_l4   \n",
       "1  172  188  right_subarticular_stenosis_l1_l2   \n",
       "2  166  182   left_subarticular_stenosis_l1_l2   \n",
       "3  139  155   left_subarticular_stenosis_l3_l4   \n",
       "4  156  173   left_subarticular_stenosis_l3_l4   \n",
       "\n",
       "                                       combined_name       target  \n",
       "0  4066376844_3875494334_25@right_subarticular_st...  normal/mild  \n",
       "1  765167979_2861241187_35@right_subarticular_ste...  normal/mild  \n",
       "2  3573227658_2098136142_23@left_subarticular_ste...  normal/mild  \n",
       "3  3489581041_3858435110_14@left_subarticular_ste...  normal/mild  \n",
       "4  945809437_2773767514_27@left_subarticular_sten...       severe  "
      ]
     },
     "metadata": {},
     "output_type": "display_data"
    }
   ],
   "source": [
    "import pandas as pd\n",
    "\n",
    "# Load the CSV file\n",
    "df = cleaned_df\n",
    "\n",
    "# Split the '_cls' column into two parts\n",
    "df['target'] = df['_cls'].str.rsplit('_', n=1).str[-1]\n",
    "df['_cls'] = df['_cls'].str.rsplit('_', n=1).str[0]\n",
    "\n",
    "display(df.head())\n",
    "\n",
    "# Rearrange the DataFrame\n",
    "# df = df[['image_name', '_cls', 'x1', 'x2', 'y1', 'y2', 'target']]\n",
    "\n",
    "# Save the modified DataFrame to a new CSV file\n",
    "df.to_csv('/kaggle/working/modified_file.csv', index=False)  # Use the desired separator"
   ]
  },
  {
   "cell_type": "markdown",
   "id": "e9474ff0",
   "metadata": {
    "papermill": {
     "duration": 0.007584,
     "end_time": "2024-12-12T04:41:12.230524",
     "exception": false,
     "start_time": "2024-12-12T04:41:12.222940",
     "status": "completed"
    },
    "tags": []
   },
   "source": [
    "## Final dataset"
   ]
  },
  {
   "cell_type": "code",
   "execution_count": 25,
   "id": "ce21bd1b",
   "metadata": {
    "execution": {
     "iopub.execute_input": "2024-12-12T04:41:12.247660Z",
     "iopub.status.busy": "2024-12-12T04:41:12.247399Z",
     "iopub.status.idle": "2024-12-12T04:41:12.409221Z",
     "shell.execute_reply": "2024-12-12T04:41:12.408255Z"
    },
    "papermill": {
     "duration": 0.17267,
     "end_time": "2024-12-12T04:41:12.410857",
     "exception": false,
     "start_time": "2024-12-12T04:41:12.238187",
     "status": "completed"
    },
    "tags": []
   },
   "outputs": [
    {
     "data": {
      "text/html": [
       "<div>\n",
       "<style scoped>\n",
       "    .dataframe tbody tr th:only-of-type {\n",
       "        vertical-align: middle;\n",
       "    }\n",
       "\n",
       "    .dataframe tbody tr th {\n",
       "        vertical-align: top;\n",
       "    }\n",
       "\n",
       "    .dataframe thead th {\n",
       "        text-align: right;\n",
       "    }\n",
       "</style>\n",
       "<table border=\"1\" class=\"dataframe\">\n",
       "  <thead>\n",
       "    <tr style=\"text-align: right;\">\n",
       "      <th></th>\n",
       "      <th>image_name</th>\n",
       "      <th>_cls</th>\n",
       "      <th>x1</th>\n",
       "      <th>x2</th>\n",
       "      <th>y1</th>\n",
       "      <th>y2</th>\n",
       "      <th>cls_first_part</th>\n",
       "      <th>combined_name</th>\n",
       "      <th>target</th>\n",
       "    </tr>\n",
       "  </thead>\n",
       "  <tbody>\n",
       "    <tr>\n",
       "      <th>0</th>\n",
       "      <td>4066376844_3875494334_25.jpg</td>\n",
       "      <td>right_subarticular_stenosis_l3_l4</td>\n",
       "      <td>125</td>\n",
       "      <td>141</td>\n",
       "      <td>160</td>\n",
       "      <td>176</td>\n",
       "      <td>right_subarticular_stenosis_l3_l4</td>\n",
       "      <td>4066376844_3875494334_25@right_subarticular_st...</td>\n",
       "      <td>normal/mild</td>\n",
       "    </tr>\n",
       "    <tr>\n",
       "      <th>1</th>\n",
       "      <td>765167979_2861241187_35.jpg</td>\n",
       "      <td>right_subarticular_stenosis_l1_l2</td>\n",
       "      <td>128</td>\n",
       "      <td>145</td>\n",
       "      <td>172</td>\n",
       "      <td>188</td>\n",
       "      <td>right_subarticular_stenosis_l1_l2</td>\n",
       "      <td>765167979_2861241187_35@right_subarticular_ste...</td>\n",
       "      <td>normal/mild</td>\n",
       "    </tr>\n",
       "    <tr>\n",
       "      <th>2</th>\n",
       "      <td>3573227658_2098136142_23.jpg</td>\n",
       "      <td>left_subarticular_stenosis_l1_l2</td>\n",
       "      <td>159</td>\n",
       "      <td>176</td>\n",
       "      <td>166</td>\n",
       "      <td>182</td>\n",
       "      <td>left_subarticular_stenosis_l1_l2</td>\n",
       "      <td>3573227658_2098136142_23@left_subarticular_ste...</td>\n",
       "      <td>normal/mild</td>\n",
       "    </tr>\n",
       "    <tr>\n",
       "      <th>3</th>\n",
       "      <td>3489581041_3858435110_14.jpg</td>\n",
       "      <td>left_subarticular_stenosis_l3_l4</td>\n",
       "      <td>165</td>\n",
       "      <td>181</td>\n",
       "      <td>139</td>\n",
       "      <td>155</td>\n",
       "      <td>left_subarticular_stenosis_l3_l4</td>\n",
       "      <td>3489581041_3858435110_14@left_subarticular_ste...</td>\n",
       "      <td>normal/mild</td>\n",
       "    </tr>\n",
       "    <tr>\n",
       "      <th>4</th>\n",
       "      <td>945809437_2773767514_27.jpg</td>\n",
       "      <td>left_subarticular_stenosis_l3_l4</td>\n",
       "      <td>163</td>\n",
       "      <td>179</td>\n",
       "      <td>156</td>\n",
       "      <td>173</td>\n",
       "      <td>left_subarticular_stenosis_l3_l4</td>\n",
       "      <td>945809437_2773767514_27@left_subarticular_sten...</td>\n",
       "      <td>severe</td>\n",
       "    </tr>\n",
       "  </tbody>\n",
       "</table>\n",
       "</div>"
      ],
      "text/plain": [
       "                     image_name                               _cls   x1   x2  \\\n",
       "0  4066376844_3875494334_25.jpg  right_subarticular_stenosis_l3_l4  125  141   \n",
       "1   765167979_2861241187_35.jpg  right_subarticular_stenosis_l1_l2  128  145   \n",
       "2  3573227658_2098136142_23.jpg   left_subarticular_stenosis_l1_l2  159  176   \n",
       "3  3489581041_3858435110_14.jpg   left_subarticular_stenosis_l3_l4  165  181   \n",
       "4   945809437_2773767514_27.jpg   left_subarticular_stenosis_l3_l4  163  179   \n",
       "\n",
       "    y1   y2                     cls_first_part  \\\n",
       "0  160  176  right_subarticular_stenosis_l3_l4   \n",
       "1  172  188  right_subarticular_stenosis_l1_l2   \n",
       "2  166  182   left_subarticular_stenosis_l1_l2   \n",
       "3  139  155   left_subarticular_stenosis_l3_l4   \n",
       "4  156  173   left_subarticular_stenosis_l3_l4   \n",
       "\n",
       "                                       combined_name       target  \n",
       "0  4066376844_3875494334_25@right_subarticular_st...  normal/mild  \n",
       "1  765167979_2861241187_35@right_subarticular_ste...  normal/mild  \n",
       "2  3573227658_2098136142_23@left_subarticular_ste...  normal/mild  \n",
       "3  3489581041_3858435110_14@left_subarticular_ste...  normal/mild  \n",
       "4  945809437_2773767514_27@left_subarticular_sten...       severe  "
      ]
     },
     "metadata": {},
     "output_type": "display_data"
    },
    {
     "name": "stdout",
     "output_type": "stream",
     "text": [
      "['normal/mild' 'severe' 'moderate']\n",
      "61556\n"
     ]
    }
   ],
   "source": [
    "df = pd.read_csv('/kaggle/working/modified_file.csv')\n",
    "display(df.head())\n",
    "print(df[\"target\"].unique())\n",
    "print(len(df))"
   ]
  },
  {
   "cell_type": "code",
   "execution_count": 26,
   "id": "9b62b83f",
   "metadata": {
    "execution": {
     "iopub.execute_input": "2024-12-12T04:41:12.428785Z",
     "iopub.status.busy": "2024-12-12T04:41:12.428164Z",
     "iopub.status.idle": "2024-12-12T04:41:12.433164Z",
     "shell.execute_reply": "2024-12-12T04:41:12.432344Z"
    },
    "papermill": {
     "duration": 0.015354,
     "end_time": "2024-12-12T04:41:12.434863",
     "exception": false,
     "start_time": "2024-12-12T04:41:12.419509",
     "status": "completed"
    },
    "tags": []
   },
   "outputs": [
    {
     "data": {
      "text/plain": [
       "'4066376844_3875494334_25@right_subarticular_stenosis_l3_l4.jpg'"
      ]
     },
     "execution_count": 26,
     "metadata": {},
     "output_type": "execute_result"
    }
   ],
   "source": [
    "df[\"combined_name\"][0]"
   ]
  },
  {
   "cell_type": "markdown",
   "id": "13c0460f",
   "metadata": {
    "papermill": {
     "duration": 0.007724,
     "end_time": "2024-12-12T04:41:12.450819",
     "exception": false,
     "start_time": "2024-12-12T04:41:12.443095",
     "status": "completed"
    },
    "tags": []
   },
   "source": [
    "## Start training phase"
   ]
  },
  {
   "cell_type": "markdown",
   "id": "05e4888e",
   "metadata": {
    "papermill": {
     "duration": 0.007816,
     "end_time": "2024-12-12T04:41:12.466440",
     "exception": false,
     "start_time": "2024-12-12T04:41:12.458624",
     "status": "completed"
    },
    "tags": []
   },
   "source": [
    "### Create dataloader object"
   ]
  },
  {
   "cell_type": "code",
   "execution_count": 27,
   "id": "0da35f4f",
   "metadata": {
    "execution": {
     "iopub.execute_input": "2024-12-12T04:41:12.483993Z",
     "iopub.status.busy": "2024-12-12T04:41:12.483446Z",
     "iopub.status.idle": "2024-12-12T04:41:17.470482Z",
     "shell.execute_reply": "2024-12-12T04:41:17.469592Z"
    },
    "papermill": {
     "duration": 4.998063,
     "end_time": "2024-12-12T04:41:17.472542",
     "exception": false,
     "start_time": "2024-12-12T04:41:12.474479",
     "status": "completed"
    },
    "tags": []
   },
   "outputs": [],
   "source": [
    "import torch\n",
    "import torch.nn as nn\n",
    "import torch.nn.functional as F\n",
    "import torch.optim as optim\n",
    "from torch.utils.data import Dataset, DataLoader\n",
    "from torchvision import transforms\n",
    "from torchvision.models import resnet50\n",
    "from PIL import Image\n",
    "\n",
    "# Define a custom dataset class\n",
    "class LumbarSpineDataset(Dataset):\n",
    "    def __init__(self, df, transform):\n",
    "        self.df = df\n",
    "        self.transform = transform\n",
    "\n",
    "    def __len__(self):\n",
    "        return len(self.df)\n",
    "\n",
    "    def __getitem__(self, index):\n",
    "        img_path = '/kaggle/input/lsdc-imag-2/cropped_images_2/' + self.df.iloc[index]['combined_name']\n",
    "        label = self.df.iloc[index]['target']\n",
    "\n",
    "        img = Image.open(img_path)\n",
    "        img = self.transform(img)\n",
    "\n",
    "        # Map the label to a numerical value cus easier for classification model\n",
    "        label_map = {'normal/mild': 0, 'moderate': 1, 'severe': 2}\n",
    "        label = label_map[label]\n",
    "\n",
    "        return img, label"
   ]
  },
  {
   "cell_type": "code",
   "execution_count": 28,
   "id": "c6cbd82b",
   "metadata": {
    "execution": {
     "iopub.execute_input": "2024-12-12T04:41:17.491741Z",
     "iopub.status.busy": "2024-12-12T04:41:17.490891Z",
     "iopub.status.idle": "2024-12-12T04:41:18.971713Z",
     "shell.execute_reply": "2024-12-12T04:41:18.970962Z"
    },
    "papermill": {
     "duration": 1.492571,
     "end_time": "2024-12-12T04:41:18.973971",
     "exception": false,
     "start_time": "2024-12-12T04:41:17.481400",
     "status": "completed"
    },
    "tags": []
   },
   "outputs": [],
   "source": [
    "# Split the data into training and validation sets\n",
    "# Use sklearn to split\n",
    "from sklearn.model_selection import train_test_split\n",
    "\n",
    "# We use 0.01 since we have a lot of samples\n",
    "train_df, val_df = train_test_split(df, test_size=0.01, random_state=42)\n",
    "\n",
    "# Define transformations\n",
    "transform = transforms.Compose([\n",
    "    transforms.Resize((224, 224)),\n",
    "    transforms.ToTensor(),\n",
    "    transforms.Normalize(mean=[0.485, 0.456, 0.406], std=[0.229, 0.224, 0.225])\n",
    "])\n",
    "\n",
    "# Create the dataset instances\n",
    "train_dataset = LumbarSpineDataset(train_df, transform)\n",
    "val_dataset = LumbarSpineDataset(val_df, transform)\n",
    "\n",
    "# Create the data loaders\n",
    "train_loader = DataLoader(train_dataset, batch_size=64, shuffle=True)\n",
    "val_loader = DataLoader(val_dataset, batch_size=64, shuffle=False)"
   ]
  },
  {
   "cell_type": "markdown",
   "id": "06e7eb79",
   "metadata": {
    "papermill": {
     "duration": 0.00786,
     "end_time": "2024-12-12T04:41:18.991288",
     "exception": false,
     "start_time": "2024-12-12T04:41:18.983428",
     "status": "completed"
    },
    "tags": []
   },
   "source": [
    "### Train"
   ]
  },
  {
   "cell_type": "code",
   "execution_count": 29,
   "id": "ae7183b4",
   "metadata": {
    "execution": {
     "iopub.execute_input": "2024-12-12T04:41:19.008490Z",
     "iopub.status.busy": "2024-12-12T04:41:19.008072Z",
     "iopub.status.idle": "2024-12-12T05:14:26.318386Z",
     "shell.execute_reply": "2024-12-12T05:14:26.317393Z"
    },
    "papermill": {
     "duration": 1987.330352,
     "end_time": "2024-12-12T05:14:26.329419",
     "exception": false,
     "start_time": "2024-12-12T04:41:18.999067",
     "status": "completed"
    },
    "tags": []
   },
   "outputs": [
    {
     "name": "stderr",
     "output_type": "stream",
     "text": [
      "/opt/conda/lib/python3.10/site-packages/torchvision/models/_utils.py:208: UserWarning: The parameter 'pretrained' is deprecated since 0.13 and may be removed in the future, please use 'weights' instead.\n",
      "  warnings.warn(\n",
      "/opt/conda/lib/python3.10/site-packages/torchvision/models/_utils.py:223: UserWarning: Arguments other than a weight enum or `None` for 'weights' are deprecated since 0.13 and may be removed in the future. The current behavior is equivalent to passing `weights=ResNet50_Weights.IMAGENET1K_V1`. You can also use `weights=ResNet50_Weights.DEFAULT` to get the most up-to-date weights.\n",
      "  warnings.warn(msg)\n",
      "Downloading: \"https://download.pytorch.org/models/resnet50-0676ba61.pth\" to /root/.cache/torch/hub/checkpoints/resnet50-0676ba61.pth\n",
      "100%|██████████| 97.8M/97.8M [00:00<00:00, 202MB/s]\n",
      "/opt/conda/lib/python3.10/site-packages/sklearn/metrics/_classification.py:1344: UndefinedMetricWarning: Precision is ill-defined and being set to 0.0 in labels with no predicted samples. Use `zero_division` parameter to control this behavior.\n",
      "  _warn_prf(average, modifier, msg_start, len(result))\n"
     ]
    },
    {
     "name": "stdout",
     "output_type": "stream",
     "text": [
      "Epoch 1, Val Loss: 0.8092, Val Acc: 0.7029, Precision: 0.5967, Recall: 0.7029\n",
      "Epoch 2, Val Loss: 0.7623, Val Acc: 0.7192, Precision: 0.7406, Recall: 0.7192\n",
      "Epoch 3, Val Loss: 0.7548, Val Acc: 0.7029, Precision: 0.6210, Recall: 0.7029\n",
      "Epoch 4, Val Loss: 0.7469, Val Acc: 0.7094, Precision: 0.6516, Recall: 0.7094\n",
      "Epoch 5, Val Loss: 0.7645, Val Acc: 0.7175, Precision: 0.7056, Recall: 0.7175\n",
      "Epoch 6, Val Loss: 0.7820, Val Acc: 0.6948, Precision: 0.7323, Recall: 0.6948\n",
      "Epoch 7, Val Loss: 0.7571, Val Acc: 0.7143, Precision: 0.7085, Recall: 0.7143\n",
      "Epoch 8, Val Loss: 0.7284, Val Acc: 0.7110, Precision: 0.6248, Recall: 0.7110\n",
      "Epoch 9, Val Loss: 0.7345, Val Acc: 0.7175, Precision: 0.6840, Recall: 0.7175\n",
      "Epoch 10, Val Loss: 0.7267, Val Acc: 0.7127, Precision: 0.6550, Recall: 0.7127\n"
     ]
    }
   ],
   "source": [
    "from sklearn.metrics import precision_score, recall_score\n",
    "model = resnet50(pretrained=True)\n",
    "device = torch.device('cuda' if torch.cuda.is_available() else 'cpu')\n",
    "\n",
    "# Move the model to the device\n",
    "model.to(device)\n",
    "\n",
    "# Freeze the model weights to reduce training time\n",
    "for param in model.parameters():\n",
    "    param.requires_grad = False\n",
    "\n",
    "probs_ls = []\n",
    "\n",
    "# Add a custom classification head for the 3 outputs\n",
    "# ResNet50 outputs 2048 features\n",
    "model.fc = nn.Linear(2048, 3)  \n",
    "\n",
    "# Set the model to the device\n",
    "model.fc.to(device)\n",
    "\n",
    "# Define the criterion and optimizer\n",
    "criterion = nn.CrossEntropyLoss()\n",
    "optimizer = optim.Adam(model.fc.parameters(), lr=0.001)\n",
    "\n",
    "\n",
    "for epoch in range(10):\n",
    "    # Set to training mode\n",
    "    model.train()\n",
    "    for batch in train_loader:\n",
    "        inputs, labels = batch\n",
    "        inputs, labels = inputs.to(device), labels.to(device)  # Ensure inputs and labels are on the same device\n",
    "        optimizer.zero_grad()\n",
    "        outputs = model(inputs)\n",
    "        loss = criterion(outputs, labels)\n",
    "        probs = F.softmax(outputs, dim=1)\n",
    "        probs_ls.append(probs)\n",
    "        loss.backward()\n",
    "        optimizer.step()\n",
    "\n",
    "    # Switch to eval mode\n",
    "    model.eval()\n",
    "    val_loss = 0\n",
    "    correct = 0\n",
    "    all_labels = []\n",
    "    all_preds = []\n",
    "    \n",
    "    with torch.no_grad():\n",
    "        for batch in val_loader:\n",
    "            inputs, labels = batch\n",
    "            inputs, labels = inputs.to(device), labels.to(device)  # Ensure inputs and labels are on the same device\n",
    "            outputs = model(inputs)\n",
    "            loss = criterion(outputs, labels)\n",
    "            val_loss += loss.item()\n",
    "            _, predicted = torch.max(outputs, 1)\n",
    "            correct += (predicted == labels).sum().item()\n",
    "            \n",
    "            # Collect all labels and predictions for precision and recall\n",
    "            all_labels.extend(labels.cpu().numpy())\n",
    "            all_preds.extend(predicted.cpu().numpy())\n",
    "\n",
    "    accuracy = correct / len(val_loader.dataset)\n",
    "    \n",
    "    # Calculate precision and recall\n",
    "    precision = precision_score(all_labels, all_preds, average='weighted')\n",
    "    recall = recall_score(all_labels, all_preds, average='weighted')\n",
    "    \n",
    "    print(f'Epoch {epoch+1}, Val Loss: {val_loss / len(val_loader):.4f}, Val Acc: {accuracy:.4f}, Precision: {precision:.4f}, Recall: {recall:.4f}')\n",
    "\n",
    "# Save the model\n",
    "torch.save(model.state_dict(), 'lsdc_resnet50_model1.pth')"
   ]
  },
  {
   "cell_type": "code",
   "execution_count": 30,
   "id": "d2e97408",
   "metadata": {
    "execution": {
     "iopub.execute_input": "2024-12-12T05:14:26.349085Z",
     "iopub.status.busy": "2024-12-12T05:14:26.348766Z",
     "iopub.status.idle": "2024-12-12T05:14:26.353162Z",
     "shell.execute_reply": "2024-12-12T05:14:26.352310Z"
    },
    "papermill": {
     "duration": 0.016118,
     "end_time": "2024-12-12T05:14:26.354746",
     "exception": false,
     "start_time": "2024-12-12T05:14:26.338628",
     "status": "completed"
    },
    "tags": []
   },
   "outputs": [
    {
     "name": "stdout",
     "output_type": "stream",
     "text": [
      "done\n"
     ]
    }
   ],
   "source": [
    "print(\"done\")"
   ]
  },
  {
   "cell_type": "code",
   "execution_count": null,
   "id": "025c2bf7",
   "metadata": {
    "papermill": {
     "duration": 0.008981,
     "end_time": "2024-12-12T05:14:26.372880",
     "exception": false,
     "start_time": "2024-12-12T05:14:26.363899",
     "status": "completed"
    },
    "tags": []
   },
   "outputs": [],
   "source": []
  },
  {
   "cell_type": "markdown",
   "id": "f4a24cc3",
   "metadata": {
    "papermill": {
     "duration": 0.008792,
     "end_time": "2024-12-12T05:14:26.390815",
     "exception": false,
     "start_time": "2024-12-12T05:14:26.382023",
     "status": "completed"
    },
    "tags": []
   },
   "source": []
  }
 ],
 "metadata": {
  "kaggle": {
   "accelerator": "nvidiaTeslaT4",
   "dataSources": [
    {
     "databundleVersionId": 8561470,
     "sourceId": 71549,
     "sourceType": "competition"
    },
    {
     "datasetId": 5559249,
     "sourceId": 9195731,
     "sourceType": "datasetVersion"
    },
    {
     "datasetId": 6248060,
     "sourceId": 10125114,
     "sourceType": "datasetVersion"
    },
    {
     "datasetId": 6254641,
     "sourceId": 10134553,
     "sourceType": "datasetVersion"
    },
    {
     "datasetId": 6254712,
     "sourceId": 10134693,
     "sourceType": "datasetVersion"
    },
    {
     "datasetId": 6255069,
     "sourceId": 10135234,
     "sourceType": "datasetVersion"
    },
    {
     "datasetId": 6285512,
     "sourceId": 10176281,
     "sourceType": "datasetVersion"
    },
    {
     "datasetId": 6285516,
     "sourceId": 10176285,
     "sourceType": "datasetVersion"
    },
    {
     "sourceId": 192715298,
     "sourceType": "kernelVersion"
    },
    {
     "sourceId": 193161758,
     "sourceType": "kernelVersion"
    }
   ],
   "isGpuEnabled": true,
   "isInternetEnabled": true,
   "language": "python",
   "sourceType": "notebook"
  },
  "kernelspec": {
   "display_name": "Python 3",
   "language": "python",
   "name": "python3"
  },
  "language_info": {
   "codemirror_mode": {
    "name": "ipython",
    "version": 3
   },
   "file_extension": ".py",
   "mimetype": "text/x-python",
   "name": "python",
   "nbconvert_exporter": "python",
   "pygments_lexer": "ipython3",
   "version": "3.10.14"
  },
  "papermill": {
   "default_parameters": {},
   "duration": 2063.542793,
   "end_time": "2024-12-12T05:14:29.518554",
   "environment_variables": {},
   "exception": null,
   "input_path": "__notebook__.ipynb",
   "output_path": "__notebook__.ipynb",
   "parameters": {},
   "start_time": "2024-12-12T04:40:05.975761",
   "version": "2.6.0"
  }
 },
 "nbformat": 4,
 "nbformat_minor": 5
}
