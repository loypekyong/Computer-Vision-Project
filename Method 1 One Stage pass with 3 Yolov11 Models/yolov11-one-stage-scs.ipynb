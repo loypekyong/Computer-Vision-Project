{
 "cells": [
  {
   "cell_type": "code",
   "execution_count": 1,
   "metadata": {
    "_cell_guid": "b1076dfc-b9ad-4769-8c92-a6c4dae69d19",
    "_uuid": "8f2839f25d086af736a60e9eeb907d3b93b6e0e5",
    "execution": {
     "iopub.execute_input": "2024-11-14T12:17:29.162952Z",
     "iopub.status.busy": "2024-11-14T12:17:29.162600Z",
     "iopub.status.idle": "2024-11-14T12:17:29.168561Z",
     "shell.execute_reply": "2024-11-14T12:17:29.167690Z",
     "shell.execute_reply.started": "2024-11-14T12:17:29.162923Z"
    },
    "trusted": true
   },
   "outputs": [],
   "source": [
    "import os\n",
    "import pandas as pd\n",
    "import numpy as np\n",
    "import pydicom\n",
    "from tqdm.auto import tqdm\n",
    "import matplotlib.pyplot as plt\n",
    "import cv2\n",
    "import glob"
   ]
  },
  {
   "cell_type": "code",
   "execution_count": 2,
   "metadata": {
    "execution": {
     "iopub.execute_input": "2024-11-14T12:17:29.170384Z",
     "iopub.status.busy": "2024-11-14T12:17:29.170090Z",
     "iopub.status.idle": "2024-11-14T12:17:30.175624Z",
     "shell.execute_reply": "2024-11-14T12:17:30.174504Z",
     "shell.execute_reply.started": "2024-11-14T12:17:29.170363Z"
    },
    "trusted": true
   },
   "outputs": [
    {
     "name": "stdout",
     "output_type": "stream",
     "text": [
      "\u001b[0m\u001b[01;34mdata_fold0\u001b[0m/  \u001b[01;34mspine_detection\u001b[0m/  state.db  yolo11n.pt  yolo_scs.yaml\n"
     ]
    }
   ],
   "source": [
    "ls"
   ]
  },
  {
   "cell_type": "code",
   "execution_count": 3,
   "metadata": {
    "execution": {
     "iopub.execute_input": "2024-11-14T12:17:30.177472Z",
     "iopub.status.busy": "2024-11-14T12:17:30.177181Z",
     "iopub.status.idle": "2024-11-14T12:17:30.183088Z",
     "shell.execute_reply": "2024-11-14T12:17:30.182091Z",
     "shell.execute_reply.started": "2024-11-14T12:17:30.177445Z"
    },
    "trusted": true
   },
   "outputs": [],
   "source": [
    "IMG_DIR = \"/kaggle/input/rsna-2024-lumbar-spine-degenerative-classification/train_images\""
   ]
  },
  {
   "cell_type": "code",
   "execution_count": 4,
   "metadata": {
    "execution": {
     "iopub.execute_input": "2024-11-14T12:17:30.186239Z",
     "iopub.status.busy": "2024-11-14T12:17:30.185737Z",
     "iopub.status.idle": "2024-11-14T12:17:30.192385Z",
     "shell.execute_reply": "2024-11-14T12:17:30.191428Z",
     "shell.execute_reply.started": "2024-11-14T12:17:30.186209Z"
    },
    "trusted": true
   },
   "outputs": [],
   "source": [
    "FOLD = 0\n",
    "OD_INPUT_SIZE = 384\n",
    "STD_BOX_SIZE = 20\n",
    "BATCH_SIZE = 64\n",
    "\n",
    "SAMPLE = None\n",
    "CONDITIONS = ['Spinal Canal Stenosis']\n",
    "SEVERITIES = ['Normal/Mild', 'Moderate', 'Severe']\n",
    "LEVELS = ['l1_l2', 'l2_l3', 'l3_l4', 'l4_l5', 'l5_s1']\n",
    "\n",
    "DATA_DIR = f'data_fold{FOLD}'\n",
    "\n"
   ]
  },
  {
   "cell_type": "code",
   "execution_count": 5,
   "metadata": {
    "execution": {
     "iopub.execute_input": "2024-11-14T12:17:30.193862Z",
     "iopub.status.busy": "2024-11-14T12:17:30.193583Z",
     "iopub.status.idle": "2024-11-14T12:17:30.200925Z",
     "shell.execute_reply": "2024-11-14T12:17:30.200022Z",
     "shell.execute_reply.started": "2024-11-14T12:17:30.193840Z"
    },
    "trusted": true
   },
   "outputs": [],
   "source": [
    "# rm -rf val_fold0"
   ]
  },
  {
   "cell_type": "code",
   "execution_count": 6,
   "metadata": {
    "execution": {
     "iopub.execute_input": "2024-11-14T12:17:30.202270Z",
     "iopub.status.busy": "2024-11-14T12:17:30.201956Z",
     "iopub.status.idle": "2024-11-14T12:17:30.368095Z",
     "shell.execute_reply": "2024-11-14T12:17:30.367157Z",
     "shell.execute_reply.started": "2024-11-14T12:17:30.202248Z"
    },
    "trusted": true
   },
   "outputs": [],
   "source": [
    "train_val_df = pd.read_csv('/kaggle/input/rsna-2024-lumbar-spine-degenerative-classification/train.csv')\n",
    "train_xy = pd.read_csv('/kaggle/input/rsna-2024-lumbar-spine-degenerative-classification/train_label_coordinates.csv')\n",
    "train_des = pd.read_csv('/kaggle/input/rsna-2024-lumbar-spine-degenerative-classification/train_series_descriptions.csv')"
   ]
  },
  {
   "cell_type": "code",
   "execution_count": 7,
   "metadata": {
    "execution": {
     "iopub.execute_input": "2024-11-14T12:17:30.369539Z",
     "iopub.status.busy": "2024-11-14T12:17:30.369240Z",
     "iopub.status.idle": "2024-11-14T12:17:30.374317Z",
     "shell.execute_reply": "2024-11-14T12:17:30.373289Z",
     "shell.execute_reply.started": "2024-11-14T12:17:30.369513Z"
    },
    "trusted": true
   },
   "outputs": [],
   "source": [
    "if SAMPLE:\n",
    "    train_val_df = train_val_df.sample(SAMPLE, random_state=2698)"
   ]
  },
  {
   "cell_type": "code",
   "execution_count": 8,
   "metadata": {
    "execution": {
     "iopub.execute_input": "2024-11-14T12:17:30.376388Z",
     "iopub.status.busy": "2024-11-14T12:17:30.375517Z",
     "iopub.status.idle": "2024-11-14T12:17:30.392611Z",
     "shell.execute_reply": "2024-11-14T12:17:30.391706Z",
     "shell.execute_reply.started": "2024-11-14T12:17:30.376344Z"
    },
    "trusted": true
   },
   "outputs": [],
   "source": [
    "fold_df = pd.read_csv('/kaggle/input/lsdc-fold-split/5folds.csv')"
   ]
  },
  {
   "cell_type": "code",
   "execution_count": 9,
   "metadata": {
    "execution": {
     "iopub.execute_input": "2024-11-14T12:17:30.394341Z",
     "iopub.status.busy": "2024-11-14T12:17:30.393725Z",
     "iopub.status.idle": "2024-11-14T12:17:30.418316Z",
     "shell.execute_reply": "2024-11-14T12:17:30.417601Z",
     "shell.execute_reply.started": "2024-11-14T12:17:30.394308Z"
    },
    "trusted": true
   },
   "outputs": [
    {
     "data": {
      "text/html": [
       "<div>\n",
       "<style scoped>\n",
       "    .dataframe tbody tr th:only-of-type {\n",
       "        vertical-align: middle;\n",
       "    }\n",
       "\n",
       "    .dataframe tbody tr th {\n",
       "        vertical-align: top;\n",
       "    }\n",
       "\n",
       "    .dataframe thead th {\n",
       "        text-align: right;\n",
       "    }\n",
       "</style>\n",
       "<table border=\"1\" class=\"dataframe\">\n",
       "  <thead>\n",
       "    <tr style=\"text-align: right;\">\n",
       "      <th></th>\n",
       "      <th>study_id</th>\n",
       "      <th>series_id</th>\n",
       "      <th>instance_number</th>\n",
       "      <th>condition</th>\n",
       "      <th>level</th>\n",
       "      <th>x</th>\n",
       "      <th>y</th>\n",
       "    </tr>\n",
       "  </thead>\n",
       "  <tbody>\n",
       "    <tr>\n",
       "      <th>0</th>\n",
       "      <td>4003253</td>\n",
       "      <td>702807833</td>\n",
       "      <td>8</td>\n",
       "      <td>Spinal Canal Stenosis</td>\n",
       "      <td>L1/L2</td>\n",
       "      <td>322.831858</td>\n",
       "      <td>227.964602</td>\n",
       "    </tr>\n",
       "    <tr>\n",
       "      <th>1</th>\n",
       "      <td>4003253</td>\n",
       "      <td>702807833</td>\n",
       "      <td>8</td>\n",
       "      <td>Spinal Canal Stenosis</td>\n",
       "      <td>L2/L3</td>\n",
       "      <td>320.571429</td>\n",
       "      <td>295.714286</td>\n",
       "    </tr>\n",
       "    <tr>\n",
       "      <th>2</th>\n",
       "      <td>4003253</td>\n",
       "      <td>702807833</td>\n",
       "      <td>8</td>\n",
       "      <td>Spinal Canal Stenosis</td>\n",
       "      <td>L3/L4</td>\n",
       "      <td>323.030303</td>\n",
       "      <td>371.818182</td>\n",
       "    </tr>\n",
       "  </tbody>\n",
       "</table>\n",
       "</div>"
      ],
      "text/plain": [
       "   study_id  series_id  instance_number              condition  level  \\\n",
       "0   4003253  702807833                8  Spinal Canal Stenosis  L1/L2   \n",
       "1   4003253  702807833                8  Spinal Canal Stenosis  L2/L3   \n",
       "2   4003253  702807833                8  Spinal Canal Stenosis  L3/L4   \n",
       "\n",
       "            x           y  \n",
       "0  322.831858  227.964602  \n",
       "1  320.571429  295.714286  \n",
       "2  323.030303  371.818182  "
      ]
     },
     "execution_count": 9,
     "metadata": {},
     "output_type": "execute_result"
    }
   ],
   "source": [
    "train_xy.head(3)"
   ]
  },
  {
   "cell_type": "code",
   "execution_count": 10,
   "metadata": {
    "execution": {
     "iopub.execute_input": "2024-11-14T12:17:30.422921Z",
     "iopub.status.busy": "2024-11-14T12:17:30.422645Z",
     "iopub.status.idle": "2024-11-14T12:17:30.429781Z",
     "shell.execute_reply": "2024-11-14T12:17:30.428774Z",
     "shell.execute_reply.started": "2024-11-14T12:17:30.422898Z"
    },
    "trusted": true
   },
   "outputs": [],
   "source": [
    "def get_level(text):\n",
    "    for lev in ['l1_l2', 'l2_l3', 'l3_l4', 'l4_l5', 'l5_s1']:\n",
    "        if lev in text:\n",
    "            split = lev.split('_')\n",
    "            split[0] = split[0].capitalize()\n",
    "            split[1] = split[1].capitalize()\n",
    "            return '/'.join(split)\n",
    "    raise ValueError('Level not found '+ lev)\n",
    "    \n",
    "def get_condition(text):\n",
    "    split = text.split('_')\n",
    "    for i in range(len(split)):\n",
    "        split[i] = split[i].capitalize()\n",
    "    split = split[:-2]\n",
    "    return ' '.join(split)\n",
    "#     raise ValueError('Condition not found '+ lev)"
   ]
  },
  {
   "cell_type": "code",
   "execution_count": 11,
   "metadata": {
    "execution": {
     "iopub.execute_input": "2024-11-14T12:17:30.431359Z",
     "iopub.status.busy": "2024-11-14T12:17:30.431020Z",
     "iopub.status.idle": "2024-11-14T12:17:30.446956Z",
     "shell.execute_reply": "2024-11-14T12:17:30.446104Z",
     "shell.execute_reply.started": "2024-11-14T12:17:30.431335Z"
    },
    "trusted": true
   },
   "outputs": [
    {
     "data": {
      "text/plain": [
       "array(['Spinal Canal Stenosis', 'Right Neural Foraminal Narrowing',\n",
       "       'Left Neural Foraminal Narrowing', 'Left Subarticular Stenosis',\n",
       "       'Right Subarticular Stenosis'], dtype=object)"
      ]
     },
     "execution_count": 11,
     "metadata": {},
     "output_type": "execute_result"
    }
   ],
   "source": [
    "train_xy['condition'].unique()"
   ]
  },
  {
   "cell_type": "code",
   "execution_count": 12,
   "metadata": {
    "execution": {
     "iopub.execute_input": "2024-11-14T12:17:30.448188Z",
     "iopub.status.busy": "2024-11-14T12:17:30.447917Z",
     "iopub.status.idle": "2024-11-14T12:17:30.453096Z",
     "shell.execute_reply": "2024-11-14T12:17:30.452195Z",
     "shell.execute_reply.started": "2024-11-14T12:17:30.448156Z"
    },
    "trusted": true
   },
   "outputs": [],
   "source": [
    "# train_df = train_df.dropna()"
   ]
  },
  {
   "cell_type": "code",
   "execution_count": 13,
   "metadata": {
    "execution": {
     "iopub.execute_input": "2024-11-14T12:17:30.454488Z",
     "iopub.status.busy": "2024-11-14T12:17:30.454208Z",
     "iopub.status.idle": "2024-11-14T12:17:31.152474Z",
     "shell.execute_reply": "2024-11-14T12:17:31.151164Z",
     "shell.execute_reply.started": "2024-11-14T12:17:30.454466Z"
    },
    "trusted": true
   },
   "outputs": [],
   "source": [
    "label_df = {'study_id':[], 'condition': [], 'level':[], 'label':[]}\n",
    "\n",
    "for i, row in train_val_df.iterrows():\n",
    "    study_id = row['study_id']\n",
    "    for k, label in row.iloc[1:].to_dict().items():\n",
    "        level = get_level(k)\n",
    "        condition = get_condition(k)\n",
    "        label_df['study_id'].append(study_id)\n",
    "        label_df['condition'].append(condition)\n",
    "        label_df['level'].append(level)\n",
    "        label_df['label'].append(label)\n",
    "#         break\n",
    "#     break\n",
    "\n",
    "label_df = pd.DataFrame(label_df)\n",
    "label_df = label_df.merge(fold_df, on='study_id')"
   ]
  },
  {
   "cell_type": "code",
   "execution_count": 14,
   "metadata": {
    "execution": {
     "iopub.execute_input": "2024-11-14T12:17:31.154358Z",
     "iopub.status.busy": "2024-11-14T12:17:31.153985Z",
     "iopub.status.idle": "2024-11-14T12:17:31.242001Z",
     "shell.execute_reply": "2024-11-14T12:17:31.241121Z",
     "shell.execute_reply.started": "2024-11-14T12:17:31.154327Z"
    },
    "trusted": true
   },
   "outputs": [],
   "source": [
    "train_xy = train_xy.merge(train_des, how='inner', on=['study_id', 'series_id'])\n",
    "label_df = label_df.merge(train_xy, how='inner', on=['study_id', 'condition', 'level'])"
   ]
  },
  {
   "cell_type": "code",
   "execution_count": 15,
   "metadata": {
    "execution": {
     "iopub.execute_input": "2024-11-14T12:17:31.244243Z",
     "iopub.status.busy": "2024-11-14T12:17:31.243663Z",
     "iopub.status.idle": "2024-11-14T12:17:31.251401Z",
     "shell.execute_reply": "2024-11-14T12:17:31.250205Z",
     "shell.execute_reply.started": "2024-11-14T12:17:31.244207Z"
    },
    "trusted": true
   },
   "outputs": [],
   "source": [
    "def query_train_xy_row(study_id, series_id=None, instance_num=None):\n",
    "    if series_id is not None and instance_num is not None:\n",
    "        return label_df[(label_df.study_id==study_id) & (label_df.series_id==series_id) &\n",
    "            (label_df.instance_number==instance_num)]\n",
    "    elif series_id is None and instance_num is None:\n",
    "        return label_df[(label_df.study_id==study_id)]\n",
    "    else:\n",
    "        return label_df[(train_xy.study_id==study_id) & (label_df.series_id==series_id)]"
   ]
  },
  {
   "cell_type": "code",
   "execution_count": 16,
   "metadata": {
    "execution": {
     "iopub.execute_input": "2024-11-14T12:17:31.252916Z",
     "iopub.status.busy": "2024-11-14T12:17:31.252588Z",
     "iopub.status.idle": "2024-11-14T12:17:31.260378Z",
     "shell.execute_reply": "2024-11-14T12:17:31.259326Z",
     "shell.execute_reply.started": "2024-11-14T12:17:31.252887Z"
    },
    "trusted": true
   },
   "outputs": [],
   "source": [
    "def read_dcm(src_path):\n",
    "    dicom_data = pydicom.dcmread(src_path)\n",
    "    image = dicom_data.pixel_array\n",
    "    image = (image - image.min()) / (image.max() - image.min() +1e-6) * 255\n",
    "    image = np.stack([image]*3, axis=-1).astype('uint8')\n",
    "    return image\n",
    "\n",
    "def get_accronym(text):\n",
    "    split = text.split(' ')\n",
    "    return ''.join([x[0] for x in split])"
   ]
  },
  {
   "cell_type": "code",
   "execution_count": 37,
   "metadata": {
    "execution": {
     "iopub.execute_input": "2024-11-14T12:19:16.037760Z",
     "iopub.status.busy": "2024-11-14T12:19:16.037383Z",
     "iopub.status.idle": "2024-11-14T12:19:16.042219Z",
     "shell.execute_reply": "2024-11-14T12:19:16.041139Z",
     "shell.execute_reply.started": "2024-11-14T12:19:16.037734Z"
    },
    "trusted": true
   },
   "outputs": [],
   "source": [
    "# label_df[['study_id', 'series_id']].drop_duplicates()"
   ]
  },
  {
   "cell_type": "code",
   "execution_count": 39,
   "metadata": {
    "execution": {
     "iopub.execute_input": "2024-11-14T12:19:16.055982Z",
     "iopub.status.busy": "2024-11-14T12:19:16.055572Z",
     "iopub.status.idle": "2024-11-14T12:19:16.085570Z",
     "shell.execute_reply": "2024-11-14T12:19:16.084776Z",
     "shell.execute_reply.started": "2024-11-14T12:19:16.055953Z"
    },
    "trusted": true
   },
   "outputs": [],
   "source": [
    "filtered_df = label_df[label_df.condition.map(lambda x: x in CONDITIONS)]"
   ]
  },
  {
   "cell_type": "code",
   "execution_count": 40,
   "metadata": {
    "execution": {
     "iopub.execute_input": "2024-11-14T12:19:16.087922Z",
     "iopub.status.busy": "2024-11-14T12:19:16.087636Z",
     "iopub.status.idle": "2024-11-14T12:19:16.094167Z",
     "shell.execute_reply": "2024-11-14T12:19:16.093388Z",
     "shell.execute_reply.started": "2024-11-14T12:19:16.087899Z"
    },
    "trusted": true
   },
   "outputs": [],
   "source": [
    "label2id = {}\n",
    "id2label = {}\n",
    "i = 0\n",
    "for cond in CONDITIONS:\n",
    "    for level in LEVELS:\n",
    "        for severity in SEVERITIES:\n",
    "            cls_ = f\"{cond.lower().replace(' ', '_')}_{level}_{severity.lower()}\"\n",
    "            label2id[cls_] = i\n",
    "            id2label[i] = cls_\n",
    "            i+=1"
   ]
  },
  {
   "cell_type": "code",
   "execution_count": 41,
   "metadata": {
    "execution": {
     "iopub.execute_input": "2024-11-14T12:19:16.095328Z",
     "iopub.status.busy": "2024-11-14T12:19:16.095012Z",
     "iopub.status.idle": "2024-11-14T12:19:16.108404Z",
     "shell.execute_reply": "2024-11-14T12:19:16.107560Z",
     "shell.execute_reply.started": "2024-11-14T12:19:16.095304Z"
    },
    "trusted": true
   },
   "outputs": [
    {
     "data": {
      "text/plain": [
       "{0: 'spinal_canal_stenosis_l1_l2_normal/mild',\n",
       " 1: 'spinal_canal_stenosis_l1_l2_moderate',\n",
       " 2: 'spinal_canal_stenosis_l1_l2_severe',\n",
       " 3: 'spinal_canal_stenosis_l2_l3_normal/mild',\n",
       " 4: 'spinal_canal_stenosis_l2_l3_moderate',\n",
       " 5: 'spinal_canal_stenosis_l2_l3_severe',\n",
       " 6: 'spinal_canal_stenosis_l3_l4_normal/mild',\n",
       " 7: 'spinal_canal_stenosis_l3_l4_moderate',\n",
       " 8: 'spinal_canal_stenosis_l3_l4_severe',\n",
       " 9: 'spinal_canal_stenosis_l4_l5_normal/mild',\n",
       " 10: 'spinal_canal_stenosis_l4_l5_moderate',\n",
       " 11: 'spinal_canal_stenosis_l4_l5_severe',\n",
       " 12: 'spinal_canal_stenosis_l5_s1_normal/mild',\n",
       " 13: 'spinal_canal_stenosis_l5_s1_moderate',\n",
       " 14: 'spinal_canal_stenosis_l5_s1_severe'}"
      ]
     },
     "execution_count": 41,
     "metadata": {},
     "output_type": "execute_result"
    }
   ],
   "source": [
    "id2label"
   ]
  },
  {
   "cell_type": "code",
   "execution_count": 42,
   "metadata": {
    "execution": {
     "iopub.execute_input": "2024-11-14T12:19:16.109852Z",
     "iopub.status.busy": "2024-11-14T12:19:16.109520Z",
     "iopub.status.idle": "2024-11-14T12:19:16.119191Z",
     "shell.execute_reply": "2024-11-14T12:19:16.118356Z",
     "shell.execute_reply.started": "2024-11-14T12:19:16.109823Z"
    },
    "trusted": true
   },
   "outputs": [],
   "source": [
    "train_df = filtered_df[filtered_df.fold != FOLD]\n",
    "val_df = filtered_df[filtered_df.fold == FOLD]"
   ]
  },
  {
   "cell_type": "code",
   "execution_count": null,
   "metadata": {
    "execution": {
     "iopub.execute_input": "2024-11-14T12:19:16.120598Z",
     "iopub.status.busy": "2024-11-14T12:19:16.120313Z",
     "iopub.status.idle": "2024-11-14T12:19:16.407568Z",
     "shell.execute_reply": "2024-11-14T12:19:16.403085Z",
     "shell.execute_reply.started": "2024-11-14T12:19:16.120562Z"
    },
    "trusted": true
   },
   "outputs": [
    {
     "data": {
      "text/plain": [
       "<matplotlib.image.AxesImage at 0x7cb069994700>"
      ]
     },
     "execution_count": 43,
     "metadata": {},
     "output_type": "execute_result"
    },
    {
     "data": {
      "image/png": "[encoded data removed]",
      "text/plain": [
       "<Figure size 640x480 with 1 Axes>"
      ]
     },
     "metadata": {},
     "output_type": "display_data"
    }
   ],
   "source": [
    "# # test generated annotations\n",
    "\n",
    "_IM_DIR = f'{DATA_DIR}/images/train'\n",
    "_ANN_DIR = f'{DATA_DIR}/labels/train'\n",
    "name = np.random.choice(os.listdir(_IM_DIR))[:-4]\n",
    "\n",
    "im = plt.imread(os.path.join(_IM_DIR, name+'.jpg')).copy()\n",
    "H,W = im.shape[:2]\n",
    "anns = np.loadtxt(os.path.join(_ANN_DIR, name+'.txt')).reshape(-1, 5)\n",
    "fontFace = cv2.FONT_HERSHEY_SIMPLEX\n",
    "\n",
    "for _cls, x,y,w,h in anns.tolist():\n",
    "    x *= W\n",
    "    y *= H\n",
    "    w *= W\n",
    "    h *= H\n",
    "    x1 = int(x-w/2)\n",
    "    x2 = int(x+w/2)\n",
    "    y1 = int(y-h/2)\n",
    "    y2 = int(y+h/2)\n",
    "    label = id2label[_cls]\n",
    "    \n",
    "#     if _cls == 0:\n",
    "#         c = (255,0,0)\n",
    "#     elif _cls == 1:\n",
    "#         c = (0,255,0)\n",
    "#     else:\n",
    "#         c = (255,255,0)\n",
    "    c = (0,255,255)\n",
    "\n",
    "    im = cv2.rectangle(im, (x1,y1), (x2,y2), c, 2)\n",
    "    cv2.putText(im, label, (x1,y1), fontFace, 0.3, c, 1, cv2.LINE_AA)\n",
    "\n",
    "\n",
    "plt.imshow(im)"
   ]
  },
  {
   "cell_type": "code",
   "execution_count": 44,
   "metadata": {
    "execution": {
     "iopub.execute_input": "2024-11-14T12:19:16.412062Z",
     "iopub.status.busy": "2024-11-14T12:19:16.411426Z",
     "iopub.status.idle": "2024-11-14T12:19:16.417205Z",
     "shell.execute_reply": "2024-11-14T12:19:16.416263Z",
     "shell.execute_reply.started": "2024-11-14T12:19:16.412026Z"
    },
    "trusted": true
   },
   "outputs": [],
   "source": [
    "# ls data_fold0/labels/val"
   ]
  },
  {
   "cell_type": "code",
   "execution_count": 45,
   "metadata": {
    "execution": {
     "iopub.execute_input": "2024-11-14T12:19:16.418572Z",
     "iopub.status.busy": "2024-11-14T12:19:16.418305Z",
     "iopub.status.idle": "2024-11-14T12:19:16.425713Z",
     "shell.execute_reply": "2024-11-14T12:19:16.424822Z",
     "shell.execute_reply.started": "2024-11-14T12:19:16.418549Z"
    },
    "trusted": true
   },
   "outputs": [],
   "source": [
    "# os.path.join(_ANN_DIR, name+'.txt')"
   ]
  },
  {
   "cell_type": "code",
   "execution_count": 46,
   "metadata": {
    "execution": {
     "iopub.execute_input": "2024-11-14T12:19:16.428870Z",
     "iopub.status.busy": "2024-11-14T12:19:16.428562Z",
     "iopub.status.idle": "2024-11-14T12:19:16.435908Z",
     "shell.execute_reply": "2024-11-14T12:19:16.435057Z",
     "shell.execute_reply.started": "2024-11-14T12:19:16.428845Z"
    },
    "trusted": true
   },
   "outputs": [],
   "source": [
    "# cat 'train_fold0/labels/404602713_1230697721_12.txt'"
   ]
  },
  {
   "cell_type": "code",
   "execution_count": 47,
   "metadata": {
    "execution": {
     "iopub.execute_input": "2024-11-14T12:19:16.437219Z",
     "iopub.status.busy": "2024-11-14T12:19:16.436933Z",
     "iopub.status.idle": "2024-11-14T12:19:44.411573Z",
     "shell.execute_reply": "2024-11-14T12:19:44.410423Z",
     "shell.execute_reply.started": "2024-11-14T12:19:16.437196Z"
    },
    "trusted": true
   },
   "outputs": [
    {
     "name": "stderr",
     "output_type": "stream",
     "text": [
      "/opt/conda/lib/python3.10/pty.py:89: RuntimeWarning: os.fork() was called. os.fork() is incompatible with multithreaded code, and JAX is multithreaded, so this will likely lead to a deadlock.\n",
      "  pid, fd = os.forkpty()\n"
     ]
    },
    {
     "name": "stdout",
     "output_type": "stream",
     "text": [
      "Collecting git+https://github.com/ultralytics/ultralytics.git@main\n",
      "  Cloning https://github.com/ultralytics/ultralytics.git (to revision main) to /tmp/pip-req-build-yjhl4g4h\n",
      "  Running command git clone --filter=blob:none --quiet https://github.com/ultralytics/ultralytics.git /tmp/pip-req-build-yjhl4g4h\n",
      "  Resolved https://github.com/ultralytics/ultralytics.git to commit 4453ddab93c390c11c9f8bb8d90a761a4cec3342\n",
      "  Installing build dependencies ... \u001b[?25ldone\n",
      "\u001b[?25h  Getting requirements to build wheel ... \u001b[?25ldone\n",
      "\u001b[?25h  Preparing metadata (pyproject.toml) ... \u001b[?25ldone\n",
      "\u001b[?25hRequirement already satisfied: numpy>=1.23.0 in /opt/conda/lib/python3.10/site-packages (from ultralytics==8.3.31) (1.26.4)\n",
      "Requirement already satisfied: matplotlib>=3.3.0 in /opt/conda/lib/python3.10/site-packages (from ultralytics==8.3.31) (3.7.5)\n",
      "Requirement already satisfied: opencv-python>=4.6.0 in /opt/conda/lib/python3.10/site-packages (from ultralytics==8.3.31) (4.10.0.84)\n",
      "Requirement already satisfied: pillow>=7.1.2 in /opt/conda/lib/python3.10/site-packages (from ultralytics==8.3.31) (9.5.0)\n",
      "Requirement already satisfied: pyyaml>=5.3.1 in /opt/conda/lib/python3.10/site-packages (from ultralytics==8.3.31) (6.0.1)\n",
      "Requirement already satisfied: requests>=2.23.0 in /opt/conda/lib/python3.10/site-packages (from ultralytics==8.3.31) (2.32.3)\n",
      "Requirement already satisfied: scipy>=1.4.1 in /opt/conda/lib/python3.10/site-packages (from ultralytics==8.3.31) (1.11.4)\n",
      "Requirement already satisfied: torch>=1.8.0 in /opt/conda/lib/python3.10/site-packages (from ultralytics==8.3.31) (2.1.2)\n",
      "Requirement already satisfied: torchvision>=0.9.0 in /opt/conda/lib/python3.10/site-packages (from ultralytics==8.3.31) (0.16.2)\n",
      "Requirement already satisfied: tqdm>=4.64.0 in /opt/conda/lib/python3.10/site-packages (from ultralytics==8.3.31) (4.66.4)\n",
      "Requirement already satisfied: psutil in /opt/conda/lib/python3.10/site-packages (from ultralytics==8.3.31) (5.9.3)\n",
      "Requirement already satisfied: py-cpuinfo in /opt/conda/lib/python3.10/site-packages (from ultralytics==8.3.31) (9.0.0)\n",
      "Requirement already satisfied: pandas>=1.1.4 in /opt/conda/lib/python3.10/site-packages (from ultralytics==8.3.31) (2.2.2)\n",
      "Requirement already satisfied: seaborn>=0.11.0 in /opt/conda/lib/python3.10/site-packages (from ultralytics==8.3.31) (0.12.2)\n",
      "Requirement already satisfied: ultralytics-thop>=2.0.0 in /opt/conda/lib/python3.10/site-packages (from ultralytics==8.3.31) (2.0.11)\n",
      "Requirement already satisfied: contourpy>=1.0.1 in /opt/conda/lib/python3.10/site-packages (from matplotlib>=3.3.0->ultralytics==8.3.31) (1.2.0)\n",
      "Requirement already satisfied: cycler>=0.10 in /opt/conda/lib/python3.10/site-packages (from matplotlib>=3.3.0->ultralytics==8.3.31) (0.12.1)\n",
      "Requirement already satisfied: fonttools>=4.22.0 in /opt/conda/lib/python3.10/site-packages (from matplotlib>=3.3.0->ultralytics==8.3.31) (4.47.0)\n",
      "Requirement already satisfied: kiwisolver>=1.0.1 in /opt/conda/lib/python3.10/site-packages (from matplotlib>=3.3.0->ultralytics==8.3.31) (1.4.5)\n",
      "Requirement already satisfied: packaging>=20.0 in /opt/conda/lib/python3.10/site-packages (from matplotlib>=3.3.0->ultralytics==8.3.31) (21.3)\n",
      "Requirement already satisfied: pyparsing>=2.3.1 in /opt/conda/lib/python3.10/site-packages (from matplotlib>=3.3.0->ultralytics==8.3.31) (3.1.1)\n",
      "Requirement already satisfied: python-dateutil>=2.7 in /opt/conda/lib/python3.10/site-packages (from matplotlib>=3.3.0->ultralytics==8.3.31) (2.9.0.post0)\n",
      "Requirement already satisfied: pytz>=2020.1 in /opt/conda/lib/python3.10/site-packages (from pandas>=1.1.4->ultralytics==8.3.31) (2023.3.post1)\n",
      "Requirement already satisfied: tzdata>=2022.7 in /opt/conda/lib/python3.10/site-packages (from pandas>=1.1.4->ultralytics==8.3.31) (2023.4)\n",
      "Requirement already satisfied: charset-normalizer<4,>=2 in /opt/conda/lib/python3.10/site-packages (from requests>=2.23.0->ultralytics==8.3.31) (3.3.2)\n",
      "Requirement already satisfied: idna<4,>=2.5 in /opt/conda/lib/python3.10/site-packages (from requests>=2.23.0->ultralytics==8.3.31) (3.6)\n",
      "Requirement already satisfied: urllib3<3,>=1.21.1 in /opt/conda/lib/python3.10/site-packages (from requests>=2.23.0->ultralytics==8.3.31) (1.26.18)\n",
      "Requirement already satisfied: certifi>=2017.4.17 in /opt/conda/lib/python3.10/site-packages (from requests>=2.23.0->ultralytics==8.3.31) (2024.7.4)\n",
      "Requirement already satisfied: filelock in /opt/conda/lib/python3.10/site-packages (from torch>=1.8.0->ultralytics==8.3.31) (3.13.1)\n",
      "Requirement already satisfied: typing-extensions in /opt/conda/lib/python3.10/site-packages (from torch>=1.8.0->ultralytics==8.3.31) (4.9.0)\n",
      "Requirement already satisfied: sympy in /opt/conda/lib/python3.10/site-packages (from torch>=1.8.0->ultralytics==8.3.31) (1.13.0)\n",
      "Requirement already satisfied: networkx in /opt/conda/lib/python3.10/site-packages (from torch>=1.8.0->ultralytics==8.3.31) (3.2.1)\n",
      "Requirement already satisfied: jinja2 in /opt/conda/lib/python3.10/site-packages (from torch>=1.8.0->ultralytics==8.3.31) (3.1.2)\n",
      "Requirement already satisfied: fsspec in /opt/conda/lib/python3.10/site-packages (from torch>=1.8.0->ultralytics==8.3.31) (2024.5.0)\n",
      "Requirement already satisfied: six>=1.5 in /opt/conda/lib/python3.10/site-packages (from python-dateutil>=2.7->matplotlib>=3.3.0->ultralytics==8.3.31) (1.16.0)\n",
      "Requirement already satisfied: MarkupSafe>=2.0 in /opt/conda/lib/python3.10/site-packages (from jinja2->torch>=1.8.0->ultralytics==8.3.31) (2.1.3)\n",
      "Requirement already satisfied: mpmath<1.4,>=1.1.0 in /opt/conda/lib/python3.10/site-packages (from sympy->torch>=1.8.0->ultralytics==8.3.31) (1.3.0)\n"
     ]
    }
   ],
   "source": [
    "# Install the ultralytics package from GitHub\n",
    "!pip install git+https://github.com/ultralytics/ultralytics.git@main"
   ]
  },
  {
   "cell_type": "code",
   "execution_count": 48,
   "metadata": {
    "execution": {
     "iopub.execute_input": "2024-11-14T12:19:44.413385Z",
     "iopub.status.busy": "2024-11-14T12:19:44.413037Z",
     "iopub.status.idle": "2024-11-14T12:19:44.418925Z",
     "shell.execute_reply": "2024-11-14T12:19:44.418027Z",
     "shell.execute_reply.started": "2024-11-14T12:19:44.413354Z"
    },
    "trusted": true
   },
   "outputs": [
    {
     "name": "stdout",
     "output_type": "stream",
     "text": [
      "0: spinal_canal_stenosis_l1_l2_normal/mild\n",
      "1: spinal_canal_stenosis_l1_l2_moderate\n",
      "2: spinal_canal_stenosis_l1_l2_severe\n",
      "3: spinal_canal_stenosis_l2_l3_normal/mild\n",
      "4: spinal_canal_stenosis_l2_l3_moderate\n",
      "5: spinal_canal_stenosis_l2_l3_severe\n",
      "6: spinal_canal_stenosis_l3_l4_normal/mild\n",
      "7: spinal_canal_stenosis_l3_l4_moderate\n",
      "8: spinal_canal_stenosis_l3_l4_severe\n",
      "9: spinal_canal_stenosis_l4_l5_normal/mild\n",
      "10: spinal_canal_stenosis_l4_l5_moderate\n",
      "11: spinal_canal_stenosis_l4_l5_severe\n",
      "12: spinal_canal_stenosis_l5_s1_normal/mild\n",
      "13: spinal_canal_stenosis_l5_s1_moderate\n",
      "14: spinal_canal_stenosis_l5_s1_severe\n"
     ]
    }
   ],
   "source": [
    "for k, v in id2label.items():\n",
    "    print(f'{k}: {v}')"
   ]
  },
  {
   "cell_type": "code",
   "execution_count": 49,
   "metadata": {
    "execution": {
     "iopub.execute_input": "2024-11-14T12:19:44.420931Z",
     "iopub.status.busy": "2024-11-14T12:19:44.420582Z",
     "iopub.status.idle": "2024-11-14T12:19:45.472877Z",
     "shell.execute_reply": "2024-11-14T12:19:45.471683Z",
     "shell.execute_reply.started": "2024-11-14T12:19:44.420897Z"
    },
    "trusted": true
   },
   "outputs": [
    {
     "name": "stdout",
     "output_type": "stream",
     "text": [
      "\u001b[0m\u001b[01;34mdata_fold0\u001b[0m/  \u001b[01;34mspine_detection\u001b[0m/  state.db  yolo11n.pt  yolo_scs.yaml\n"
     ]
    }
   ],
   "source": [
    "ls"
   ]
  },
  {
   "cell_type": "code",
   "execution_count": 50,
   "metadata": {
    "execution": {
     "iopub.execute_input": "2024-11-14T12:19:45.474976Z",
     "iopub.status.busy": "2024-11-14T12:19:45.474652Z",
     "iopub.status.idle": "2024-11-14T12:19:45.482302Z",
     "shell.execute_reply": "2024-11-14T12:19:45.481383Z",
     "shell.execute_reply.started": "2024-11-14T12:19:45.474946Z"
    },
    "trusted": true
   },
   "outputs": [
    {
     "name": "stdout",
     "output_type": "stream",
     "text": [
      "Overwriting yolo_scs.yaml\n"
     ]
    }
   ],
   "source": [
    "%%writefile yolo_scs.yaml\n",
    "path: /kaggle/working/data_fold0 # dataset root dir\n",
    "train: images/train  \n",
    "val: images/val \n",
    "test: images/val \n",
    "\n",
    "# Classes\n",
    "names:\n",
    "    0: spinal_canal_stenosis_l1_l2_normal/mild\n",
    "    1: spinal_canal_stenosis_l1_l2_moderate\n",
    "    2: spinal_canal_stenosis_l1_l2_severe\n",
    "    3: spinal_canal_stenosis_l2_l3_normal/mild\n",
    "    4: spinal_canal_stenosis_l2_l3_moderate\n",
    "    5: spinal_canal_stenosis_l2_l3_severe\n",
    "    6: spinal_canal_stenosis_l3_l4_normal/mild\n",
    "    7: spinal_canal_stenosis_l3_l4_moderate\n",
    "    8: spinal_canal_stenosis_l3_l4_severe\n",
    "    9: spinal_canal_stenosis_l4_l5_normal/mild\n",
    "    10: spinal_canal_stenosis_l4_l5_moderate\n",
    "    11: spinal_canal_stenosis_l4_l5_severe\n",
    "    12: spinal_canal_stenosis_l5_s1_normal/mild\n",
    "    13: spinal_canal_stenosis_l5_s1_moderate\n",
    "    14: spinal_canal_stenosis_l5_s1_severe\n",
    "  "
   ]
  },
  {
   "cell_type": "code",
   "execution_count": null,
   "metadata": {
    "trusted": true
   },
   "outputs": [],
   "source": [
    "# # test generated annotations\n",
    "\n",
    "_IM_DIR = f'{DATA_DIR}/images/val'\n",
    "_ANN_DIR = f'{DATA_DIR}/labels/val'\n",
    "name = np.random.choice(os.listdir(_IM_DIR))[:-4]\n",
    "\n",
    "path = os.path.join(_IM_DIR, name+'.jpg')\n",
    "\n",
    "im = plt.imread(path).copy()\n",
    "H,W = im.shape[:2]\n",
    "anns = np.loadtxt(os.path.join(_ANN_DIR, name+'.txt')).reshape(-1, 5)\n",
    "\n",
    "for _cls, x,y,w,h in anns.tolist():\n",
    "    x *= W\n",
    "    y *= H\n",
    "    w *= W\n",
    "    h *= H\n",
    "    x1 = int(x-w/2)\n",
    "    x2 = int(x+w/2)\n",
    "    y1 = int(y-h/2)\n",
    "    y2 = int(y+h/2)\n",
    "    label = id2label[_cls]\n",
    "    print(label)\n",
    "    \n",
    "#     if _cls == 0:\n",
    "#         c = (255,0,0)\n",
    "#     elif _cls == 1:\n",
    "#         c = (0,255,0)\n",
    "#     else:\n",
    "#         c = (255,255,0)\n",
    "    c = (0,255,255)\n",
    "\n",
    "    im = cv2.rectangle(im, (x1,y1), (x2,y2), c, 2)\n",
    "    cv2.putText(im, label, (x1,y1), fontFace, 0.3, c, 1, cv2.LINE_AA)\n",
    "\n",
    "\n",
    "plt.imshow(im)"
   ]
  },
  {
   "cell_type": "code",
   "execution_count": 51,
   "metadata": {
    "execution": {
     "iopub.execute_input": "2024-11-14T12:19:45.483964Z",
     "iopub.status.busy": "2024-11-14T12:19:45.483680Z",
     "iopub.status.idle": "2024-11-14T13:57:22.944846Z",
     "shell.execute_reply": "2024-11-14T13:57:22.943784Z",
     "shell.execute_reply.started": "2024-11-14T12:19:45.483941Z"
    },
    "trusted": true
   },
   "outputs": [
    {
     "name": "stdout",
     "output_type": "stream",
     "text": [
      "Ultralytics 8.3.31 🚀 Python-3.10.13 torch-2.1.2 CUDA:0 (Tesla P100-PCIE-16GB, 16269MiB)\n",
      "\u001b[34m\u001b[1mengine/trainer: \u001b[0mtask=detect, mode=train, model=/kaggle/input/yolov11x/other/default/1/yolo11x.pt, data=/kaggle/working/yolo_scs.yaml, epochs=100, time=None, patience=15, batch=16, imgsz=384, save=True, save_period=-1, cache=False, device=0, workers=8, project=spine_detection, name=Spinal_Canal_Stenosis_yolo, exist_ok=True, pretrained=True, optimizer=AdamW, verbose=True, seed=42, deterministic=True, single_cls=False, rect=False, cos_lr=False, close_mosaic=10, resume=False, amp=True, fraction=1.0, profile=False, freeze=None, multi_scale=False, overlap_mask=True, mask_ratio=4, dropout=0.2, val=True, split=val, save_json=False, save_hybrid=False, conf=None, iou=0.7, max_det=300, half=False, dnn=False, plots=True, source=None, vid_stride=1, stream_buffer=False, visualize=False, augment=False, agnostic_nms=False, classes=None, retina_masks=False, embed=None, show=False, save_frames=False, save_txt=False, save_conf=False, save_crop=False, show_labels=True, show_conf=True, show_boxes=True, line_width=None, format=torchscript, keras=False, optimize=False, int8=False, dynamic=False, simplify=True, opset=None, workspace=4, nms=False, lr0=0.001, lrf=0.01, momentum=0.937, weight_decay=0.0005, warmup_epochs=10, warmup_momentum=0.8, warmup_bias_lr=0.1, box=7.5, cls=0.5, dfl=1.5, pose=12.0, kobj=1.0, label_smoothing=0.0, nbs=64, hsv_h=0.015, hsv_s=0.7, hsv_v=0.4, degrees=0.0, translate=0.1, scale=0.5, shear=0.0, perspective=0.0, flipud=0.0, fliplr=0.5, bgr=0.0, mosaic=1.0, mixup=0.0, copy_paste=0.0, copy_paste_mode=flip, auto_augment=randaugment, erasing=0.4, crop_fraction=1.0, cfg=None, tracker=botsort.yaml, save_dir=spine_detection/Spinal_Canal_Stenosis_yolo\n",
      "Overriding model.yaml nc=80 with nc=15\n",
      "\n",
      "                   from  n    params  module                                       arguments                     \n",
      "  0                  -1  1      2784  ultralytics.nn.modules.conv.Conv             [3, 96, 3, 2]                 \n",
      "  1                  -1  1    166272  ultralytics.nn.modules.conv.Conv             [96, 192, 3, 2]               \n",
      "  2                  -1  2    389760  ultralytics.nn.modules.block.C3k2            [192, 384, 2, True, 0.25]     \n",
      "  3                  -1  1   1327872  ultralytics.nn.modules.conv.Conv             [384, 384, 3, 2]              \n",
      "  4                  -1  2   1553664  ultralytics.nn.modules.block.C3k2            [384, 768, 2, True, 0.25]     \n",
      "  5                  -1  1   5309952  ultralytics.nn.modules.conv.Conv             [768, 768, 3, 2]              \n",
      "  6                  -1  2   5022720  ultralytics.nn.modules.block.C3k2            [768, 768, 2, True]           \n",
      "  7                  -1  1   5309952  ultralytics.nn.modules.conv.Conv             [768, 768, 3, 2]              \n",
      "  8                  -1  2   5022720  ultralytics.nn.modules.block.C3k2            [768, 768, 2, True]           \n",
      "  9                  -1  1   1476864  ultralytics.nn.modules.block.SPPF            [768, 768, 5]                 \n",
      " 10                  -1  2   3264768  ultralytics.nn.modules.block.C2PSA           [768, 768, 2]                 \n",
      " 11                  -1  1         0  torch.nn.modules.upsampling.Upsample         [None, 2, 'nearest']          \n",
      " 12             [-1, 6]  1         0  ultralytics.nn.modules.conv.Concat           [1]                           \n",
      " 13                  -1  2   5612544  ultralytics.nn.modules.block.C3k2            [1536, 768, 2, True]          \n",
      " 14                  -1  1         0  torch.nn.modules.upsampling.Upsample         [None, 2, 'nearest']          \n",
      " 15             [-1, 4]  1         0  ultralytics.nn.modules.conv.Concat           [1]                           \n",
      " 16                  -1  2   1700352  ultralytics.nn.modules.block.C3k2            [1536, 384, 2, True]          \n",
      " 17                  -1  1   1327872  ultralytics.nn.modules.conv.Conv             [384, 384, 3, 2]              \n",
      " 18            [-1, 13]  1         0  ultralytics.nn.modules.conv.Concat           [1]                           \n",
      " 19                  -1  2   5317632  ultralytics.nn.modules.block.C3k2            [1152, 768, 2, True]          \n",
      " 20                  -1  1   5309952  ultralytics.nn.modules.conv.Conv             [768, 768, 3, 2]              \n",
      " 21            [-1, 10]  1         0  ultralytics.nn.modules.conv.Concat           [1]                           \n",
      " 22                  -1  2   5612544  ultralytics.nn.modules.block.C3k2            [1536, 768, 2, True]          \n",
      " 23        [16, 19, 22]  1   3162877  ultralytics.nn.modules.head.Detect           [15, [384, 768, 768]]         \n",
      "YOLO11x summary: 631 layers, 56,891,101 parameters, 56,891,085 gradients, 195.5 GFLOPs\n",
      "\n",
      "Transferred 1009/1015 items from pretrained weights\n",
      "\u001b[34m\u001b[1mTensorBoard: \u001b[0mStart with 'tensorboard --logdir spine_detection/Spinal_Canal_Stenosis_yolo', view at http://localhost:6006/\n",
      "Freezing layer 'model.23.dfl.conv.weight'\n",
      "\u001b[34m\u001b[1mAMP: \u001b[0mrunning Automatic Mixed Precision (AMP) checks...\n",
      "\u001b[34m\u001b[1mAMP: \u001b[0mchecks passed ✅\n"
     ]
    },
    {
     "name": "stderr",
     "output_type": "stream",
     "text": [
      "\u001b[34m\u001b[1mtrain: \u001b[0mScanning /kaggle/working/data_fold0/labels/train.cache... 2013 images, 0 backgrounds, 0 corrupt: 100%|██████████| 2013/2013 [00:00<?, ?it/s]"
     ]
    },
    {
     "name": "stdout",
     "output_type": "stream",
     "text": [
      "\u001b[34m\u001b[1malbumentations: \u001b[0mBlur(p=0.01, blur_limit=(3, 7)), MedianBlur(p=0.01, blur_limit=(3, 7)), ToGray(p=0.01), CLAHE(p=0.01, clip_limit=(1, 4.0), tile_grid_size=(8, 8))\n"
     ]
    },
    {
     "name": "stderr",
     "output_type": "stream",
     "text": [
      "\n",
      "/opt/conda/lib/python3.10/multiprocessing/popen_fork.py:66: RuntimeWarning: os.fork() was called. os.fork() is incompatible with multithreaded code, and JAX is multithreaded, so this will likely lead to a deadlock.\n",
      "  self.pid = os.fork()\n",
      "\u001b[34m\u001b[1mval: \u001b[0mScanning /kaggle/working/data_fold0/labels/val.cache... 509 images, 0 backgrounds, 0 corrupt: 100%|██████████| 509/509 [00:00<?, ?it/s]\n"
     ]
    },
    {
     "name": "stdout",
     "output_type": "stream",
     "text": [
      "Plotting labels to spine_detection/Spinal_Canal_Stenosis_yolo/labels.jpg... \n",
      "\u001b[34m\u001b[1moptimizer:\u001b[0m AdamW(lr=0.001, momentum=0.937) with parameter groups 167 weight(decay=0.0), 174 weight(decay=0.0005), 173 bias(decay=0.0)\n",
      "\u001b[34m\u001b[1mTensorBoard: \u001b[0mmodel graph visualization added ✅\n",
      "Image sizes 384 train, 384 val\n",
      "Using 4 dataloader workers\n",
      "Logging results to \u001b[1mspine_detection/Spinal_Canal_Stenosis_yolo\u001b[0m\n",
      "Starting training for 100 epochs...\n",
      "\n",
      "      Epoch    GPU_mem   box_loss   cls_loss   dfl_loss  Instances       Size\n"
     ]
    },
    {
     "name": "stderr",
     "output_type": "stream",
     "text": [
      "      1/100      7.81G      2.576      2.866      1.253         59        384: 100%|██████████| 126/126 [01:26<00:00,  1.45it/s]\n",
      "                 Class     Images  Instances      Box(P          R      mAP50  mAP50-95): 100%|██████████| 16/16 [00:08<00:00,  1.82it/s]"
     ]
    },
    {
     "name": "stdout",
     "output_type": "stream",
     "text": [
      "                   all        509       1950       0.35      0.325       0.23     0.0723\n"
     ]
    },
    {
     "name": "stderr",
     "output_type": "stream",
     "text": [
      "\n"
     ]
    },
    {
     "name": "stdout",
     "output_type": "stream",
     "text": [
      "\n",
      "      Epoch    GPU_mem   box_loss   cls_loss   dfl_loss  Instances       Size\n"
     ]
    },
    {
     "name": "stderr",
     "output_type": "stream",
     "text": [
      "      2/100      7.67G      1.979      1.606     0.9946         77        384: 100%|██████████| 126/126 [01:23<00:00,  1.51it/s]\n",
      "                 Class     Images  Instances      Box(P          R      mAP50  mAP50-95): 100%|██████████| 16/16 [00:07<00:00,  2.06it/s]"
     ]
    },
    {
     "name": "stdout",
     "output_type": "stream",
     "text": [
      "                   all        509       1950      0.472      0.394      0.327     0.0925\n"
     ]
    },
    {
     "name": "stderr",
     "output_type": "stream",
     "text": [
      "\n"
     ]
    },
    {
     "name": "stdout",
     "output_type": "stream",
     "text": [
      "\n",
      "      Epoch    GPU_mem   box_loss   cls_loss   dfl_loss  Instances       Size\n"
     ]
    },
    {
     "name": "stderr",
     "output_type": "stream",
     "text": [
      "      3/100      7.83G      1.881      1.509     0.9795         69        384: 100%|██████████| 126/126 [01:21<00:00,  1.55it/s]\n",
      "                 Class     Images  Instances      Box(P          R      mAP50  mAP50-95): 100%|██████████| 16/16 [00:07<00:00,  2.07it/s]"
     ]
    },
    {
     "name": "stdout",
     "output_type": "stream",
     "text": [
      "                   all        509       1950      0.483       0.49      0.423      0.161\n"
     ]
    },
    {
     "name": "stderr",
     "output_type": "stream",
     "text": [
      "\n"
     ]
    },
    {
     "name": "stdout",
     "output_type": "stream",
     "text": [
      "\n",
      "      Epoch    GPU_mem   box_loss   cls_loss   dfl_loss  Instances       Size\n"
     ]
    },
    {
     "name": "stderr",
     "output_type": "stream",
     "text": [
      "      4/100      7.66G      1.884      1.508     0.9743         58        384: 100%|██████████| 126/126 [01:21<00:00,  1.55it/s]\n",
      "                 Class     Images  Instances      Box(P          R      mAP50  mAP50-95): 100%|██████████| 16/16 [00:07<00:00,  2.06it/s]"
     ]
    },
    {
     "name": "stdout",
     "output_type": "stream",
     "text": [
      "                   all        509       1950      0.398      0.468      0.336      0.146\n"
     ]
    },
    {
     "name": "stderr",
     "output_type": "stream",
     "text": [
      "\n"
     ]
    },
    {
     "name": "stdout",
     "output_type": "stream",
     "text": [
      "\n",
      "      Epoch    GPU_mem   box_loss   cls_loss   dfl_loss  Instances       Size\n"
     ]
    },
    {
     "name": "stderr",
     "output_type": "stream",
     "text": [
      "      5/100      7.82G      1.887      1.512     0.9773         68        384: 100%|██████████| 126/126 [01:21<00:00,  1.55it/s]\n",
      "                 Class     Images  Instances      Box(P          R      mAP50  mAP50-95): 100%|██████████| 16/16 [00:07<00:00,  2.09it/s]"
     ]
    },
    {
     "name": "stdout",
     "output_type": "stream",
     "text": [
      "                   all        509       1950      0.332      0.308      0.233     0.0585\n"
     ]
    },
    {
     "name": "stderr",
     "output_type": "stream",
     "text": [
      "\n"
     ]
    },
    {
     "name": "stdout",
     "output_type": "stream",
     "text": [
      "\n",
      "      Epoch    GPU_mem   box_loss   cls_loss   dfl_loss  Instances       Size\n"
     ]
    },
    {
     "name": "stderr",
     "output_type": "stream",
     "text": [
      "      6/100      7.67G      1.841      1.442     0.9638         71        384: 100%|██████████| 126/126 [01:19<00:00,  1.58it/s]\n",
      "                 Class     Images  Instances      Box(P          R      mAP50  mAP50-95): 100%|██████████| 16/16 [00:07<00:00,  2.07it/s]"
     ]
    },
    {
     "name": "stdout",
     "output_type": "stream",
     "text": [
      "                   all        509       1950      0.463      0.557       0.47      0.208\n"
     ]
    },
    {
     "name": "stderr",
     "output_type": "stream",
     "text": [
      "\n"
     ]
    },
    {
     "name": "stdout",
     "output_type": "stream",
     "text": [
      "\n",
      "      Epoch    GPU_mem   box_loss   cls_loss   dfl_loss  Instances       Size\n"
     ]
    },
    {
     "name": "stderr",
     "output_type": "stream",
     "text": [
      "      7/100      7.83G      1.833      1.388     0.9608         58        384: 100%|██████████| 126/126 [01:19<00:00,  1.58it/s]\n",
      "                 Class     Images  Instances      Box(P          R      mAP50  mAP50-95): 100%|██████████| 16/16 [00:07<00:00,  2.08it/s]"
     ]
    },
    {
     "name": "stdout",
     "output_type": "stream",
     "text": [
      "                   all        509       1950      0.493      0.491      0.444      0.195\n"
     ]
    },
    {
     "name": "stderr",
     "output_type": "stream",
     "text": [
      "\n"
     ]
    },
    {
     "name": "stdout",
     "output_type": "stream",
     "text": [
      "\n",
      "      Epoch    GPU_mem   box_loss   cls_loss   dfl_loss  Instances       Size\n"
     ]
    },
    {
     "name": "stderr",
     "output_type": "stream",
     "text": [
      "      8/100      7.67G      1.808       1.39     0.9578         55        384: 100%|██████████| 126/126 [01:19<00:00,  1.58it/s]\n",
      "                 Class     Images  Instances      Box(P          R      mAP50  mAP50-95): 100%|██████████| 16/16 [00:07<00:00,  2.08it/s]"
     ]
    },
    {
     "name": "stdout",
     "output_type": "stream",
     "text": [
      "                   all        509       1950      0.382      0.504      0.405      0.142\n"
     ]
    },
    {
     "name": "stderr",
     "output_type": "stream",
     "text": [
      "\n"
     ]
    },
    {
     "name": "stdout",
     "output_type": "stream",
     "text": [
      "\n",
      "      Epoch    GPU_mem   box_loss   cls_loss   dfl_loss  Instances       Size\n"
     ]
    },
    {
     "name": "stderr",
     "output_type": "stream",
     "text": [
      "      9/100      7.67G      1.807      1.378      0.954         82        384: 100%|██████████| 126/126 [01:19<00:00,  1.59it/s]\n",
      "                 Class     Images  Instances      Box(P          R      mAP50  mAP50-95): 100%|██████████| 16/16 [00:07<00:00,  2.08it/s]"
     ]
    },
    {
     "name": "stdout",
     "output_type": "stream",
     "text": [
      "                   all        509       1950      0.439      0.554       0.43      0.167\n"
     ]
    },
    {
     "name": "stderr",
     "output_type": "stream",
     "text": [
      "\n"
     ]
    },
    {
     "name": "stdout",
     "output_type": "stream",
     "text": [
      "\n",
      "      Epoch    GPU_mem   box_loss   cls_loss   dfl_loss  Instances       Size\n"
     ]
    },
    {
     "name": "stderr",
     "output_type": "stream",
     "text": [
      "     10/100      7.83G      1.801      1.368     0.9496         72        384: 100%|██████████| 126/126 [01:19<00:00,  1.59it/s]\n",
      "                 Class     Images  Instances      Box(P          R      mAP50  mAP50-95): 100%|██████████| 16/16 [00:07<00:00,  2.08it/s]"
     ]
    },
    {
     "name": "stdout",
     "output_type": "stream",
     "text": [
      "                   all        509       1950      0.713      0.377       0.41      0.153\n"
     ]
    },
    {
     "name": "stderr",
     "output_type": "stream",
     "text": [
      "\n"
     ]
    },
    {
     "name": "stdout",
     "output_type": "stream",
     "text": [
      "\n",
      "      Epoch    GPU_mem   box_loss   cls_loss   dfl_loss  Instances       Size\n"
     ]
    },
    {
     "name": "stderr",
     "output_type": "stream",
     "text": [
      "     11/100      8.05G      1.783      1.343     0.9495         91        384: 100%|██████████| 126/126 [01:19<00:00,  1.59it/s]\n",
      "                 Class     Images  Instances      Box(P          R      mAP50  mAP50-95): 100%|██████████| 16/16 [00:07<00:00,  2.08it/s]"
     ]
    },
    {
     "name": "stdout",
     "output_type": "stream",
     "text": [
      "                   all        509       1950      0.488       0.56      0.501      0.216\n"
     ]
    },
    {
     "name": "stderr",
     "output_type": "stream",
     "text": [
      "\n"
     ]
    },
    {
     "name": "stdout",
     "output_type": "stream",
     "text": [
      "\n",
      "      Epoch    GPU_mem   box_loss   cls_loss   dfl_loss  Instances       Size\n"
     ]
    },
    {
     "name": "stderr",
     "output_type": "stream",
     "text": [
      "     12/100      7.82G      1.812      1.328     0.9591         55        384: 100%|██████████| 126/126 [01:19<00:00,  1.59it/s]\n",
      "                 Class     Images  Instances      Box(P          R      mAP50  mAP50-95): 100%|██████████| 16/16 [00:07<00:00,  2.08it/s]"
     ]
    },
    {
     "name": "stdout",
     "output_type": "stream",
     "text": [
      "                   all        509       1950      0.424      0.606      0.461      0.211\n"
     ]
    },
    {
     "name": "stderr",
     "output_type": "stream",
     "text": [
      "\n"
     ]
    },
    {
     "name": "stdout",
     "output_type": "stream",
     "text": [
      "\n",
      "      Epoch    GPU_mem   box_loss   cls_loss   dfl_loss  Instances       Size\n"
     ]
    },
    {
     "name": "stderr",
     "output_type": "stream",
     "text": [
      "     13/100      8.02G      1.737      1.287     0.9394         67        384: 100%|██████████| 126/126 [01:19<00:00,  1.59it/s]\n",
      "                 Class     Images  Instances      Box(P          R      mAP50  mAP50-95): 100%|██████████| 16/16 [00:07<00:00,  2.08it/s]"
     ]
    },
    {
     "name": "stdout",
     "output_type": "stream",
     "text": [
      "                   all        509       1950      0.384      0.651      0.417      0.187\n"
     ]
    },
    {
     "name": "stderr",
     "output_type": "stream",
     "text": [
      "\n"
     ]
    },
    {
     "name": "stdout",
     "output_type": "stream",
     "text": [
      "\n",
      "      Epoch    GPU_mem   box_loss   cls_loss   dfl_loss  Instances       Size\n"
     ]
    },
    {
     "name": "stderr",
     "output_type": "stream",
     "text": [
      "     14/100      7.67G      1.753      1.282     0.9459         54        384: 100%|██████████| 126/126 [01:19<00:00,  1.59it/s]\n",
      "                 Class     Images  Instances      Box(P          R      mAP50  mAP50-95): 100%|██████████| 16/16 [00:07<00:00,  2.07it/s]"
     ]
    },
    {
     "name": "stdout",
     "output_type": "stream",
     "text": [
      "                   all        509       1950      0.544      0.542       0.46      0.207\n"
     ]
    },
    {
     "name": "stderr",
     "output_type": "stream",
     "text": [
      "\n"
     ]
    },
    {
     "name": "stdout",
     "output_type": "stream",
     "text": [
      "\n",
      "      Epoch    GPU_mem   box_loss   cls_loss   dfl_loss  Instances       Size\n"
     ]
    },
    {
     "name": "stderr",
     "output_type": "stream",
     "text": [
      "     15/100      7.86G      1.719      1.259     0.9397         63        384: 100%|██████████| 126/126 [01:19<00:00,  1.59it/s]\n",
      "                 Class     Images  Instances      Box(P          R      mAP50  mAP50-95): 100%|██████████| 16/16 [00:07<00:00,  2.09it/s]"
     ]
    },
    {
     "name": "stdout",
     "output_type": "stream",
     "text": [
      "                   all        509       1950      0.553      0.601      0.545      0.238\n"
     ]
    },
    {
     "name": "stderr",
     "output_type": "stream",
     "text": [
      "\n"
     ]
    },
    {
     "name": "stdout",
     "output_type": "stream",
     "text": [
      "\n",
      "      Epoch    GPU_mem   box_loss   cls_loss   dfl_loss  Instances       Size\n"
     ]
    },
    {
     "name": "stderr",
     "output_type": "stream",
     "text": [
      "     16/100      7.66G      1.686      1.234     0.9307         76        384: 100%|██████████| 126/126 [01:19<00:00,  1.59it/s]\n",
      "                 Class     Images  Instances      Box(P          R      mAP50  mAP50-95): 100%|██████████| 16/16 [00:07<00:00,  2.08it/s]"
     ]
    },
    {
     "name": "stdout",
     "output_type": "stream",
     "text": [
      "                   all        509       1950      0.468      0.671      0.534       0.25\n"
     ]
    },
    {
     "name": "stderr",
     "output_type": "stream",
     "text": [
      "\n"
     ]
    },
    {
     "name": "stdout",
     "output_type": "stream",
     "text": [
      "\n",
      "      Epoch    GPU_mem   box_loss   cls_loss   dfl_loss  Instances       Size\n"
     ]
    },
    {
     "name": "stderr",
     "output_type": "stream",
     "text": [
      "     17/100      7.88G      1.678      1.239      0.937        133        384: 100%|██████████| 126/126 [01:19<00:00,  1.59it/s]\n",
      "                 Class     Images  Instances      Box(P          R      mAP50  mAP50-95): 100%|██████████| 16/16 [00:07<00:00,  2.08it/s]"
     ]
    },
    {
     "name": "stdout",
     "output_type": "stream",
     "text": [
      "                   all        509       1950      0.579      0.566      0.572      0.267\n"
     ]
    },
    {
     "name": "stderr",
     "output_type": "stream",
     "text": [
      "\n"
     ]
    },
    {
     "name": "stdout",
     "output_type": "stream",
     "text": [
      "\n",
      "      Epoch    GPU_mem   box_loss   cls_loss   dfl_loss  Instances       Size\n"
     ]
    },
    {
     "name": "stderr",
     "output_type": "stream",
     "text": [
      "     18/100      7.66G      1.701       1.24     0.9307         81        384: 100%|██████████| 126/126 [01:19<00:00,  1.59it/s]\n",
      "                 Class     Images  Instances      Box(P          R      mAP50  mAP50-95): 100%|██████████| 16/16 [00:07<00:00,  2.08it/s]"
     ]
    },
    {
     "name": "stdout",
     "output_type": "stream",
     "text": [
      "                   all        509       1950      0.556      0.622      0.508      0.216\n"
     ]
    },
    {
     "name": "stderr",
     "output_type": "stream",
     "text": [
      "\n"
     ]
    },
    {
     "name": "stdout",
     "output_type": "stream",
     "text": [
      "\n",
      "      Epoch    GPU_mem   box_loss   cls_loss   dfl_loss  Instances       Size\n"
     ]
    },
    {
     "name": "stderr",
     "output_type": "stream",
     "text": [
      "     19/100      8.03G      1.708      1.204     0.9369        102        384: 100%|██████████| 126/126 [01:19<00:00,  1.59it/s]\n",
      "                 Class     Images  Instances      Box(P          R      mAP50  mAP50-95): 100%|██████████| 16/16 [00:07<00:00,  2.09it/s]"
     ]
    },
    {
     "name": "stdout",
     "output_type": "stream",
     "text": [
      "                   all        509       1950       0.62       0.55      0.516      0.252\n"
     ]
    },
    {
     "name": "stderr",
     "output_type": "stream",
     "text": [
      "\n"
     ]
    },
    {
     "name": "stdout",
     "output_type": "stream",
     "text": [
      "\n",
      "      Epoch    GPU_mem   box_loss   cls_loss   dfl_loss  Instances       Size\n"
     ]
    },
    {
     "name": "stderr",
     "output_type": "stream",
     "text": [
      "     20/100      7.83G      1.677      1.193     0.9321         70        384: 100%|██████████| 126/126 [01:19<00:00,  1.59it/s]\n",
      "                 Class     Images  Instances      Box(P          R      mAP50  mAP50-95): 100%|██████████| 16/16 [00:07<00:00,  2.08it/s]"
     ]
    },
    {
     "name": "stdout",
     "output_type": "stream",
     "text": [
      "                   all        509       1950      0.615      0.588      0.552      0.267\n"
     ]
    },
    {
     "name": "stderr",
     "output_type": "stream",
     "text": [
      "\n"
     ]
    },
    {
     "name": "stdout",
     "output_type": "stream",
     "text": [
      "\n",
      "      Epoch    GPU_mem   box_loss   cls_loss   dfl_loss  Instances       Size\n"
     ]
    },
    {
     "name": "stderr",
     "output_type": "stream",
     "text": [
      "     21/100      7.87G      1.661      1.191     0.9289         87        384: 100%|██████████| 126/126 [01:19<00:00,  1.59it/s]\n",
      "                 Class     Images  Instances      Box(P          R      mAP50  mAP50-95): 100%|██████████| 16/16 [00:07<00:00,  2.08it/s]"
     ]
    },
    {
     "name": "stdout",
     "output_type": "stream",
     "text": [
      "                   all        509       1950       0.66      0.599      0.547      0.268\n"
     ]
    },
    {
     "name": "stderr",
     "output_type": "stream",
     "text": [
      "\n"
     ]
    },
    {
     "name": "stdout",
     "output_type": "stream",
     "text": [
      "\n",
      "      Epoch    GPU_mem   box_loss   cls_loss   dfl_loss  Instances       Size\n"
     ]
    },
    {
     "name": "stderr",
     "output_type": "stream",
     "text": [
      "     22/100      7.67G      1.676      1.194     0.9337         64        384: 100%|██████████| 126/126 [01:19<00:00,  1.59it/s]\n",
      "                 Class     Images  Instances      Box(P          R      mAP50  mAP50-95): 100%|██████████| 16/16 [00:07<00:00,  2.09it/s]"
     ]
    },
    {
     "name": "stdout",
     "output_type": "stream",
     "text": [
      "                   all        509       1950      0.547       0.59      0.529      0.247\n"
     ]
    },
    {
     "name": "stderr",
     "output_type": "stream",
     "text": [
      "\n"
     ]
    },
    {
     "name": "stdout",
     "output_type": "stream",
     "text": [
      "\n",
      "      Epoch    GPU_mem   box_loss   cls_loss   dfl_loss  Instances       Size\n"
     ]
    },
    {
     "name": "stderr",
     "output_type": "stream",
     "text": [
      "     23/100      7.88G      1.684      1.189     0.9308         40        384: 100%|██████████| 126/126 [01:19<00:00,  1.59it/s]\n",
      "                 Class     Images  Instances      Box(P          R      mAP50  mAP50-95): 100%|██████████| 16/16 [00:07<00:00,  2.06it/s]"
     ]
    },
    {
     "name": "stdout",
     "output_type": "stream",
     "text": [
      "                   all        509       1950      0.522       0.61      0.523       0.24\n"
     ]
    },
    {
     "name": "stderr",
     "output_type": "stream",
     "text": [
      "\n"
     ]
    },
    {
     "name": "stdout",
     "output_type": "stream",
     "text": [
      "\n",
      "      Epoch    GPU_mem   box_loss   cls_loss   dfl_loss  Instances       Size\n"
     ]
    },
    {
     "name": "stderr",
     "output_type": "stream",
     "text": [
      "     24/100      7.83G      1.643      1.173     0.9251         76        384: 100%|██████████| 126/126 [01:19<00:00,  1.59it/s]\n",
      "                 Class     Images  Instances      Box(P          R      mAP50  mAP50-95): 100%|██████████| 16/16 [00:07<00:00,  2.08it/s]"
     ]
    },
    {
     "name": "stdout",
     "output_type": "stream",
     "text": [
      "                   all        509       1950      0.442      0.659      0.543      0.243\n"
     ]
    },
    {
     "name": "stderr",
     "output_type": "stream",
     "text": [
      "\n"
     ]
    },
    {
     "name": "stdout",
     "output_type": "stream",
     "text": [
      "\n",
      "      Epoch    GPU_mem   box_loss   cls_loss   dfl_loss  Instances       Size\n"
     ]
    },
    {
     "name": "stderr",
     "output_type": "stream",
     "text": [
      "     25/100      7.86G      1.637      1.162     0.9239         64        384: 100%|██████████| 126/126 [01:19<00:00,  1.59it/s]\n",
      "                 Class     Images  Instances      Box(P          R      mAP50  mAP50-95): 100%|██████████| 16/16 [00:07<00:00,  2.08it/s]"
     ]
    },
    {
     "name": "stdout",
     "output_type": "stream",
     "text": [
      "                   all        509       1950      0.612       0.57      0.514      0.255\n"
     ]
    },
    {
     "name": "stderr",
     "output_type": "stream",
     "text": [
      "\n"
     ]
    },
    {
     "name": "stdout",
     "output_type": "stream",
     "text": [
      "\n",
      "      Epoch    GPU_mem   box_loss   cls_loss   dfl_loss  Instances       Size\n"
     ]
    },
    {
     "name": "stderr",
     "output_type": "stream",
     "text": [
      "     26/100      7.83G      1.624      1.141     0.9216         74        384: 100%|██████████| 126/126 [01:19<00:00,  1.59it/s]\n",
      "                 Class     Images  Instances      Box(P          R      mAP50  mAP50-95): 100%|██████████| 16/16 [00:07<00:00,  2.09it/s]"
     ]
    },
    {
     "name": "stdout",
     "output_type": "stream",
     "text": [
      "                   all        509       1950      0.466      0.644      0.571      0.273\n"
     ]
    },
    {
     "name": "stderr",
     "output_type": "stream",
     "text": [
      "\n"
     ]
    },
    {
     "name": "stdout",
     "output_type": "stream",
     "text": [
      "\n",
      "      Epoch    GPU_mem   box_loss   cls_loss   dfl_loss  Instances       Size\n"
     ]
    },
    {
     "name": "stderr",
     "output_type": "stream",
     "text": [
      "     27/100      8.04G      1.617      1.147     0.9225         49        384: 100%|██████████| 126/126 [01:19<00:00,  1.59it/s]\n",
      "                 Class     Images  Instances      Box(P          R      mAP50  mAP50-95): 100%|██████████| 16/16 [00:07<00:00,  2.08it/s]"
     ]
    },
    {
     "name": "stdout",
     "output_type": "stream",
     "text": [
      "                   all        509       1950      0.556      0.601       0.54      0.251\n"
     ]
    },
    {
     "name": "stderr",
     "output_type": "stream",
     "text": [
      "\n"
     ]
    },
    {
     "name": "stdout",
     "output_type": "stream",
     "text": [
      "\n",
      "      Epoch    GPU_mem   box_loss   cls_loss   dfl_loss  Instances       Size\n"
     ]
    },
    {
     "name": "stderr",
     "output_type": "stream",
     "text": [
      "     28/100      7.82G      1.628      1.144     0.9242         76        384: 100%|██████████| 126/126 [01:19<00:00,  1.59it/s]\n",
      "                 Class     Images  Instances      Box(P          R      mAP50  mAP50-95): 100%|██████████| 16/16 [00:07<00:00,  2.08it/s]"
     ]
    },
    {
     "name": "stdout",
     "output_type": "stream",
     "text": [
      "                   all        509       1950      0.438      0.693      0.561      0.265\n"
     ]
    },
    {
     "name": "stderr",
     "output_type": "stream",
     "text": [
      "\n"
     ]
    },
    {
     "name": "stdout",
     "output_type": "stream",
     "text": [
      "\n",
      "      Epoch    GPU_mem   box_loss   cls_loss   dfl_loss  Instances       Size\n"
     ]
    },
    {
     "name": "stderr",
     "output_type": "stream",
     "text": [
      "     29/100      7.88G      1.622      1.153      0.925         57        384: 100%|██████████| 126/126 [01:19<00:00,  1.59it/s]\n",
      "                 Class     Images  Instances      Box(P          R      mAP50  mAP50-95): 100%|██████████| 16/16 [00:07<00:00,  2.09it/s]"
     ]
    },
    {
     "name": "stdout",
     "output_type": "stream",
     "text": [
      "                   all        509       1950      0.582      0.565      0.511      0.246\n"
     ]
    },
    {
     "name": "stderr",
     "output_type": "stream",
     "text": [
      "\n"
     ]
    },
    {
     "name": "stdout",
     "output_type": "stream",
     "text": [
      "\n",
      "      Epoch    GPU_mem   box_loss   cls_loss   dfl_loss  Instances       Size\n"
     ]
    },
    {
     "name": "stderr",
     "output_type": "stream",
     "text": [
      "     30/100      7.83G      1.627      1.128      0.915         64        384: 100%|██████████| 126/126 [01:19<00:00,  1.59it/s]\n",
      "                 Class     Images  Instances      Box(P          R      mAP50  mAP50-95): 100%|██████████| 16/16 [00:07<00:00,  2.08it/s]"
     ]
    },
    {
     "name": "stdout",
     "output_type": "stream",
     "text": [
      "                   all        509       1950      0.485      0.687      0.569      0.288\n"
     ]
    },
    {
     "name": "stderr",
     "output_type": "stream",
     "text": [
      "\n"
     ]
    },
    {
     "name": "stdout",
     "output_type": "stream",
     "text": [
      "\n",
      "      Epoch    GPU_mem   box_loss   cls_loss   dfl_loss  Instances       Size\n"
     ]
    },
    {
     "name": "stderr",
     "output_type": "stream",
     "text": [
      "     31/100      8.03G      1.613      1.113     0.9208         66        384: 100%|██████████| 126/126 [01:19<00:00,  1.59it/s]\n",
      "                 Class     Images  Instances      Box(P          R      mAP50  mAP50-95): 100%|██████████| 16/16 [00:07<00:00,  2.06it/s]"
     ]
    },
    {
     "name": "stdout",
     "output_type": "stream",
     "text": [
      "                   all        509       1950      0.583      0.639      0.576      0.286\n"
     ]
    },
    {
     "name": "stderr",
     "output_type": "stream",
     "text": [
      "\n"
     ]
    },
    {
     "name": "stdout",
     "output_type": "stream",
     "text": [
      "\n",
      "      Epoch    GPU_mem   box_loss   cls_loss   dfl_loss  Instances       Size\n"
     ]
    },
    {
     "name": "stderr",
     "output_type": "stream",
     "text": [
      "     32/100      7.66G      1.612      1.116     0.9177         92        384: 100%|██████████| 126/126 [01:19<00:00,  1.59it/s]\n",
      "                 Class     Images  Instances      Box(P          R      mAP50  mAP50-95): 100%|██████████| 16/16 [00:07<00:00,  2.08it/s]"
     ]
    },
    {
     "name": "stdout",
     "output_type": "stream",
     "text": [
      "                   all        509       1950      0.413      0.706      0.537      0.262\n"
     ]
    },
    {
     "name": "stderr",
     "output_type": "stream",
     "text": [
      "\n"
     ]
    },
    {
     "name": "stdout",
     "output_type": "stream",
     "text": [
      "\n",
      "      Epoch    GPU_mem   box_loss   cls_loss   dfl_loss  Instances       Size\n"
     ]
    },
    {
     "name": "stderr",
     "output_type": "stream",
     "text": [
      "     33/100      8.04G      1.607      1.118     0.9176         56        384: 100%|██████████| 126/126 [01:19<00:00,  1.59it/s]\n",
      "                 Class     Images  Instances      Box(P          R      mAP50  mAP50-95): 100%|██████████| 16/16 [00:07<00:00,  2.09it/s]"
     ]
    },
    {
     "name": "stdout",
     "output_type": "stream",
     "text": [
      "                   all        509       1950      0.483      0.668      0.592      0.294\n"
     ]
    },
    {
     "name": "stderr",
     "output_type": "stream",
     "text": [
      "\n"
     ]
    },
    {
     "name": "stdout",
     "output_type": "stream",
     "text": [
      "\n",
      "      Epoch    GPU_mem   box_loss   cls_loss   dfl_loss  Instances       Size\n"
     ]
    },
    {
     "name": "stderr",
     "output_type": "stream",
     "text": [
      "     34/100      7.83G      1.608      1.104     0.9211         57        384: 100%|██████████| 126/126 [01:19<00:00,  1.59it/s]\n",
      "                 Class     Images  Instances      Box(P          R      mAP50  mAP50-95): 100%|██████████| 16/16 [00:07<00:00,  2.07it/s]"
     ]
    },
    {
     "name": "stdout",
     "output_type": "stream",
     "text": [
      "                   all        509       1950       0.58      0.588      0.536       0.27\n"
     ]
    },
    {
     "name": "stderr",
     "output_type": "stream",
     "text": [
      "\n"
     ]
    },
    {
     "name": "stdout",
     "output_type": "stream",
     "text": [
      "\n",
      "      Epoch    GPU_mem   box_loss   cls_loss   dfl_loss  Instances       Size\n"
     ]
    },
    {
     "name": "stderr",
     "output_type": "stream",
     "text": [
      "     35/100      8.04G      1.596      1.116     0.9202         71        384: 100%|██████████| 126/126 [01:19<00:00,  1.59it/s]\n",
      "                 Class     Images  Instances      Box(P          R      mAP50  mAP50-95): 100%|██████████| 16/16 [00:07<00:00,  2.08it/s]"
     ]
    },
    {
     "name": "stdout",
     "output_type": "stream",
     "text": [
      "                   all        509       1950      0.473      0.702      0.574      0.269\n"
     ]
    },
    {
     "name": "stderr",
     "output_type": "stream",
     "text": [
      "\n"
     ]
    },
    {
     "name": "stdout",
     "output_type": "stream",
     "text": [
      "\n",
      "      Epoch    GPU_mem   box_loss   cls_loss   dfl_loss  Instances       Size\n"
     ]
    },
    {
     "name": "stderr",
     "output_type": "stream",
     "text": [
      "     36/100      7.66G      1.587      1.087     0.9129         81        384: 100%|██████████| 126/126 [01:19<00:00,  1.59it/s]\n",
      "                 Class     Images  Instances      Box(P          R      mAP50  mAP50-95): 100%|██████████| 16/16 [00:07<00:00,  2.08it/s]"
     ]
    },
    {
     "name": "stdout",
     "output_type": "stream",
     "text": [
      "                   all        509       1950      0.493      0.656      0.527      0.253\n"
     ]
    },
    {
     "name": "stderr",
     "output_type": "stream",
     "text": [
      "\n"
     ]
    },
    {
     "name": "stdout",
     "output_type": "stream",
     "text": [
      "\n",
      "      Epoch    GPU_mem   box_loss   cls_loss   dfl_loss  Instances       Size\n"
     ]
    },
    {
     "name": "stderr",
     "output_type": "stream",
     "text": [
      "     37/100      7.87G      1.582      1.097     0.9113         47        384: 100%|██████████| 126/126 [01:19<00:00,  1.59it/s]\n",
      "                 Class     Images  Instances      Box(P          R      mAP50  mAP50-95): 100%|██████████| 16/16 [00:07<00:00,  2.09it/s]"
     ]
    },
    {
     "name": "stdout",
     "output_type": "stream",
     "text": [
      "                   all        509       1950      0.455       0.72      0.539      0.269\n"
     ]
    },
    {
     "name": "stderr",
     "output_type": "stream",
     "text": [
      "\n"
     ]
    },
    {
     "name": "stdout",
     "output_type": "stream",
     "text": [
      "\n",
      "      Epoch    GPU_mem   box_loss   cls_loss   dfl_loss  Instances       Size\n"
     ]
    },
    {
     "name": "stderr",
     "output_type": "stream",
     "text": [
      "     38/100      7.83G      1.579      1.077     0.9191         58        384: 100%|██████████| 126/126 [01:19<00:00,  1.59it/s]\n",
      "                 Class     Images  Instances      Box(P          R      mAP50  mAP50-95): 100%|██████████| 16/16 [00:07<00:00,  2.08it/s]"
     ]
    },
    {
     "name": "stdout",
     "output_type": "stream",
     "text": [
      "                   all        509       1950      0.522      0.655      0.564      0.272\n"
     ]
    },
    {
     "name": "stderr",
     "output_type": "stream",
     "text": [
      "\n"
     ]
    },
    {
     "name": "stdout",
     "output_type": "stream",
     "text": [
      "\n",
      "      Epoch    GPU_mem   box_loss   cls_loss   dfl_loss  Instances       Size\n"
     ]
    },
    {
     "name": "stderr",
     "output_type": "stream",
     "text": [
      "     39/100      8.04G      1.578      1.076      0.911         71        384: 100%|██████████| 126/126 [01:19<00:00,  1.59it/s]\n",
      "                 Class     Images  Instances      Box(P          R      mAP50  mAP50-95): 100%|██████████| 16/16 [00:07<00:00,  2.08it/s]"
     ]
    },
    {
     "name": "stdout",
     "output_type": "stream",
     "text": [
      "                   all        509       1950       0.49      0.684      0.569      0.245\n"
     ]
    },
    {
     "name": "stderr",
     "output_type": "stream",
     "text": [
      "\n"
     ]
    },
    {
     "name": "stdout",
     "output_type": "stream",
     "text": [
      "\n",
      "      Epoch    GPU_mem   box_loss   cls_loss   dfl_loss  Instances       Size\n"
     ]
    },
    {
     "name": "stderr",
     "output_type": "stream",
     "text": [
      "     40/100      7.67G      1.573      1.073     0.9122         87        384: 100%|██████████| 126/126 [01:19<00:00,  1.59it/s]\n",
      "                 Class     Images  Instances      Box(P          R      mAP50  mAP50-95): 100%|██████████| 16/16 [00:07<00:00,  2.08it/s]"
     ]
    },
    {
     "name": "stdout",
     "output_type": "stream",
     "text": [
      "                   all        509       1950      0.518       0.67      0.562      0.278\n"
     ]
    },
    {
     "name": "stderr",
     "output_type": "stream",
     "text": [
      "\n"
     ]
    },
    {
     "name": "stdout",
     "output_type": "stream",
     "text": [
      "\n",
      "      Epoch    GPU_mem   box_loss   cls_loss   dfl_loss  Instances       Size\n"
     ]
    },
    {
     "name": "stderr",
     "output_type": "stream",
     "text": [
      "     41/100      8.04G      1.576      1.079     0.9179         97        384: 100%|██████████| 126/126 [01:19<00:00,  1.59it/s]\n",
      "                 Class     Images  Instances      Box(P          R      mAP50  mAP50-95): 100%|██████████| 16/16 [00:07<00:00,  2.09it/s]"
     ]
    },
    {
     "name": "stdout",
     "output_type": "stream",
     "text": [
      "                   all        509       1950      0.464      0.684      0.533      0.252\n"
     ]
    },
    {
     "name": "stderr",
     "output_type": "stream",
     "text": [
      "\n"
     ]
    },
    {
     "name": "stdout",
     "output_type": "stream",
     "text": [
      "\n",
      "      Epoch    GPU_mem   box_loss   cls_loss   dfl_loss  Instances       Size\n"
     ]
    },
    {
     "name": "stderr",
     "output_type": "stream",
     "text": [
      "     42/100      7.66G      1.556      1.092     0.9105         60        384: 100%|██████████| 126/126 [01:19<00:00,  1.59it/s]\n",
      "                 Class     Images  Instances      Box(P          R      mAP50  mAP50-95): 100%|██████████| 16/16 [00:07<00:00,  2.09it/s]"
     ]
    },
    {
     "name": "stdout",
     "output_type": "stream",
     "text": [
      "                   all        509       1950      0.608      0.611      0.597      0.297\n"
     ]
    },
    {
     "name": "stderr",
     "output_type": "stream",
     "text": [
      "\n"
     ]
    },
    {
     "name": "stdout",
     "output_type": "stream",
     "text": [
      "\n",
      "      Epoch    GPU_mem   box_loss   cls_loss   dfl_loss  Instances       Size\n"
     ]
    },
    {
     "name": "stderr",
     "output_type": "stream",
     "text": [
      "     43/100      7.87G      1.558      1.047     0.9115         80        384: 100%|██████████| 126/126 [01:19<00:00,  1.59it/s]\n",
      "                 Class     Images  Instances      Box(P          R      mAP50  mAP50-95): 100%|██████████| 16/16 [00:07<00:00,  2.08it/s]"
     ]
    },
    {
     "name": "stdout",
     "output_type": "stream",
     "text": [
      "                   all        509       1950      0.476      0.681      0.565       0.28\n"
     ]
    },
    {
     "name": "stderr",
     "output_type": "stream",
     "text": [
      "\n"
     ]
    },
    {
     "name": "stdout",
     "output_type": "stream",
     "text": [
      "\n",
      "      Epoch    GPU_mem   box_loss   cls_loss   dfl_loss  Instances       Size\n"
     ]
    },
    {
     "name": "stderr",
     "output_type": "stream",
     "text": [
      "     44/100      7.66G      1.552      1.063     0.9094         55        384: 100%|██████████| 126/126 [01:19<00:00,  1.59it/s]\n",
      "                 Class     Images  Instances      Box(P          R      mAP50  mAP50-95): 100%|██████████| 16/16 [00:07<00:00,  2.09it/s]"
     ]
    },
    {
     "name": "stdout",
     "output_type": "stream",
     "text": [
      "                   all        509       1950      0.477      0.691      0.537      0.276\n"
     ]
    },
    {
     "name": "stderr",
     "output_type": "stream",
     "text": [
      "\n"
     ]
    },
    {
     "name": "stdout",
     "output_type": "stream",
     "text": [
      "\n",
      "      Epoch    GPU_mem   box_loss   cls_loss   dfl_loss  Instances       Size\n"
     ]
    },
    {
     "name": "stderr",
     "output_type": "stream",
     "text": [
      "     45/100      7.87G      1.566       1.07     0.9116         62        384: 100%|██████████| 126/126 [01:19<00:00,  1.59it/s]\n",
      "                 Class     Images  Instances      Box(P          R      mAP50  mAP50-95): 100%|██████████| 16/16 [00:07<00:00,  2.08it/s]"
     ]
    },
    {
     "name": "stdout",
     "output_type": "stream",
     "text": [
      "                   all        509       1950      0.463      0.657       0.54      0.248\n"
     ]
    },
    {
     "name": "stderr",
     "output_type": "stream",
     "text": [
      "\n"
     ]
    },
    {
     "name": "stdout",
     "output_type": "stream",
     "text": [
      "\n",
      "      Epoch    GPU_mem   box_loss   cls_loss   dfl_loss  Instances       Size\n"
     ]
    },
    {
     "name": "stderr",
     "output_type": "stream",
     "text": [
      "     46/100      7.82G      1.552      1.051     0.9087         69        384: 100%|██████████| 126/126 [01:19<00:00,  1.59it/s]\n",
      "                 Class     Images  Instances      Box(P          R      mAP50  mAP50-95): 100%|██████████| 16/16 [00:07<00:00,  2.08it/s]"
     ]
    },
    {
     "name": "stdout",
     "output_type": "stream",
     "text": [
      "                   all        509       1950      0.522      0.669      0.555      0.258\n"
     ]
    },
    {
     "name": "stderr",
     "output_type": "stream",
     "text": [
      "\n"
     ]
    },
    {
     "name": "stdout",
     "output_type": "stream",
     "text": [
      "\n",
      "      Epoch    GPU_mem   box_loss   cls_loss   dfl_loss  Instances       Size\n"
     ]
    },
    {
     "name": "stderr",
     "output_type": "stream",
     "text": [
      "     47/100      8.04G      1.576      1.063     0.9144         48        384: 100%|██████████| 126/126 [01:19<00:00,  1.59it/s]\n",
      "                 Class     Images  Instances      Box(P          R      mAP50  mAP50-95): 100%|██████████| 16/16 [00:07<00:00,  2.09it/s]"
     ]
    },
    {
     "name": "stdout",
     "output_type": "stream",
     "text": [
      "                   all        509       1950      0.472      0.706      0.562      0.278\n"
     ]
    },
    {
     "name": "stderr",
     "output_type": "stream",
     "text": [
      "\n"
     ]
    },
    {
     "name": "stdout",
     "output_type": "stream",
     "text": [
      "\n",
      "      Epoch    GPU_mem   box_loss   cls_loss   dfl_loss  Instances       Size\n"
     ]
    },
    {
     "name": "stderr",
     "output_type": "stream",
     "text": [
      "     48/100      7.82G      1.531      1.069     0.9055         73        384: 100%|██████████| 126/126 [01:19<00:00,  1.59it/s]\n",
      "                 Class     Images  Instances      Box(P          R      mAP50  mAP50-95): 100%|██████████| 16/16 [00:07<00:00,  2.09it/s]"
     ]
    },
    {
     "name": "stdout",
     "output_type": "stream",
     "text": [
      "                   all        509       1950      0.503      0.676      0.532      0.271\n"
     ]
    },
    {
     "name": "stderr",
     "output_type": "stream",
     "text": [
      "\n"
     ]
    },
    {
     "name": "stdout",
     "output_type": "stream",
     "text": [
      "\n",
      "      Epoch    GPU_mem   box_loss   cls_loss   dfl_loss  Instances       Size\n"
     ]
    },
    {
     "name": "stderr",
     "output_type": "stream",
     "text": [
      "     49/100      8.03G      1.556      1.033     0.9093         75        384: 100%|██████████| 126/126 [01:19<00:00,  1.59it/s]\n",
      "                 Class     Images  Instances      Box(P          R      mAP50  mAP50-95): 100%|██████████| 16/16 [00:07<00:00,  2.08it/s]"
     ]
    },
    {
     "name": "stdout",
     "output_type": "stream",
     "text": [
      "                   all        509       1950      0.485      0.676       0.58      0.294\n"
     ]
    },
    {
     "name": "stderr",
     "output_type": "stream",
     "text": [
      "\n"
     ]
    },
    {
     "name": "stdout",
     "output_type": "stream",
     "text": [
      "\n",
      "      Epoch    GPU_mem   box_loss   cls_loss   dfl_loss  Instances       Size\n"
     ]
    },
    {
     "name": "stderr",
     "output_type": "stream",
     "text": [
      "     50/100      7.67G      1.551       1.05      0.911         53        384: 100%|██████████| 126/126 [01:19<00:00,  1.59it/s]\n",
      "                 Class     Images  Instances      Box(P          R      mAP50  mAP50-95): 100%|██████████| 16/16 [00:07<00:00,  2.08it/s]"
     ]
    },
    {
     "name": "stdout",
     "output_type": "stream",
     "text": [
      "                   all        509       1950      0.459      0.698      0.594      0.302\n"
     ]
    },
    {
     "name": "stderr",
     "output_type": "stream",
     "text": [
      "\n"
     ]
    },
    {
     "name": "stdout",
     "output_type": "stream",
     "text": [
      "\n",
      "      Epoch    GPU_mem   box_loss   cls_loss   dfl_loss  Instances       Size\n"
     ]
    },
    {
     "name": "stderr",
     "output_type": "stream",
     "text": [
      "     51/100      7.87G      1.551      1.035     0.9101         83        384: 100%|██████████| 126/126 [01:19<00:00,  1.59it/s]\n",
      "                 Class     Images  Instances      Box(P          R      mAP50  mAP50-95): 100%|██████████| 16/16 [00:07<00:00,  2.09it/s]"
     ]
    },
    {
     "name": "stdout",
     "output_type": "stream",
     "text": [
      "                   all        509       1950      0.542      0.654      0.581      0.273\n"
     ]
    },
    {
     "name": "stderr",
     "output_type": "stream",
     "text": [
      "\n"
     ]
    },
    {
     "name": "stdout",
     "output_type": "stream",
     "text": [
      "\n",
      "      Epoch    GPU_mem   box_loss   cls_loss   dfl_loss  Instances       Size\n"
     ]
    },
    {
     "name": "stderr",
     "output_type": "stream",
     "text": [
      "     52/100      7.66G      1.543      1.026     0.9051         65        384: 100%|██████████| 126/126 [01:19<00:00,  1.59it/s]\n",
      "                 Class     Images  Instances      Box(P          R      mAP50  mAP50-95): 100%|██████████| 16/16 [00:07<00:00,  2.09it/s]"
     ]
    },
    {
     "name": "stdout",
     "output_type": "stream",
     "text": [
      "                   all        509       1950      0.523      0.669      0.563      0.282\n"
     ]
    },
    {
     "name": "stderr",
     "output_type": "stream",
     "text": [
      "\n"
     ]
    },
    {
     "name": "stdout",
     "output_type": "stream",
     "text": [
      "\n",
      "      Epoch    GPU_mem   box_loss   cls_loss   dfl_loss  Instances       Size\n"
     ]
    },
    {
     "name": "stderr",
     "output_type": "stream",
     "text": [
      "     53/100      7.86G      1.549      1.029      0.907         64        384: 100%|██████████| 126/126 [01:19<00:00,  1.59it/s]\n",
      "                 Class     Images  Instances      Box(P          R      mAP50  mAP50-95): 100%|██████████| 16/16 [00:07<00:00,  2.09it/s]"
     ]
    },
    {
     "name": "stdout",
     "output_type": "stream",
     "text": [
      "                   all        509       1950      0.512      0.735      0.581       0.28\n"
     ]
    },
    {
     "name": "stderr",
     "output_type": "stream",
     "text": [
      "\n"
     ]
    },
    {
     "name": "stdout",
     "output_type": "stream",
     "text": [
      "\n",
      "      Epoch    GPU_mem   box_loss   cls_loss   dfl_loss  Instances       Size\n"
     ]
    },
    {
     "name": "stderr",
     "output_type": "stream",
     "text": [
      "     54/100      7.66G      1.514      1.017     0.9024         95        384: 100%|██████████| 126/126 [01:19<00:00,  1.59it/s]\n",
      "                 Class     Images  Instances      Box(P          R      mAP50  mAP50-95): 100%|██████████| 16/16 [00:07<00:00,  2.09it/s]"
     ]
    },
    {
     "name": "stdout",
     "output_type": "stream",
     "text": [
      "                   all        509       1950      0.518      0.695      0.571      0.283\n"
     ]
    },
    {
     "name": "stderr",
     "output_type": "stream",
     "text": [
      "\n"
     ]
    },
    {
     "name": "stdout",
     "output_type": "stream",
     "text": [
      "\n",
      "      Epoch    GPU_mem   box_loss   cls_loss   dfl_loss  Instances       Size\n"
     ]
    },
    {
     "name": "stderr",
     "output_type": "stream",
     "text": [
      "     55/100      7.87G       1.54      1.017      0.909         85        384: 100%|██████████| 126/126 [01:19<00:00,  1.59it/s]\n",
      "                 Class     Images  Instances      Box(P          R      mAP50  mAP50-95): 100%|██████████| 16/16 [00:07<00:00,  2.08it/s]"
     ]
    },
    {
     "name": "stdout",
     "output_type": "stream",
     "text": [
      "                   all        509       1950      0.526      0.721      0.588      0.298\n"
     ]
    },
    {
     "name": "stderr",
     "output_type": "stream",
     "text": [
      "\n"
     ]
    },
    {
     "name": "stdout",
     "output_type": "stream",
     "text": [
      "\n",
      "      Epoch    GPU_mem   box_loss   cls_loss   dfl_loss  Instances       Size\n"
     ]
    },
    {
     "name": "stderr",
     "output_type": "stream",
     "text": [
      "     56/100      7.82G      1.533     0.9883     0.9091         52        384: 100%|██████████| 126/126 [01:19<00:00,  1.59it/s]\n",
      "                 Class     Images  Instances      Box(P          R      mAP50  mAP50-95): 100%|██████████| 16/16 [00:07<00:00,  2.07it/s]"
     ]
    },
    {
     "name": "stdout",
     "output_type": "stream",
     "text": [
      "                   all        509       1950      0.616      0.638       0.58      0.277\n"
     ]
    },
    {
     "name": "stderr",
     "output_type": "stream",
     "text": [
      "\n"
     ]
    },
    {
     "name": "stdout",
     "output_type": "stream",
     "text": [
      "\n",
      "      Epoch    GPU_mem   box_loss   cls_loss   dfl_loss  Instances       Size\n"
     ]
    },
    {
     "name": "stderr",
     "output_type": "stream",
     "text": [
      "     57/100      7.87G      1.513      1.014     0.9059         62        384: 100%|██████████| 126/126 [01:19<00:00,  1.59it/s]\n",
      "                 Class     Images  Instances      Box(P          R      mAP50  mAP50-95): 100%|██████████| 16/16 [00:07<00:00,  2.07it/s]"
     ]
    },
    {
     "name": "stdout",
     "output_type": "stream",
     "text": [
      "                   all        509       1950      0.496      0.672      0.549      0.283\n"
     ]
    },
    {
     "name": "stderr",
     "output_type": "stream",
     "text": [
      "\n"
     ]
    },
    {
     "name": "stdout",
     "output_type": "stream",
     "text": [
      "\n",
      "      Epoch    GPU_mem   box_loss   cls_loss   dfl_loss  Instances       Size\n"
     ]
    },
    {
     "name": "stderr",
     "output_type": "stream",
     "text": [
      "     58/100      7.82G      1.526      1.004     0.9097         58        384: 100%|██████████| 126/126 [01:19<00:00,  1.59it/s]\n",
      "                 Class     Images  Instances      Box(P          R      mAP50  mAP50-95): 100%|██████████| 16/16 [00:07<00:00,  2.08it/s]"
     ]
    },
    {
     "name": "stdout",
     "output_type": "stream",
     "text": [
      "                   all        509       1950      0.538      0.656      0.595      0.301\n"
     ]
    },
    {
     "name": "stderr",
     "output_type": "stream",
     "text": [
      "\n"
     ]
    },
    {
     "name": "stdout",
     "output_type": "stream",
     "text": [
      "\n",
      "      Epoch    GPU_mem   box_loss   cls_loss   dfl_loss  Instances       Size\n"
     ]
    },
    {
     "name": "stderr",
     "output_type": "stream",
     "text": [
      "     59/100      8.03G      1.516      1.013     0.9062         72        384: 100%|██████████| 126/126 [01:19<00:00,  1.59it/s]\n",
      "                 Class     Images  Instances      Box(P          R      mAP50  mAP50-95): 100%|██████████| 16/16 [00:07<00:00,  2.08it/s]"
     ]
    },
    {
     "name": "stdout",
     "output_type": "stream",
     "text": [
      "                   all        509       1950      0.516      0.646      0.574      0.293\n"
     ]
    },
    {
     "name": "stderr",
     "output_type": "stream",
     "text": [
      "\n"
     ]
    },
    {
     "name": "stdout",
     "output_type": "stream",
     "text": [
      "\n",
      "      Epoch    GPU_mem   box_loss   cls_loss   dfl_loss  Instances       Size\n"
     ]
    },
    {
     "name": "stderr",
     "output_type": "stream",
     "text": [
      "     60/100      7.66G      1.517     0.9946     0.9058         34        384: 100%|██████████| 126/126 [01:19<00:00,  1.59it/s]\n",
      "                 Class     Images  Instances      Box(P          R      mAP50  mAP50-95): 100%|██████████| 16/16 [00:07<00:00,  2.09it/s]"
     ]
    },
    {
     "name": "stdout",
     "output_type": "stream",
     "text": [
      "                   all        509       1950      0.479      0.646      0.561       0.28\n"
     ]
    },
    {
     "name": "stderr",
     "output_type": "stream",
     "text": [
      "\n"
     ]
    },
    {
     "name": "stdout",
     "output_type": "stream",
     "text": [
      "\n",
      "      Epoch    GPU_mem   box_loss   cls_loss   dfl_loss  Instances       Size\n"
     ]
    },
    {
     "name": "stderr",
     "output_type": "stream",
     "text": [
      "     61/100      7.87G      1.515      1.011      0.909        100        384: 100%|██████████| 126/126 [01:19<00:00,  1.59it/s]\n",
      "                 Class     Images  Instances      Box(P          R      mAP50  mAP50-95): 100%|██████████| 16/16 [00:07<00:00,  2.08it/s]"
     ]
    },
    {
     "name": "stdout",
     "output_type": "stream",
     "text": [
      "                   all        509       1950      0.468       0.69      0.584      0.291\n"
     ]
    },
    {
     "name": "stderr",
     "output_type": "stream",
     "text": [
      "\n"
     ]
    },
    {
     "name": "stdout",
     "output_type": "stream",
     "text": [
      "\n",
      "      Epoch    GPU_mem   box_loss   cls_loss   dfl_loss  Instances       Size\n"
     ]
    },
    {
     "name": "stderr",
     "output_type": "stream",
     "text": [
      "     62/100      7.66G      1.502     0.9825     0.9007         77        384: 100%|██████████| 126/126 [01:19<00:00,  1.59it/s]\n",
      "                 Class     Images  Instances      Box(P          R      mAP50  mAP50-95): 100%|██████████| 16/16 [00:07<00:00,  2.09it/s]"
     ]
    },
    {
     "name": "stdout",
     "output_type": "stream",
     "text": [
      "                   all        509       1950      0.498      0.683      0.564      0.263\n"
     ]
    },
    {
     "name": "stderr",
     "output_type": "stream",
     "text": [
      "\n"
     ]
    },
    {
     "name": "stdout",
     "output_type": "stream",
     "text": [
      "\n",
      "      Epoch    GPU_mem   box_loss   cls_loss   dfl_loss  Instances       Size\n"
     ]
    },
    {
     "name": "stderr",
     "output_type": "stream",
     "text": [
      "     63/100      7.88G      1.499       0.99     0.9028         65        384: 100%|██████████| 126/126 [01:19<00:00,  1.59it/s]\n",
      "                 Class     Images  Instances      Box(P          R      mAP50  mAP50-95): 100%|██████████| 16/16 [00:07<00:00,  2.09it/s]"
     ]
    },
    {
     "name": "stdout",
     "output_type": "stream",
     "text": [
      "                   all        509       1950      0.464      0.691      0.582      0.281\n"
     ]
    },
    {
     "name": "stderr",
     "output_type": "stream",
     "text": [
      "\n"
     ]
    },
    {
     "name": "stdout",
     "output_type": "stream",
     "text": [
      "\n",
      "      Epoch    GPU_mem   box_loss   cls_loss   dfl_loss  Instances       Size\n"
     ]
    },
    {
     "name": "stderr",
     "output_type": "stream",
     "text": [
      "     64/100      7.83G      1.501     0.9906     0.9027         59        384: 100%|██████████| 126/126 [01:19<00:00,  1.59it/s]\n",
      "                 Class     Images  Instances      Box(P          R      mAP50  mAP50-95): 100%|██████████| 16/16 [00:07<00:00,  2.07it/s]"
     ]
    },
    {
     "name": "stdout",
     "output_type": "stream",
     "text": [
      "                   all        509       1950      0.475      0.694      0.545      0.275\n"
     ]
    },
    {
     "name": "stderr",
     "output_type": "stream",
     "text": [
      "\n"
     ]
    },
    {
     "name": "stdout",
     "output_type": "stream",
     "text": [
      "\n",
      "      Epoch    GPU_mem   box_loss   cls_loss   dfl_loss  Instances       Size\n"
     ]
    },
    {
     "name": "stderr",
     "output_type": "stream",
     "text": [
      "     65/100      8.04G      1.493     0.9795     0.9005         48        384: 100%|██████████| 126/126 [01:19<00:00,  1.59it/s]\n",
      "                 Class     Images  Instances      Box(P          R      mAP50  mAP50-95): 100%|██████████| 16/16 [00:07<00:00,  2.07it/s]"
     ]
    },
    {
     "name": "stdout",
     "output_type": "stream",
     "text": [
      "                   all        509       1950      0.474      0.708      0.573      0.285\n",
      "\u001b[34m\u001b[1mEarlyStopping: \u001b[0mTraining stopped early as no improvement observed in last 15 epochs. Best results observed at epoch 50, best model saved as best.pt.\n",
      "To update EarlyStopping(patience=15) pass a new patience value, i.e. `patience=300` or use `patience=0` to disable EarlyStopping.\n"
     ]
    },
    {
     "name": "stderr",
     "output_type": "stream",
     "text": [
      "\n"
     ]
    },
    {
     "name": "stdout",
     "output_type": "stream",
     "text": [
      "\n",
      "65 epochs completed in 1.618 hours.\n",
      "Optimizer stripped from spine_detection/Spinal_Canal_Stenosis_yolo/weights/last.pt, 114.4MB\n",
      "Optimizer stripped from spine_detection/Spinal_Canal_Stenosis_yolo/weights/best.pt, 114.4MB\n",
      "\n",
      "Validating spine_detection/Spinal_Canal_Stenosis_yolo/weights/best.pt...\n",
      "Ultralytics 8.3.31 🚀 Python-3.10.13 torch-2.1.2 CUDA:0 (Tesla P100-PCIE-16GB, 16269MiB)\n",
      "YOLO11x summary (fused): 464 layers, 56,844,349 parameters, 0 gradients, 194.5 GFLOPs\n"
     ]
    },
    {
     "name": "stderr",
     "output_type": "stream",
     "text": [
      "                 Class     Images  Instances      Box(P          R      mAP50  mAP50-95): 100%|██████████| 16/16 [00:13<00:00,  1.22it/s]\n"
     ]
    },
    {
     "name": "stdout",
     "output_type": "stream",
     "text": [
      "                   all        509       1950      0.458      0.697      0.594      0.302\n",
      "spinal_canal_stenosis_l1_l2_normal/mild        369        369      0.693      0.959      0.859      0.416\n",
      "spinal_canal_stenosis_l1_l2_moderate          9          9      0.222      0.667      0.385      0.203\n",
      "spinal_canal_stenosis_l1_l2_severe          2          2      0.158        0.5      0.606      0.159\n",
      "spinal_canal_stenosis_l2_l3_normal/mild        350        350      0.717      0.949      0.843      0.414\n",
      "spinal_canal_stenosis_l2_l3_moderate         27         27      0.222      0.333      0.298      0.176\n",
      "spinal_canal_stenosis_l2_l3_severe          8          8      0.328      0.625      0.407      0.228\n",
      "spinal_canal_stenosis_l3_l4_normal/mild        325        325      0.722      0.966      0.915      0.466\n",
      "spinal_canal_stenosis_l3_l4_moderate         43         43      0.293       0.55       0.37      0.194\n",
      "spinal_canal_stenosis_l3_l4_severe         27         27      0.528      0.741      0.568      0.294\n",
      "spinal_canal_stenosis_l4_l5_normal/mild        290        290       0.65      0.952      0.889      0.435\n",
      "spinal_canal_stenosis_l4_l5_moderate         49         49      0.312       0.49      0.412      0.231\n",
      "spinal_canal_stenosis_l4_l5_severe         56         56      0.499      0.763      0.667      0.278\n",
      "spinal_canal_stenosis_l5_s1_normal/mild        383        383      0.711      0.963      0.875      0.444\n",
      "spinal_canal_stenosis_l5_s1_moderate         10         10      0.493        0.5      0.322      0.188\n",
      "spinal_canal_stenosis_l5_s1_severe          2          2      0.323        0.5      0.496      0.397\n",
      "Speed: 0.1ms preprocess, 12.2ms inference, 0.0ms loss, 0.8ms postprocess per image\n",
      "Results saved to \u001b[1mspine_detection/Spinal_Canal_Stenosis_yolo\u001b[0m\n"
     ]
    }
   ],
   "source": [
    "from ultralytics import YOLO\n",
    "\n",
    "\n",
    "# Initialize YOLO Model\n",
    "model = YOLO('/kaggle/input/yolov11x/other/default/1/yolo11x.pt')\n",
    "            \n",
    "config = {\n",
    "    'data': \"/kaggle/working/yolo_scs.yaml\",\n",
    "    'imgsz': 384,\n",
    "    'batch': 16,\n",
    "    'epochs': 100,\n",
    "    'patience': 15,\n",
    "    'device': '0',\n",
    "    'workers': 8,\n",
    "    'project': 'spine_detection',\n",
    "    'name': 'Canal_Stenosis_yolo',\n",
    "    'exist_ok': True,\n",
    "    'pretrained': True,\n",
    "    'optimizer': 'AdamW',\n",
    "    'verbose': True,\n",
    "    'seed': 42,\n",
    "    'deterministic': True,\n",
    "    'dropout': 0.2,\n",
    "    'lr0': 0.001,\n",
    "    'lrf': 0.01,\n",
    "    'momentum': 0.937,\n",
    "    'weight_decay': 0.0005,\n",
    "    'warmup_epochs': 10,\n",
    "    'warmup_momentum': 0.8,\n",
    "    'box': 7.5,\n",
    "    'cls': 0.5,\n",
    "    'dfl': 1.5,\n",
    "    'close_mosaic': 10,\n",
    "    'amp': True,\n",
    "}\n",
    "\n",
    "results = model.train(**config)"
   ]
  },
  {
   "cell_type": "code",
   "execution_count": 54,
   "metadata": {
    "execution": {
     "iopub.execute_input": "2024-11-14T14:09:24.640106Z",
     "iopub.status.busy": "2024-11-14T14:09:24.639725Z",
     "iopub.status.idle": "2024-11-14T14:09:25.958339Z",
     "shell.execute_reply": "2024-11-14T14:09:25.957439Z",
     "shell.execute_reply.started": "2024-11-14T14:09:24.640076Z"
    },
    "trusted": true
   },
   "outputs": [
    {
     "name": "stdout",
     "output_type": "stream",
     "text": [
      "\n",
      "0: 384x352 1 spinal_canal_stenosis_l1_l2_normal/mild, 1 spinal_canal_stenosis_l2_l3_normal/mild, 1 spinal_canal_stenosis_l3_l4_severe, 1 spinal_canal_stenosis_l4_l5_severe, 1 spinal_canal_stenosis_l5_s1_normal/mild, 119.8ms\n",
      "Speed: 1.6ms preprocess, 119.8ms inference, 1.7ms postprocess per image at shape (1, 3, 384, 352)\n",
      "Results saved to \u001b[1mruns/detect/predict\u001b[0m\n"
     ]
    }
   ],
   "source": [
    "# Initialize YOLO Model\n",
    "model = YOLO(glob.glob(\"/kaggle/working/spine_detection/Spinal_Canal_Stenosis_yolo/weights/best.pt\")[0])\n",
    "out = model.predict([path], save=True, conf=0.2)\n"
   ]
  },
  {
   "cell_type": "code",
   "execution_count": 55,
   "metadata": {
    "execution": {
     "iopub.execute_input": "2024-11-14T14:09:36.347906Z",
     "iopub.status.busy": "2024-11-14T14:09:36.347547Z",
     "iopub.status.idle": "2024-11-14T14:09:36.731736Z",
     "shell.execute_reply": "2024-11-14T14:09:36.730831Z",
     "shell.execute_reply.started": "2024-11-14T14:09:36.347878Z"
    },
    "trusted": true
   },
   "outputs": [
    {
     "data": {
      "text/plain": [
       "<matplotlib.image.AxesImage at 0x7cb0691a7b20>"
      ]
     },
     "execution_count": 55,
     "metadata": {},
     "output_type": "execute_result"
    },
    {
     "data": {
      "image/png": "[encoded data removed]",
      "text/plain": [
       "<Figure size 640x480 with 1 Axes>"
      ]
     },
     "metadata": {},
     "output_type": "display_data"
    }
   ],
   "source": [
    "im = plt.imread(glob.glob(f'{out[0].save_dir}/*.jpg')[0])\n",
    "plt.imshow(im)"
   ]
  },
  {
   "cell_type": "code",
   "execution_count": 61,
   "metadata": {
    "execution": {
     "iopub.execute_input": "2024-11-14T14:51:58.686893Z",
     "iopub.status.busy": "2024-11-14T14:51:58.686407Z",
     "iopub.status.idle": "2024-11-14T14:52:10.702127Z",
     "shell.execute_reply": "2024-11-14T14:52:10.701112Z",
     "shell.execute_reply.started": "2024-11-14T14:51:58.686854Z"
    },
    "trusted": true
   },
   "outputs": [
    {
     "name": "stdout",
     "output_type": "stream",
     "text": [
      "updating: kaggle/working/spine_detection/Spinal_Canal_Stenosis_yolo/ (stored 0%)\n",
      "  adding: kaggle/working/spine_detection/Spinal_Canal_Stenosis_yolo/weights/ (stored 0%)\n",
      "  adding: kaggle/working/spine_detection/Spinal_Canal_Stenosis_yolo/weights/last.pt (deflated 8%)\n",
      "  adding: kaggle/working/spine_detection/Spinal_Canal_Stenosis_yolo/weights/best.pt (deflated 8%)\n",
      "  adding: kaggle/working/spine_detection/Spinal_Canal_Stenosis_yolo/events.out.tfevents.1731586706.84942577b8d6.34.0 (deflated 95%)\n",
      "  adding: kaggle/working/spine_detection/Spinal_Canal_Stenosis_yolo/labels_correlogram.jpg (deflated 61%)\n",
      "  adding: kaggle/working/spine_detection/Spinal_Canal_Stenosis_yolo/PR_curve.png (deflated 9%)\n",
      "  adding: kaggle/working/spine_detection/Spinal_Canal_Stenosis_yolo/confusion_matrix_normalized.png (deflated 14%)\n",
      "  adding: kaggle/working/spine_detection/Spinal_Canal_Stenosis_yolo/args.yaml (deflated 52%)\n",
      "  adding: kaggle/working/spine_detection/Spinal_Canal_Stenosis_yolo/confusion_matrix.png (deflated 16%)\n",
      "  adding: kaggle/working/spine_detection/Spinal_Canal_Stenosis_yolo/val_batch1_pred.jpg (deflated 8%)\n",
      "  adding: kaggle/working/spine_detection/Spinal_Canal_Stenosis_yolo/val_batch1_labels.jpg (deflated 9%)\n",
      "  adding: kaggle/working/spine_detection/Spinal_Canal_Stenosis_yolo/F1_curve.png (deflated 6%)\n",
      "  adding: kaggle/working/spine_detection/Spinal_Canal_Stenosis_yolo/val_batch0_labels.jpg (deflated 9%)\n",
      "  adding: kaggle/working/spine_detection/Spinal_Canal_Stenosis_yolo/train_batch2.jpg (deflated 4%)\n",
      "  adding: kaggle/working/spine_detection/Spinal_Canal_Stenosis_yolo/results.csv (deflated 69%)\n",
      "  adding: kaggle/working/spine_detection/Spinal_Canal_Stenosis_yolo/results.png (deflated 5%)\n",
      "  adding: kaggle/working/spine_detection/Spinal_Canal_Stenosis_yolo/train_batch1.jpg (deflated 6%)\n",
      "  adding: kaggle/working/spine_detection/Spinal_Canal_Stenosis_yolo/train_batch0.jpg (deflated 4%)\n",
      "  adding: kaggle/working/spine_detection/Spinal_Canal_Stenosis_yolo/events.out.tfevents.1731586788.84942577b8d6.34.1 (deflated 92%)\n",
      "  adding: kaggle/working/spine_detection/Spinal_Canal_Stenosis_yolo/val_batch2_pred.jpg (deflated 9%)\n",
      "  adding: kaggle/working/spine_detection/Spinal_Canal_Stenosis_yolo/P_curve.png (deflated 6%)\n",
      "  adding: kaggle/working/spine_detection/Spinal_Canal_Stenosis_yolo/R_curve.png (deflated 7%)\n",
      "  adding: kaggle/working/spine_detection/Spinal_Canal_Stenosis_yolo/labels.jpg (deflated 24%)\n",
      "  adding: kaggle/working/spine_detection/Spinal_Canal_Stenosis_yolo/events.out.tfevents.1731580359.c988711d0219.34.0 (deflated 94%)\n",
      "  adding: kaggle/working/spine_detection/Spinal_Canal_Stenosis_yolo/val_batch0_pred.jpg (deflated 8%)\n",
      "  adding: kaggle/working/spine_detection/Spinal_Canal_Stenosis_yolo/val_batch2_labels.jpg (deflated 9%)\n"
     ]
    }
   ],
   "source": [
    "!zip -r /kaggle/working/Canal_Stenosis_yolo.zip /kaggle/working/spine_detection/Spinal_Canal_Stenosis_yolo"
   ]
  }
 ],
 "metadata": {
  "kaggle": {
   "accelerator": "gpu",
   "dataSources": [
    {
     "databundleVersionId": 8561470,
     "sourceId": 71549,
     "sourceType": "competition"
    },
    {
     "datasetId": 5559249,
     "sourceId": 9195731,
     "sourceType": "datasetVersion"
    },
    {
     "sourceId": 193161758,
     "sourceType": "kernelVersion"
    },
    {
     "sourceId": 193298353,
     "sourceType": "kernelVersion"
    },
    {
     "modelId": 164236,
     "modelInstanceId": 141655,
     "sourceId": 166474,
     "sourceType": "modelInstanceVersion"
    }
   ],
   "dockerImageVersionId": 30747,
   "isGpuEnabled": true,
   "isInternetEnabled": true,
   "language": "python",
   "sourceType": "notebook"
  },
  "kernelspec": {
   "display_name": "Python 3",
   "language": "python",
   "name": "python3"
  },
  "language_info": {
   "codemirror_mode": {
    "name": "ipython",
    "version": 3
   },
   "file_extension": ".py",
   "mimetype": "text/x-python",
   "name": "python",
   "nbconvert_exporter": "python",
   "pygments_lexer": "ipython3",
   "version": "3.10.13"
  }
 },
 "nbformat": 4,
 "nbformat_minor": 4
}
